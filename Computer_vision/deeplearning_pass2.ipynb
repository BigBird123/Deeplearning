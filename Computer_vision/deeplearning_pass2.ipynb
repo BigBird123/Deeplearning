{
  "nbformat": 4,
  "nbformat_minor": 0,
  "metadata": {
    "colab": {
      "name": "deeplearning 2.ipynb",
      "provenance": [],
      "collapsed_sections": []
    },
    "kernelspec": {
      "name": "python3",
      "display_name": "Python 3"
    },
    "accelerator": "GPU"
  },
  "cells": [
    {
      "cell_type": "code",
      "metadata": {
        "id": "BAQDQ68ZD6UR",
        "colab_type": "code",
        "colab": {
          "base_uri": "https://localhost:8080/",
          "height": 129
        },
        "outputId": "7e249adf-982d-4a89-a7d6-38e32e7d7fd3"
      },
      "source": [
        "from google.colab import drive\n",
        "drive.mount('/content/drive')"
      ],
      "execution_count": null,
      "outputs": [
        {
          "output_type": "stream",
          "text": [
            "Go to this URL in a browser: https://accounts.google.com/o/oauth2/auth?client_id=947318989803-6bn6qk8qdgf4n4g3pfee6491hc0brc4i.apps.googleusercontent.com&redirect_uri=urn%3aietf%3awg%3aoauth%3a2.0%3aoob&response_type=code&scope=email%20https%3a%2f%2fwww.googleapis.com%2fauth%2fdocs.test%20https%3a%2f%2fwww.googleapis.com%2fauth%2fdrive%20https%3a%2f%2fwww.googleapis.com%2fauth%2fdrive.photos.readonly%20https%3a%2f%2fwww.googleapis.com%2fauth%2fpeopleapi.readonly\n",
            "\n",
            "Enter your authorization code:\n",
            "··········\n",
            "Mounted at /content/drive\n"
          ],
          "name": "stdout"
        }
      ]
    },
    {
      "cell_type": "code",
      "metadata": {
        "id": "K_14HQzKEEkZ",
        "colab_type": "code",
        "colab": {}
      },
      "source": [
        "from tensorflow import keras"
      ],
      "execution_count": null,
      "outputs": []
    },
    {
      "cell_type": "code",
      "metadata": {
        "id": "CYcdbUIvESRH",
        "colab_type": "code",
        "colab": {
          "base_uri": "https://localhost:8080/",
          "height": 164
        },
        "outputId": "8fa8d786-b633-471c-a6f1-2874fc040b14"
      },
      "source": [
        "from __future__ import absolute_import, division, print_function, unicode_literals\n",
        "\n",
        "# TensorFlow and tf.keras\n",
        "import tensorflow as tf\n",
        "from tensorflow import keras\n",
        "\n",
        "# Helper libraries\n",
        "import numpy as np\n",
        "import matplotlib.pyplot as plt\n",
        "mnist = tf.keras.datasets.mnist\n",
        "\n",
        "fashion_mnist = keras.datasets.fashion_mnist\n",
        "\n",
        "(train_images, train_labels), (test_images, test_labels) = fashion_mnist.load_data()"
      ],
      "execution_count": null,
      "outputs": [
        {
          "output_type": "stream",
          "text": [
            "Downloading data from https://storage.googleapis.com/tensorflow/tf-keras-datasets/train-labels-idx1-ubyte.gz\n",
            "32768/29515 [=================================] - 0s 0us/step\n",
            "Downloading data from https://storage.googleapis.com/tensorflow/tf-keras-datasets/train-images-idx3-ubyte.gz\n",
            "26427392/26421880 [==============================] - 0s 0us/step\n",
            "Downloading data from https://storage.googleapis.com/tensorflow/tf-keras-datasets/t10k-labels-idx1-ubyte.gz\n",
            "8192/5148 [===============================================] - 0s 0us/step\n",
            "Downloading data from https://storage.googleapis.com/tensorflow/tf-keras-datasets/t10k-images-idx3-ubyte.gz\n",
            "4423680/4422102 [==============================] - 0s 0us/step\n"
          ],
          "name": "stdout"
        }
      ]
    },
    {
      "cell_type": "code",
      "metadata": {
        "id": "8qqL6i31ElYo",
        "colab_type": "code",
        "colab": {
          "base_uri": "https://localhost:8080/",
          "height": 283
        },
        "outputId": "fc7aa39d-08d4-4fe4-faf1-8d72124a5829"
      },
      "source": [
        "plt.imshow(train_images[30])"
      ],
      "execution_count": null,
      "outputs": [
        {
          "output_type": "execute_result",
          "data": {
            "text/plain": [
              "<matplotlib.image.AxesImage at 0x7f00818cd198>"
            ]
          },
          "metadata": {
            "tags": []
          },
          "execution_count": 5
        },
        {
          "output_type": "display_data",
          "data": {
            "image/png": "[encoded data removed]",
            "text/plain": [
              "<Figure size 432x288 with 1 Axes>"
            ]
          },
          "metadata": {
            "tags": [],
            "needs_background": "light"
          }
        }
      ]
    },
    {
      "cell_type": "code",
      "metadata": {
        "id": "iD7gxZA5FVIB",
        "colab_type": "code",
        "colab": {}
      },
      "source": [
        "result = [[None for _ in range(3)]for _ in range(3)]"
      ],
      "execution_count": null,
      "outputs": []
    },
    {
      "cell_type": "code",
      "metadata": {
        "id": "wM0_HSyMFmgP",
        "colab_type": "code",
        "colab": {
          "base_uri": "https://localhost:8080/",
          "height": 35
        },
        "outputId": "e97aefba-b1ef-4145-e68b-288502bcdf9a"
      },
      "source": [
        "result"
      ],
      "execution_count": null,
      "outputs": [
        {
          "output_type": "execute_result",
          "data": {
            "text/plain": [
              "[[None, None, None], [None, None, None], [None, None, None]]"
            ]
          },
          "metadata": {
            "tags": []
          },
          "execution_count": 7
        }
      ]
    },
    {
      "cell_type": "code",
      "metadata": {
        "id": "_OjxPb3tFzk_",
        "colab_type": "code",
        "colab": {}
      },
      "source": [
        "for  i in range (14,17):\n",
        "  for j in range(0,3):\n",
        "    result[i-14][j] = train_images[30][i][j]"
      ],
      "execution_count": null,
      "outputs": []
    },
    {
      "cell_type": "code",
      "metadata": {
        "id": "t8Ra2Or_Gdj-",
        "colab_type": "code",
        "colab": {
          "base_uri": "https://localhost:8080/",
          "height": 35
        },
        "outputId": "9f8814b2-36b2-42a5-ce32-2e322a4ae1d8"
      },
      "source": [
        "result"
      ],
      "execution_count": null,
      "outputs": [
        {
          "output_type": "execute_result",
          "data": {
            "text/plain": [
              "[[51, 43, 27], [137, 202, 133], [0, 110, 186]]"
            ]
          },
          "metadata": {
            "tags": []
          },
          "execution_count": 9
        }
      ]
    },
    {
      "cell_type": "code",
      "metadata": {
        "id": "7dfMLFvXGftJ",
        "colab_type": "code",
        "colab": {}
      },
      "source": [
        "filter = [\n",
        "          [-1,0,1],\n",
        "          [-2,0,2],\n",
        "          [-1,0,1]\n",
        "]"
      ],
      "execution_count": null,
      "outputs": []
    },
    {
      "cell_type": "code",
      "metadata": {
        "id": "qjMQP6zlHKQ8",
        "colab_type": "code",
        "colab": {}
      },
      "source": [
        "aSum = 0\n",
        "for i in range(3):\n",
        "  for j in range(3):\n",
        "    aSum += filter[i][j] * result[i][j]"
      ],
      "execution_count": null,
      "outputs": []
    },
    {
      "cell_type": "code",
      "metadata": {
        "id": "PFK0YImmHhqq",
        "colab_type": "code",
        "colab": {
          "base_uri": "https://localhost:8080/",
          "height": 35
        },
        "outputId": "b071de02-5c77-4a2b-90be-f50e4f9ba6f1"
      },
      "source": [
        "aSum"
      ],
      "execution_count": null,
      "outputs": [
        {
          "output_type": "execute_result",
          "data": {
            "text/plain": [
              "154"
            ]
          },
          "metadata": {
            "tags": []
          },
          "execution_count": 13
        }
      ]
    },
    {
      "cell_type": "code",
      "metadata": {
        "id": "ftb1j7l1Hic_",
        "colab_type": "code",
        "colab": {}
      },
      "source": [
        "link = \"https://cdn.shopify.com/s/files/1/1297/3303/products/20-vinyl-roll-up-chess-board-21184102209_grande.jpg?v=1575932012\""
      ],
      "execution_count": null,
      "outputs": []
    },
    {
      "cell_type": "code",
      "metadata": {
        "id": "SQpSEBNESckm",
        "colab_type": "code",
        "colab": {
          "base_uri": "https://localhost:8080/",
          "height": 202
        },
        "outputId": "ac7503d9-c3fa-4fdf-f8d4-ad2bb515d38a"
      },
      "source": [
        "!pip install wget"
      ],
      "execution_count": null,
      "outputs": [
        {
          "output_type": "stream",
          "text": [
            "Collecting wget\n",
            "  Downloading https://files.pythonhosted.org/packages/47/6a/62e288da7bcda82b935ff0c6cfe542970f04e29c756b0e147251b2fb251f/wget-3.2.zip\n",
            "Building wheels for collected packages: wget\n",
            "  Building wheel for wget (setup.py) ... \u001b[?25l\u001b[?25hdone\n",
            "  Created wheel for wget: filename=wget-3.2-cp36-none-any.whl size=9682 sha256=fba7321f8b2b43421b094d17cdc1ab6af187c82efa57aaa20caa9b269c899672\n",
            "  Stored in directory: /root/.cache/pip/wheels/40/15/30/7d8f7cea2902b4db79e3fea550d7d7b85ecb27ef992b618f3f\n",
            "Successfully built wget\n",
            "Installing collected packages: wget\n",
            "Successfully installed wget-3.2\n"
          ],
          "name": "stdout"
        }
      ]
    },
    {
      "cell_type": "code",
      "metadata": {
        "id": "R-dhvv2vSfeA",
        "colab_type": "code",
        "colab": {}
      },
      "source": [
        "import wget # thư viện dowload define bất kì về máy"
      ],
      "execution_count": null,
      "outputs": []
    },
    {
      "cell_type": "code",
      "metadata": {
        "id": "t7jU_QoNS6pA",
        "colab_type": "code",
        "colab": {
          "base_uri": "https://localhost:8080/",
          "height": 35
        },
        "outputId": "57ea0899-983a-4efe-bf48-bd3dc484abd9"
      },
      "source": [
        "wget.download(link)"
      ],
      "execution_count": null,
      "outputs": [
        {
          "output_type": "execute_result",
          "data": {
            "text/plain": [
              "'20-vinyl-roll-up-chess-board-21184102209_grande.jpg'"
            ]
          },
          "metadata": {
            "tags": []
          },
          "execution_count": 6
        }
      ]
    },
    {
      "cell_type": "code",
      "metadata": {
        "id": "LDRka5cbTKXV",
        "colab_type": "code",
        "colab": {}
      },
      "source": [
        "import cv2 #opencv"
      ],
      "execution_count": null,
      "outputs": []
    },
    {
      "cell_type": "code",
      "metadata": {
        "id": "ObIkR9a5TR5v",
        "colab_type": "code",
        "colab": {
          "base_uri": "https://localhost:8080/",
          "height": 917
        },
        "outputId": "1011ff0f-2461-4680-fd8d-819ea62c9a03"
      },
      "source": [
        "image = cv2.imread('20-vinyl-roll-up-chess-board-21184102209_grande.jpg')\n",
        "image"
      ],
      "execution_count": null,
      "outputs": [
        {
          "output_type": "execute_result",
          "data": {
            "text/plain": [
              "array([[[187, 186, 190],\n",
              "        [203, 202, 206],\n",
              "        [190, 189, 193],\n",
              "        ...,\n",
              "        [ 34,  31,  33],\n",
              "        [ 35,  32,  34],\n",
              "        [ 36,  33,  35]],\n",
              "\n",
              "       [[198, 197, 201],\n",
              "        [213, 212, 216],\n",
              "        [201, 200, 204],\n",
              "        ...,\n",
              "        [ 33,  30,  32],\n",
              "        [ 34,  31,  33],\n",
              "        [ 35,  32,  34]],\n",
              "\n",
              "       [[186, 185, 189],\n",
              "        [201, 200, 204],\n",
              "        [189, 188, 192],\n",
              "        ...,\n",
              "        [ 31,  28,  30],\n",
              "        [ 32,  29,  31],\n",
              "        [ 33,  30,  32]],\n",
              "\n",
              "       ...,\n",
              "\n",
              "       [[211, 210, 214],\n",
              "        [236, 235, 239],\n",
              "        [220, 219, 223],\n",
              "        ...,\n",
              "        [213, 209, 214],\n",
              "        [217, 213, 218],\n",
              "        [223, 219, 224]],\n",
              "\n",
              "       [[214, 213, 217],\n",
              "        [239, 238, 242],\n",
              "        [223, 222, 226],\n",
              "        ...,\n",
              "        [221, 217, 222],\n",
              "        [224, 220, 225],\n",
              "        [231, 227, 232]],\n",
              "\n",
              "       [[217, 216, 220],\n",
              "        [242, 241, 245],\n",
              "        [226, 225, 229],\n",
              "        ...,\n",
              "        [227, 223, 228],\n",
              "        [230, 226, 231],\n",
              "        [237, 233, 238]]], dtype=uint8)"
            ]
          },
          "metadata": {
            "tags": []
          },
          "execution_count": 9
        }
      ]
    },
    {
      "cell_type": "code",
      "metadata": {
        "id": "lgVBZE_hTZsF",
        "colab_type": "code",
        "colab": {}
      },
      "source": [
        "grey = cv2.cvtColor(image, cv2.COLOR_RGB2GRAY)"
      ],
      "execution_count": null,
      "outputs": []
    },
    {
      "cell_type": "code",
      "metadata": {
        "id": "MkVlPbXkTqAD",
        "colab_type": "code",
        "colab": {
          "base_uri": "https://localhost:8080/",
          "height": 287
        },
        "outputId": "f71dd60d-1067-46b6-ca33-edf7a8cafbd5"
      },
      "source": [
        "import matplotlib.pyplot as plt\n",
        "\n",
        "plt.gray()\n",
        "plt.imshow(grey)"
      ],
      "execution_count": null,
      "outputs": [
        {
          "output_type": "execute_result",
          "data": {
            "text/plain": [
              "<matplotlib.image.AxesImage at 0x7f9964378c88>"
            ]
          },
          "metadata": {
            "tags": []
          },
          "execution_count": 16
        },
        {
          "output_type": "display_data",
          "data": {
            "image/png": "[encoded data removed]",
            "text/plain": [
              "<Figure size 432x288 with 1 Axes>"
            ]
          },
          "metadata": {
            "tags": [],
            "needs_background": "light"
          }
        }
      ]
    },
    {
      "cell_type": "code",
      "metadata": {
        "id": "HZhslkRzUN-Y",
        "colab_type": "code",
        "colab": {}
      },
      "source": [
        "filter = [\n",
        "          [-1,0,1],\n",
        "          [-2,0,2],\n",
        "          [-1,0,1]\n",
        "]"
      ],
      "execution_count": null,
      "outputs": []
    },
    {
      "cell_type": "code",
      "metadata": {
        "id": "i68_ELQmW1Sb",
        "colab_type": "code",
        "colab": {}
      },
      "source": [
        "m = len(grey)\n",
        "n = len(grey[0])"
      ],
      "execution_count": null,
      "outputs": []
    },
    {
      "cell_type": "code",
      "metadata": {
        "id": "M7cKSu6lXIGX",
        "colab_type": "code",
        "colab": {
          "base_uri": "https://localhost:8080/",
          "height": 54
        },
        "outputId": "7563c53d-eb68-4b73-ab31-63795e24383b"
      },
      "source": [
        "print(m)\n",
        "print(n) # vkisch thuoc buc anh"
      ],
      "execution_count": null,
      "outputs": [
        {
          "output_type": "stream",
          "text": [
            "499\n",
            "500\n"
          ],
          "name": "stdout"
        }
      ]
    },
    {
      "cell_type": "code",
      "metadata": {
        "id": "yL1nXCyUXKjH",
        "colab_type": "code",
        "colab": {}
      },
      "source": [
        "import numpy as np\n",
        "transformed = np.copy(grey)"
      ],
      "execution_count": null,
      "outputs": []
    },
    {
      "cell_type": "code",
      "metadata": {
        "id": "Qo66bQSWXdGl",
        "colab_type": "code",
        "colab": {}
      },
      "source": [
        "for i in range(1,m-1):\n",
        "  for j in range(1,n-1):\n",
        "    center_pixel = (i,j)\n",
        "    center_filter = (1,1)\n",
        "    xs = [1,1,1,-1,-1,-1,0,0]\n",
        "    ys = [1,-1,0,0,-1,1,-1,1]\n",
        "\n",
        "    for k in range(8):\n",
        "      new_x = center_pixel[0]+xs[k]  # tifm toa độ xung quanh bức ảnh\n",
        "      new_y = center_pixel[1]+ys[k]\n",
        "\n",
        "      #TỌA ĐỘ FILTER\n",
        "      filter_new_x = center_filter[0] + xs[k]\n",
        "      filter_new_y = center_filter[1] + ys[k]\n",
        "\n",
        "      #gía trị của tổng tất cả phép nhân\n",
        "\n",
        "      new_val = grey[new_x][new_y] * filter[filter_new_x][filter_new_y]\n",
        "      # nhân 8 điểm trước rồi nhân ở giữa.\n",
        "    new_val += grey[i][j] * filter[1][1]  \n",
        "    transformed[i][j] = new_val\n",
        "\n",
        "    if new_val < 0 :\n",
        "      new_val = 0\n",
        "\n",
        "    if new_val > 255.0:\n",
        "      new_val = 255.0"
      ],
      "execution_count": null,
      "outputs": []
    },
    {
      "cell_type": "code",
      "metadata": {
        "id": "_BbxaVS4aMjz",
        "colab_type": "code",
        "colab": {
          "base_uri": "https://localhost:8080/",
          "height": 287
        },
        "outputId": "c276d15f-8860-4f07-8b3c-d90d326d2dea"
      },
      "source": [
        "plt.imshow(transformed)"
      ],
      "execution_count": null,
      "outputs": [
        {
          "output_type": "execute_result",
          "data": {
            "text/plain": [
              "<matplotlib.image.AxesImage at 0x7f9963982ba8>"
            ]
          },
          "metadata": {
            "tags": []
          },
          "execution_count": 41
        },
        {
          "output_type": "display_data",
          "data": {
            "image/png": "[encoded data removed]",
            "text/plain": [
              "<Figure size 432x288 with 1 Axes>"
            ]
          },
          "metadata": {
            "tags": [],
            "needs_background": "light"
          }
        }
      ]
    },
    {
      "cell_type": "code",
      "metadata": {
        "id": "ytVeGWtEauK-",
        "colab_type": "code",
        "colab": {}
      },
      "source": [
        ""
      ],
      "execution_count": null,
      "outputs": []
    },
    {
      "cell_type": "code",
      "metadata": {
        "id": "jffDOIuVghza",
        "colab_type": "code",
        "colab": {}
      },
      "source": [
        ""
      ],
      "execution_count": null,
      "outputs": []
    }
  ]
}