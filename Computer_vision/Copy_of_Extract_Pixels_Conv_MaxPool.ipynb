{
  "nbformat": 4,
  "nbformat_minor": 0,
  "metadata": {
    "colab": {
      "name": "Copy of Extract Pixels + Conv + MaxPool.ipynb",
      "provenance": [],
      "collapsed_sections": []
    },
    "kernelspec": {
      "name": "python3",
      "display_name": "Python 3"
    },
    "accelerator": "GPU"
  },
  "cells": [
    {
      "cell_type": "code",
      "metadata": {
        "id": "oy4hmAJdD3DQ",
        "colab_type": "code",
        "colab": {}
      },
      "source": [
        "from tensorflow import keras\n",
        "fashion_mnist = keras.datasets.fashion_mnist"
      ],
      "execution_count": null,
      "outputs": []
    },
    {
      "cell_type": "code",
      "metadata": {
        "id": "8kFeAPz0EKYT",
        "colab_type": "code",
        "colab": {
          "base_uri": "https://localhost:8080/",
          "height": 153
        },
        "outputId": "b48e1743-068c-4708-80a2-5045a394979c"
      },
      "source": [
        "(train_images, train_labels), (test_images, test_labels) = fashion_mnist.load_data()"
      ],
      "execution_count": null,
      "outputs": [
        {
          "output_type": "stream",
          "text": [
            "Downloading data from https://storage.googleapis.com/tensorflow/tf-keras-datasets/train-labels-idx1-ubyte.gz\n",
            "32768/29515 [=================================] - 0s 0us/step\n",
            "Downloading data from https://storage.googleapis.com/tensorflow/tf-keras-datasets/train-images-idx3-ubyte.gz\n",
            "26427392/26421880 [==============================] - 0s 0us/step\n",
            "Downloading data from https://storage.googleapis.com/tensorflow/tf-keras-datasets/t10k-labels-idx1-ubyte.gz\n",
            "8192/5148 [===============================================] - 0s 0us/step\n",
            "Downloading data from https://storage.googleapis.com/tensorflow/tf-keras-datasets/t10k-images-idx3-ubyte.gz\n",
            "4423680/4422102 [==============================] - 0s 0us/step\n"
          ],
          "name": "stdout"
        }
      ]
    },
    {
      "cell_type": "code",
      "metadata": {
        "id": "NVn3lMkhEQKd",
        "colab_type": "code",
        "colab": {}
      },
      "source": [
        "import matplotlib.pyplot as plt"
      ],
      "execution_count": null,
      "outputs": []
    },
    {
      "cell_type": "code",
      "metadata": {
        "id": "L_-ARgJXFAe8",
        "colab_type": "code",
        "colab": {
          "base_uri": "https://localhost:8080/",
          "height": 282
        },
        "outputId": "a603a40f-9724-478a-a6c1-55f74079ff66"
      },
      "source": [
        "plt.imshow(train_images[30])"
      ],
      "execution_count": null,
      "outputs": [
        {
          "output_type": "execute_result",
          "data": {
            "text/plain": [
              "<matplotlib.image.AxesImage at 0x7fe6ca9cb7f0>"
            ]
          },
          "metadata": {
            "tags": []
          },
          "execution_count": 5
        },
        {
          "output_type": "display_data",
          "data": {
            "image/png": "[encoded data removed]",
            "text/plain": [
              "<Figure size 432x288 with 1 Axes>"
            ]
          },
          "metadata": {
            "tags": [],
            "needs_background": "light"
          }
        }
      ]
    },
    {
      "cell_type": "code",
      "metadata": {
        "id": "dzmxmnUWFFgp",
        "colab_type": "code",
        "colab": {}
      },
      "source": [
        "result = [[None for _ in range(3)] for _ in range(3)]"
      ],
      "execution_count": null,
      "outputs": []
    },
    {
      "cell_type": "code",
      "metadata": {
        "id": "SHj0OLg1FeYh",
        "colab_type": "code",
        "colab": {
          "base_uri": "https://localhost:8080/",
          "height": 34
        },
        "outputId": "84fc15d4-ed74-4ba9-fd92-ef7a7e68ac33"
      },
      "source": [
        "result"
      ],
      "execution_count": null,
      "outputs": [
        {
          "output_type": "execute_result",
          "data": {
            "text/plain": [
              "[[None, None, None], [None, None, None], [None, None, None]]"
            ]
          },
          "metadata": {
            "tags": []
          },
          "execution_count": 7
        }
      ]
    },
    {
      "cell_type": "code",
      "metadata": {
        "id": "Ppp7gZbnFvJv",
        "colab_type": "code",
        "colab": {}
      },
      "source": [
        "for i in range(14, 17):\n",
        "  for j in range(0, 3):\n",
        "    result[i-14][j] = train_images[30][i][j]"
      ],
      "execution_count": null,
      "outputs": []
    },
    {
      "cell_type": "code",
      "metadata": {
        "id": "BgWFFbjzGcmj",
        "colab_type": "code",
        "colab": {
          "base_uri": "https://localhost:8080/",
          "height": 34
        },
        "outputId": "1c75643f-9688-4d89-cd55-44c583087fd1"
      },
      "source": [
        "result"
      ],
      "execution_count": null,
      "outputs": [
        {
          "output_type": "execute_result",
          "data": {
            "text/plain": [
              "[[51, 43, 27], [137, 202, 133], [0, 110, 186]]"
            ]
          },
          "metadata": {
            "tags": []
          },
          "execution_count": 9
        }
      ]
    },
    {
      "cell_type": "code",
      "metadata": {
        "id": "9xk7_9FlGdnC",
        "colab_type": "code",
        "colab": {}
      },
      "source": [
        "filter = [\n",
        "          [-1, 0, 1],\n",
        "          [-2, 0, 2],\n",
        "          [-1, 0, 1]\n",
        "]"
      ],
      "execution_count": null,
      "outputs": []
    },
    {
      "cell_type": "code",
      "metadata": {
        "id": "fr0HmvMaHFvs",
        "colab_type": "code",
        "colab": {}
      },
      "source": [
        "aSum = 0\n",
        "for i in range(3):\n",
        "  for j in range(3):\n",
        "    aSum += filter[i][j] * result[i][j]"
      ],
      "execution_count": null,
      "outputs": []
    },
    {
      "cell_type": "code",
      "metadata": {
        "id": "CAS2CEQ-HbmR",
        "colab_type": "code",
        "colab": {
          "base_uri": "https://localhost:8080/",
          "height": 34
        },
        "outputId": "f508af72-370a-4051-bf5f-5c6843b79b6f"
      },
      "source": [
        "aSum"
      ],
      "execution_count": null,
      "outputs": [
        {
          "output_type": "execute_result",
          "data": {
            "text/plain": [
              "154"
            ]
          },
          "metadata": {
            "tags": []
          },
          "execution_count": 12
        }
      ]
    },
    {
      "cell_type": "code",
      "metadata": {
        "id": "oamidgsLHcWY",
        "colab_type": "code",
        "colab": {}
      },
      "source": [
        "link = \"https://cdn.shopify.com/s/files/1/1297/3303/products/20-vinyl-roll-up-chess-board-21184102209_grande.jpg?v=1575932012\"\n"
      ],
      "execution_count": null,
      "outputs": []
    },
    {
      "cell_type": "code",
      "metadata": {
        "id": "IwgdA_1MSZzL",
        "colab_type": "code",
        "colab": {
          "base_uri": "https://localhost:8080/",
          "height": 170
        },
        "outputId": "96d64ccb-7c39-4151-c75b-d0fb03db7dfe"
      },
      "source": [
        "!pip install wget"
      ],
      "execution_count": null,
      "outputs": [
        {
          "output_type": "stream",
          "text": [
            "Collecting wget\n",
            "  Downloading https://files.pythonhosted.org/packages/47/6a/62e288da7bcda82b935ff0c6cfe542970f04e29c756b0e147251b2fb251f/wget-3.2.zip\n",
            "Building wheels for collected packages: wget\n",
            "  Building wheel for wget (setup.py) ... \u001b[?25l\u001b[?25hdone\n",
            "  Created wheel for wget: filename=wget-3.2-cp36-none-any.whl size=9682 sha256=27fa31a125b3692872d2ecf1d69e0f152ba2fca2168ff7c20af9ed22a2363968\n",
            "  Stored in directory: /root/.cache/pip/wheels/40/15/30/7d8f7cea2902b4db79e3fea550d7d7b85ecb27ef992b618f3f\n",
            "Successfully built wget\n",
            "Installing collected packages: wget\n",
            "Successfully installed wget-3.2\n"
          ],
          "name": "stdout"
        }
      ]
    },
    {
      "cell_type": "code",
      "metadata": {
        "id": "kd7i7sdSSpql",
        "colab_type": "code",
        "colab": {}
      },
      "source": [
        "import wget"
      ],
      "execution_count": null,
      "outputs": []
    },
    {
      "cell_type": "code",
      "metadata": {
        "id": "WORQs_v1Ss7q",
        "colab_type": "code",
        "colab": {
          "base_uri": "https://localhost:8080/",
          "height": 34
        },
        "outputId": "97a58db8-2ccb-4bb1-bd5e-e2de2694963f"
      },
      "source": [
        "wget.download(link)"
      ],
      "execution_count": null,
      "outputs": [
        {
          "output_type": "execute_result",
          "data": {
            "text/plain": [
              "'20-vinyl-roll-up-chess-board-21184102209_grande.jpg'"
            ]
          },
          "metadata": {
            "tags": []
          },
          "execution_count": 16
        }
      ]
    },
    {
      "cell_type": "code",
      "metadata": {
        "id": "2dxcUTfgTGpm",
        "colab_type": "code",
        "colab": {}
      },
      "source": [
        "import cv2"
      ],
      "execution_count": null,
      "outputs": []
    },
    {
      "cell_type": "code",
      "metadata": {
        "id": "OtCinkOqTOgx",
        "colab_type": "code",
        "colab": {}
      },
      "source": [
        "image = cv2.imread('20-vinyl-roll-up-chess-board-21184102209_grande.jpg')"
      ],
      "execution_count": null,
      "outputs": []
    },
    {
      "cell_type": "code",
      "metadata": {
        "id": "3lljSxNlTVRV",
        "colab_type": "code",
        "colab": {
          "base_uri": "https://localhost:8080/",
          "height": 136
        },
        "outputId": "bc02922b-321f-4e7e-e512-746c7b67ff0a"
      },
      "source": [
        "grey = cv2.cvtColor(image, cv2.COLOR_RGB2GRAY)\n",
        "print(grey,grey.shape)"
      ],
      "execution_count": null,
      "outputs": [
        {
          "output_type": "stream",
          "text": [
            "[[187 203 190 ...  32  33  34]\n",
            " [198 213 201 ...  31  32  33]\n",
            " [186 201 189 ...  29  30  31]\n",
            " ...\n",
            " [211 236 220 ... 211 215 221]\n",
            " [214 239 223 ... 219 222 229]\n",
            " [217 242 226 ... 225 228 235]] (499, 500)\n"
          ],
          "name": "stdout"
        }
      ]
    },
    {
      "cell_type": "code",
      "metadata": {
        "id": "jCTQf0SbTil2",
        "colab_type": "code",
        "colab": {
          "base_uri": "https://localhost:8080/",
          "height": 286
        },
        "outputId": "fc2b8dba-d54d-40aa-d73b-33d5618ec29a"
      },
      "source": [
        "import matplotlib.pyplot as plt\n",
        "\n",
        "plt.gray()\n",
        "plt.imshow(grey)"
      ],
      "execution_count": null,
      "outputs": [
        {
          "output_type": "execute_result",
          "data": {
            "text/plain": [
              "<matplotlib.image.AxesImage at 0x7fe6c07dfc50>"
            ]
          },
          "metadata": {
            "tags": []
          },
          "execution_count": 22
        },
        {
          "output_type": "display_data",
          "data": {
            "image/png": "[encoded data removed]",
            "text/plain": [
              "<Figure size 432x288 with 1 Axes>"
            ]
          },
          "metadata": {
            "tags": [],
            "needs_background": "light"
          }
        }
      ]
    },
    {
      "cell_type": "code",
      "metadata": {
        "id": "mjRCLyIpTo1s",
        "colab_type": "code",
        "colab": {}
      },
      "source": [
        "filter = [\n",
        "      [-1, 0, 1],\n",
        "      [-2, 0, 2],\n",
        "      [-1, 0, 1]\n",
        "]"
      ],
      "execution_count": null,
      "outputs": []
    },
    {
      "cell_type": "code",
      "metadata": {
        "id": "aeFsAv44Wrsn",
        "colab_type": "code",
        "colab": {}
      },
      "source": [
        "m = len(grey)\n",
        "n = len(grey[0])"
      ],
      "execution_count": null,
      "outputs": []
    },
    {
      "cell_type": "code",
      "metadata": {
        "id": "Rc0tIWWqW10F",
        "colab_type": "code",
        "colab": {
          "base_uri": "https://localhost:8080/",
          "height": 51
        },
        "outputId": "3d79a99a-dc65-4498-f518-f670bc194fe8"
      },
      "source": [
        "print(m)\n",
        "print(n)"
      ],
      "execution_count": null,
      "outputs": [
        {
          "output_type": "stream",
          "text": [
            "499\n",
            "500\n"
          ],
          "name": "stdout"
        }
      ]
    },
    {
      "cell_type": "code",
      "metadata": {
        "id": "6h0HLqpiW-Uf",
        "colab_type": "code",
        "colab": {}
      },
      "source": [
        "import numpy as np\n",
        "transformed = np.copy(grey)"
      ],
      "execution_count": null,
      "outputs": []
    },
    {
      "cell_type": "code",
      "metadata": {
        "id": "SxtDttkBXN8t",
        "colab_type": "code",
        "colab": {}
      },
      "source": [
        "for i in range(1, m-1):\n",
        "  for j in range(1, n-1):\n",
        "    center_pixel = (i, j)\n",
        "    center_filter = (1, 1)\n",
        "    xs = [1, 1, 1, -1, -1, -1, 0, 0]\n",
        "    ys = [1, -1, 0, 0, -1, 1, -1, 1]\n",
        "    new_val = 0.0\n",
        "    for k in range(8):\n",
        "        new_x = center_pixel[0] + xs[k]\n",
        "        new_y = center_pixel[1] + ys[k]\n",
        "\n",
        "        filter_new_x = center_filter[0] + xs[k]\n",
        "        filter_new_y = center_filter[1] + ys[k]\n",
        "\n",
        "        new_val += grey[new_x][new_y] * filter[filter_new_x][filter_new_y]\n",
        "\n",
        "    new_val += grey[i][j] * filter[1][1]\n",
        "    \n",
        "    if new_val < 0:\n",
        "      new_val = 0\n",
        "\n",
        "    if new_val > 255.0:\n",
        "      new_val = 255.0\n",
        "\n",
        "    transformed[i][j] = new_val\n",
        "\n",
        "\n"
      ],
      "execution_count": null,
      "outputs": []
    },
    {
      "cell_type": "code",
      "metadata": {
        "id": "a6xqfYT6ieBa",
        "colab_type": "code",
        "colab": {
          "base_uri": "https://localhost:8080/",
          "height": 34
        },
        "outputId": "dfb41733-0f3e-4a34-8b3a-6e7c8d475ca0"
      },
      "source": [
        "filter_new_x"
      ],
      "execution_count": null,
      "outputs": [
        {
          "output_type": "execute_result",
          "data": {
            "text/plain": [
              "1"
            ]
          },
          "metadata": {
            "tags": []
          },
          "execution_count": 28
        }
      ]
    },
    {
      "cell_type": "code",
      "metadata": {
        "id": "mf-7Y5FHaKYN",
        "colab_type": "code",
        "colab": {
          "base_uri": "https://localhost:8080/",
          "height": 269
        },
        "outputId": "5229b041-5bb8-42d7-9e3c-5b0659de3384"
      },
      "source": [
        "plt.imshow(transformed)\n",
        "plt.show()"
      ],
      "execution_count": null,
      "outputs": [
        {
          "output_type": "display_data",
          "data": {
            "image/png": "[encoded data removed]",
            "text/plain": [
              "<Figure size 432x288 with 1 Axes>"
            ]
          },
          "metadata": {
            "tags": [],
            "needs_background": "light"
          }
        }
      ]
    },
    {
      "cell_type": "code",
      "metadata": {
        "id": "BPj-IXUdaVno",
        "colab_type": "code",
        "colab": {}
      },
      "source": [
        "def maxpool(image):\n",
        "  m = len(image)\n",
        "  n = len(image[0])\n",
        "  new_image = np.zeros((m//2 + 1, n//2 + 1))\n",
        "  # new_image = [[0 for _ in range(n//2 +1)] for _ in range(m//2 +1)]\n",
        "  xRows = [1, 1, 0]\n",
        "  yCols = [0, 1, 1]\n",
        "  \n",
        "  for i in range(0, m, 2):\n",
        "    for j in range(0, n, 2):\n",
        "      currentPixels = [image[i][j]]\n",
        "      for k in range(3):\n",
        "        neighbor_x = i + xRows[k]\n",
        "        neighbor_y = j + yCols[k]\n",
        "        if neighbor_x < m and neighbor_y < n:\n",
        "          currentPixels.append(image[neighbor_x][neighbor_y])\n",
        "        new_image[i//2][j//2] = max(currentPixels)\n",
        "  return new_image\n",
        "      "
      ],
      "execution_count": null,
      "outputs": []
    },
    {
      "cell_type": "code",
      "metadata": {
        "id": "w0wNpaqLy0EM",
        "colab_type": "code",
        "colab": {}
      },
      "source": [
        "new_image = maxpool(transformed)\n"
      ],
      "execution_count": null,
      "outputs": []
    },
    {
      "cell_type": "code",
      "metadata": {
        "id": "6dDV9Zf4jG5Q",
        "colab_type": "code",
        "colab": {
          "base_uri": "https://localhost:8080/",
          "height": 269
        },
        "outputId": "63a0fad5-6d5a-4b2b-c1b5-fdea51d94e1a"
      },
      "source": [
        "plt.imshow(new_image)\n",
        "plt.show()"
      ],
      "execution_count": null,
      "outputs": [
        {
          "output_type": "display_data",
          "data": {
            "image/png": "[encoded data removed]",
            "text/plain": [
              "<Figure size 432x288 with 1 Axes>"
            ]
          },
          "metadata": {
            "tags": [],
            "needs_background": "light"
          }
        }
      ]
    },
    {
      "cell_type": "code",
      "metadata": {
        "id": "rwenBK-jkIKL",
        "colab_type": "code",
        "colab": {
          "base_uri": "https://localhost:8080/",
          "height": 34
        },
        "outputId": "659c75a4-8886-45b9-e791-9b545867d5ac"
      },
      "source": [
        ""
      ],
      "execution_count": null,
      "outputs": [
        {
          "output_type": "execute_result",
          "data": {
            "text/plain": [
              "[-2, 0, 2]"
            ]
          },
          "metadata": {
            "tags": []
          },
          "execution_count": 38
        }
      ]
    },
    {
      "cell_type": "code",
      "metadata": {
        "id": "lvRPKi8nmgw0",
        "colab_type": "code",
        "colab": {}
      },
      "source": [
        ""
      ],
      "execution_count": null,
      "outputs": []
    }
  ]
}