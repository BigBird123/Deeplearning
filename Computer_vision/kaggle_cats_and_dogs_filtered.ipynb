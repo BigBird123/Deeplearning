{
  "nbformat": 4,
  "nbformat_minor": 0,
  "metadata": {
    "colab": {
      "name": "kaggle.ipynb",
      "provenance": []
    },
    "kernelspec": {
      "name": "python3",
      "display_name": "Python 3"
    },
    "accelerator": "GPU"
  },
  "cells": [
    {
      "cell_type": "code",
      "metadata": {
        "id": "No5_bWsPCoLV",
        "colab_type": "code",
        "outputId": "7636bbb3-0687-4e88-cc64-85a63ed49aa9",
        "colab": {
          "base_uri": "https://localhost:8080/",
          "height": 129
        }
      },
      "source": [
        "from google.colab import  drive\n",
        "drive.mount('/content/drive')"
      ],
      "execution_count": 0,
      "outputs": [
        {
          "output_type": "stream",
          "text": [
            "Go to this URL in a browser: https://accounts.google.com/o/oauth2/auth?client_id=947318989803-6bn6qk8qdgf4n4g3pfee6491hc0brc4i.apps.googleusercontent.com&redirect_uri=urn%3aietf%3awg%3aoauth%3a2.0%3aoob&response_type=code&scope=email%20https%3a%2f%2fwww.googleapis.com%2fauth%2fdocs.test%20https%3a%2f%2fwww.googleapis.com%2fauth%2fdrive%20https%3a%2f%2fwww.googleapis.com%2fauth%2fdrive.photos.readonly%20https%3a%2f%2fwww.googleapis.com%2fauth%2fpeopleapi.readonly\n",
            "\n",
            "Enter your authorization code:\n",
            "··········\n",
            "Mounted at /content/drive\n"
          ],
          "name": "stdout"
        }
      ]
    },
    {
      "cell_type": "code",
      "metadata": {
        "id": "S4D_0bEIRxWE",
        "colab_type": "code",
        "colab": {}
      },
      "source": [
        "import tensorflow as tf\n",
        "from tensorflow.keras.models import Model\n",
        "from tensorflow.keras.models import Sequential\n",
        "from tensorflow.keras.layers import BatchNormalization\n",
        "from tensorflow.keras.layers import AveragePooling2D\n",
        "from tensorflow.keras.layers import MaxPooling2D\n",
        "from tensorflow.keras.layers import Conv2D\n",
        "from tensorflow.keras.layers import Activation\n",
        "from tensorflow.keras.layers import Dropout\n",
        "from tensorflow.keras.layers import Flatten\n",
        "from tensorflow.keras.layers import Input\n",
        "from tensorflow.keras.layers import Dense\n",
        "from sklearn.preprocessing import LabelBinarizer\n",
        "from tensorflow.keras.preprocessing.image import ImageDataGenerator\n",
        "from tensorflow.keras.optimizers import SGD\n",
        "from sklearn.utils import shuffle\n",
        "import pickle\n",
        "import os\n",
        "import matplotlib.pyplot as plt"
      ],
      "execution_count": 0,
      "outputs": []
    },
    {
      "cell_type": "code",
      "metadata": {
        "id": "DsZ95AY5RlH7",
        "colab_type": "code",
        "colab": {}
      },
      "source": [
        ""
      ],
      "execution_count": 0,
      "outputs": []
    },
    {
      "cell_type": "code",
      "metadata": {
        "id": "uGLf0nJxH74e",
        "colab_type": "code",
        "outputId": "ce716e43-9198-404b-b686-250ed2d07215",
        "colab": {
          "base_uri": "https://localhost:8080/",
          "height": 35
        }
      },
      "source": [
        "ls"
      ],
      "execution_count": 0,
      "outputs": [
        {
          "output_type": "stream",
          "text": [
            "\u001b[0m\u001b[01;34mdrive\u001b[0m/  \u001b[01;34msample_data\u001b[0m/\n"
          ],
          "name": "stdout"
        }
      ]
    },
    {
      "cell_type": "code",
      "metadata": {
        "id": "XkYoXRljJxvn",
        "colab_type": "code",
        "outputId": "f5c1e581-d31f-406c-daf3-66154e8f117b",
        "colab": {
          "base_uri": "https://localhost:8080/",
          "height": 35
        }
      },
      "source": [
        "pwd"
      ],
      "execution_count": 0,
      "outputs": [
        {
          "output_type": "execute_result",
          "data": {
            "text/plain": [
              "'/content'"
            ]
          },
          "metadata": {
            "tags": []
          },
          "execution_count": 4
        }
      ]
    },
    {
      "cell_type": "code",
      "metadata": {
        "id": "jmBFdKx2J8ND",
        "colab_type": "code",
        "outputId": "276c2de7-4343-4caf-bf58-f284e57be131",
        "colab": {
          "base_uri": "https://localhost:8080/",
          "height": 135
        }
      },
      "source": [
        "#file bất kì\n",
        "\n",
        "#!touch ngoc."
      ],
      "execution_count": 0,
      "outputs": [
        {
          "output_type": "error",
          "ename": "SyntaxError",
          "evalue": "ignored",
          "traceback": [
            "\u001b[0;36m  File \u001b[0;32m\"<ipython-input-10-025ecdb7e0bb>\"\u001b[0;36m, line \u001b[0;32m5\u001b[0m\n\u001b[0;31m    cd /content/drive/My\\ Drive/Colab\\ Notebooks/DogCat\u001b[0m\n\u001b[0m                                                       ^\u001b[0m\n\u001b[0;31mSyntaxError\u001b[0m\u001b[0;31m:\u001b[0m unexpected character after line continuation character\n"
          ]
        }
      ]
    },
    {
      "cell_type": "code",
      "metadata": {
        "id": "DR_jN70QKltM",
        "colab_type": "code",
        "outputId": "d581fbb3-0674-4691-b2a7-67d4d07135a8",
        "colab": {
          "base_uri": "https://localhost:8080/",
          "height": 35
        }
      },
      "source": [
        "cd /content/drive/My Drive/Colab Notebooks/DogCat"
      ],
      "execution_count": 0,
      "outputs": [
        {
          "output_type": "stream",
          "text": [
            "/content/drive/My Drive/Colab Notebooks/DogCat\n"
          ],
          "name": "stdout"
        }
      ]
    },
    {
      "cell_type": "code",
      "metadata": {
        "id": "FmiHkBy7LcmL",
        "colab_type": "code",
        "outputId": "7237d526-59fd-4b20-ceae-d16c37302585",
        "colab": {
          "base_uri": "https://localhost:8080/",
          "height": 35
        }
      },
      "source": [
        "pwd"
      ],
      "execution_count": 0,
      "outputs": [
        {
          "output_type": "execute_result",
          "data": {
            "text/plain": [
              "'/content/drive/My Drive/Colab Notebooks/DogCat'"
            ]
          },
          "metadata": {
            "tags": []
          },
          "execution_count": 12
        }
      ]
    },
    {
      "cell_type": "code",
      "metadata": {
        "id": "Pa6HDlE4Lh09",
        "colab_type": "code",
        "colab": {}
      },
      "source": [
        "mkdir data"
      ],
      "execution_count": 0,
      "outputs": []
    },
    {
      "cell_type": "code",
      "metadata": {
        "id": "ix4Y74zjLqXp",
        "colab_type": "code",
        "outputId": "46a3bd8c-03bd-44cc-cc62-66a1db3293d3",
        "colab": {
          "base_uri": "https://localhost:8080/",
          "height": 35
        }
      },
      "source": [
        "ls"
      ],
      "execution_count": 0,
      "outputs": [
        {
          "output_type": "stream",
          "text": [
            "cats_and_dogs_filtered.zip  \u001b[0m\u001b[01;34mdata\u001b[0m/\n"
          ],
          "name": "stdout"
        }
      ]
    },
    {
      "cell_type": "code",
      "metadata": {
        "id": "OIOJxfSXLqzc",
        "colab_type": "code",
        "colab": {}
      },
      "source": [
        "link = 'https://storage.googleapis.com/mledu-datasets/cats_and_dogs_filtered.zip'"
      ],
      "execution_count": 0,
      "outputs": []
    },
    {
      "cell_type": "code",
      "metadata": {
        "id": "2QVEJAduL8_e",
        "colab_type": "code",
        "outputId": "7de5fe64-9960-47de-deff-ff25d821ebbf",
        "colab": {
          "base_uri": "https://localhost:8080/",
          "height": 219
        }
      },
      "source": [
        "!wget --no-check-certificate \\\n",
        "https://storage.googleapis.com/mledu-datasets/cats_and_dogs_filtered.zip \\\n",
        "-O ./cats_and_dogs_filtered.zip"
      ],
      "execution_count": 0,
      "outputs": [
        {
          "output_type": "stream",
          "text": [
            "--2020-06-03 12:43:04--  https://storage.googleapis.com/mledu-datasets/cats_and_dogs_filtered.zip\n",
            "Resolving storage.googleapis.com (storage.googleapis.com)... 108.177.125.128, 2404:6800:4008:c01::80\n",
            "Connecting to storage.googleapis.com (storage.googleapis.com)|108.177.125.128|:443... connected.\n",
            "HTTP request sent, awaiting response... 200 OK\n",
            "Length: 68606236 (65M) [application/zip]\n",
            "Saving to: ‘./cats_and_dogs_filtered.zip’\n",
            "\n",
            "./cats_and_dogs_fil 100%[===================>]  65.43M  34.1MB/s    in 1.9s    \n",
            "\n",
            "2020-06-03 12:43:07 (34.1 MB/s) - ‘./cats_and_dogs_filtered.zip’ saved [68606236/68606236]\n",
            "\n"
          ],
          "name": "stdout"
        }
      ]
    },
    {
      "cell_type": "code",
      "metadata": {
        "id": "vxnHBGUGMjmy",
        "colab_type": "code",
        "outputId": "1d73351a-4ea9-4d1e-def9-4a6bb24479f6",
        "colab": {
          "base_uri": "https://localhost:8080/",
          "height": 35
        }
      },
      "source": [
        "ls"
      ],
      "execution_count": 0,
      "outputs": [
        {
          "output_type": "stream",
          "text": [
            "cats_and_dogs_filtered.zip  \u001b[0m\u001b[01;34mdata\u001b[0m/\n"
          ],
          "name": "stdout"
        }
      ]
    },
    {
      "cell_type": "code",
      "metadata": {
        "id": "tWvu6lE4NbAy",
        "colab_type": "code",
        "colab": {}
      },
      "source": [
        "data_folder = './data'"
      ],
      "execution_count": 0,
      "outputs": []
    },
    {
      "cell_type": "code",
      "metadata": {
        "id": "LdQaQ5anNjYz",
        "colab_type": "code",
        "colab": {}
      },
      "source": [
        "!unzip -q cats_and_dogs_filtered.zip -d $data_folder"
      ],
      "execution_count": 0,
      "outputs": []
    },
    {
      "cell_type": "code",
      "metadata": {
        "id": "KeV2l9i4Nwax",
        "colab_type": "code",
        "outputId": "56696b0c-9a4c-4089-f092-79dffc124d69",
        "colab": {
          "base_uri": "https://localhost:8080/",
          "height": 35
        }
      },
      "source": [
        "ls"
      ],
      "execution_count": 0,
      "outputs": [
        {
          "output_type": "stream",
          "text": [
            "cats_and_dogs_filtered.zip  \u001b[0m\u001b[01;34mdata\u001b[0m/\n"
          ],
          "name": "stdout"
        }
      ]
    },
    {
      "cell_type": "code",
      "metadata": {
        "id": "5o1d6JdLPYEi",
        "colab_type": "code",
        "colab": {}
      },
      "source": [
        "train_folder = '/content/drive/My Drive/Colab Notebooks/DogCat/data/cats_and_dogs_filtered/train'"
      ],
      "execution_count": 0,
      "outputs": []
    },
    {
      "cell_type": "code",
      "metadata": {
        "id": "AZ5i10QvP1sX",
        "colab_type": "code",
        "colab": {}
      },
      "source": [
        "validate_folder = '/content/drive/My Drive/Colab Notebooks/DogCat/data/cats_and_dogs_filtered/validation'"
      ],
      "execution_count": 0,
      "outputs": []
    },
    {
      "cell_type": "markdown",
      "metadata": {
        "id": "Mg2KXIafSAsD",
        "colab_type": "text"
      },
      "source": [
        "Thiết lập model "
      ]
    },
    {
      "cell_type": "code",
      "metadata": {
        "id": "HAZTH617QM0r",
        "colab_type": "code",
        "colab": {}
      },
      "source": [
        "model   = Sequential()    "
      ],
      "execution_count": 0,
      "outputs": []
    },
    {
      "cell_type": "code",
      "metadata": {
        "id": "nYFgCzZBSDS8",
        "colab_type": "code",
        "colab": {}
      },
      "source": [
        "model.add(Conv2D(16,kernel_size=(3,3),strides=(1,1),activation='relu',input_shape= [150,150,3]))"
      ],
      "execution_count": 0,
      "outputs": []
    },
    {
      "cell_type": "code",
      "metadata": {
        "id": "HWLhCXeGSUja",
        "colab_type": "code",
        "outputId": "62d16d76-b56a-47cc-bf2d-f9f10ac8fa87",
        "colab": {
          "base_uri": "https://localhost:8080/",
          "height": 201
        }
      },
      "source": [
        "model.summary()"
      ],
      "execution_count": 0,
      "outputs": [
        {
          "output_type": "stream",
          "text": [
            "Model: \"sequential_8\"\n",
            "_________________________________________________________________\n",
            "Layer (type)                 Output Shape              Param #   \n",
            "=================================================================\n",
            "conv2d_18 (Conv2D)           (None, 148, 148, 16)      448       \n",
            "=================================================================\n",
            "Total params: 448\n",
            "Trainable params: 448\n",
            "Non-trainable params: 0\n",
            "_________________________________________________________________\n"
          ],
          "name": "stdout"
        }
      ]
    },
    {
      "cell_type": "code",
      "metadata": {
        "id": "brqCixMGSfVx",
        "colab_type": "code",
        "colab": {}
      },
      "source": [
        "model.add(MaxPooling2D((2,2)))\n"
      ],
      "execution_count": 0,
      "outputs": []
    },
    {
      "cell_type": "code",
      "metadata": {
        "id": "qTjHHzm3SoUw",
        "colab_type": "code",
        "colab": {}
      },
      "source": [
        "model.add(Conv2D(32,kernel_size=(3,3),activation='relu'))\n",
        "model.add(MaxPooling2D((2,2)))\n",
        "model.add(Conv2D(64,kernel_size=(3,3),activation='relu'))\n",
        "model.add(MaxPooling2D((2,2)))\n",
        "model.add(Flatten())\n",
        "model.add(Dense(128,activation='relu'))\n",
        "model.add(Dense(10,activation='relu'))\n",
        "model.add(Dense(1,activation='sigmoid'))\n",
        "\n",
        "\n"
      ],
      "execution_count": 0,
      "outputs": []
    },
    {
      "cell_type": "code",
      "metadata": {
        "id": "Y9F-jV9wUBWB",
        "colab_type": "code",
        "outputId": "3429daa2-c801-4ad0-c291-53284846667f",
        "colab": {
          "base_uri": "https://localhost:8080/",
          "height": 531
        }
      },
      "source": [
        "model.summary()"
      ],
      "execution_count": 0,
      "outputs": [
        {
          "output_type": "stream",
          "text": [
            "Model: \"sequential_8\"\n",
            "_________________________________________________________________\n",
            "Layer (type)                 Output Shape              Param #   \n",
            "=================================================================\n",
            "conv2d_18 (Conv2D)           (None, 148, 148, 16)      448       \n",
            "_________________________________________________________________\n",
            "max_pooling2d_18 (MaxPooling (None, 74, 74, 16)        0         \n",
            "_________________________________________________________________\n",
            "conv2d_19 (Conv2D)           (None, 72, 72, 32)        4640      \n",
            "_________________________________________________________________\n",
            "max_pooling2d_19 (MaxPooling (None, 36, 36, 32)        0         \n",
            "_________________________________________________________________\n",
            "conv2d_20 (Conv2D)           (None, 34, 34, 64)        18496     \n",
            "_________________________________________________________________\n",
            "max_pooling2d_20 (MaxPooling (None, 17, 17, 64)        0         \n",
            "_________________________________________________________________\n",
            "flatten_5 (Flatten)          (None, 18496)             0         \n",
            "_________________________________________________________________\n",
            "dense_15 (Dense)             (None, 128)               2367616   \n",
            "_________________________________________________________________\n",
            "dense_16 (Dense)             (None, 10)                1290      \n",
            "_________________________________________________________________\n",
            "dense_17 (Dense)             (None, 1)                 11        \n",
            "=================================================================\n",
            "Total params: 2,392,501\n",
            "Trainable params: 2,392,501\n",
            "Non-trainable params: 0\n",
            "_________________________________________________________________\n"
          ],
          "name": "stdout"
        }
      ]
    },
    {
      "cell_type": "code",
      "metadata": {
        "id": "0EOHnE7FVKYX",
        "colab_type": "code",
        "colab": {}
      },
      "source": [
        "model.compile(loss='binary_crossentropy',optimizer='SGD',metrics=['acc'])"
      ],
      "execution_count": 0,
      "outputs": []
    },
    {
      "cell_type": "code",
      "metadata": {
        "id": "fXDvY_koWbEv",
        "colab_type": "code",
        "colab": {}
      },
      "source": [
        "from tensorflow.keras.preprocessing.image import ImageDataGenerator"
      ],
      "execution_count": 0,
      "outputs": []
    },
    {
      "cell_type": "code",
      "metadata": {
        "id": "EYl0UNo7WnwN",
        "colab_type": "code",
        "outputId": "7fbc7f5c-8dca-41f1-8b0f-a79fee19d6c3",
        "colab": {
          "base_uri": "https://localhost:8080/",
          "height": 172
        }
      },
      "source": [
        "train_generator = Image"
      ],
      "execution_count": 0,
      "outputs": [
        {
          "output_type": "error",
          "ename": "NameError",
          "evalue": "ignored",
          "traceback": [
            "\u001b[0;31m---------------------------------------------------------------------------\u001b[0m",
            "\u001b[0;31mNameError\u001b[0m                                 Traceback (most recent call last)",
            "\u001b[0;32m<ipython-input-78-c9838b222bf4>\u001b[0m in \u001b[0;36m<module>\u001b[0;34m()\u001b[0m\n\u001b[0;32m----> 1\u001b[0;31m \u001b[0mtrain_generator\u001b[0m \u001b[0;34m=\u001b[0m \u001b[0mImage\u001b[0m\u001b[0;34m\u001b[0m\u001b[0;34m\u001b[0m\u001b[0m\n\u001b[0m",
            "\u001b[0;31mNameError\u001b[0m: name 'Image' is not defined"
          ]
        }
      ]
    },
    {
      "cell_type": "code",
      "metadata": {
        "id": "L3JRw-8mWtYQ",
        "colab_type": "code",
        "colab": {}
      },
      "source": [
        "train_generator = ImageDataGenerator(rescale= 1/255.0)"
      ],
      "execution_count": 0,
      "outputs": []
    },
    {
      "cell_type": "code",
      "metadata": {
        "id": "dnsJkVkDwPGo",
        "colab_type": "code",
        "outputId": "32b496c4-5a02-434a-ee25-02dd8872d0bc",
        "colab": {
          "base_uri": "https://localhost:8080/",
          "height": 35
        }
      },
      "source": [
        "train_generator"
      ],
      "execution_count": 0,
      "outputs": [
        {
          "output_type": "execute_result",
          "data": {
            "text/plain": [
              "<tensorflow.python.keras.preprocessing.image.ImageDataGenerator at 0x7f27b0ea2f98>"
            ]
          },
          "metadata": {
            "tags": []
          },
          "execution_count": 16
        }
      ]
    },
    {
      "cell_type": "code",
      "metadata": {
        "id": "0zoIAI2tXQt1",
        "colab_type": "code",
        "colab": {}
      },
      "source": [
        "valid_generator = ImageDataGenerator(rescale=1/255.0)"
      ],
      "execution_count": 0,
      "outputs": []
    },
    {
      "cell_type": "code",
      "metadata": {
        "id": "9yShz_ONXX8p",
        "colab_type": "code",
        "outputId": "c1648227-ff5e-46e9-d817-6bd1c751405f",
        "colab": {
          "base_uri": "https://localhost:8080/",
          "height": 35
        }
      },
      "source": [
        "generated_train_data = train_generator.flow_from_directory(\n",
        "    train_folder,\n",
        "    target_size = (150,150), # nen\n",
        "    batch_size = 128,\n",
        "    class_mode ='binary'\n",
        "\n",
        ")"
      ],
      "execution_count": 0,
      "outputs": [
        {
          "output_type": "stream",
          "text": [
            "Found 2000 images belonging to 2 classes.\n"
          ],
          "name": "stdout"
        }
      ]
    },
    {
      "cell_type": "code",
      "metadata": {
        "id": "JZzU7-cOXev0",
        "colab_type": "code",
        "outputId": "a6dab8da-be36-4b55-b297-b12cb5beeb2e",
        "colab": {
          "base_uri": "https://localhost:8080/",
          "height": 35
        }
      },
      "source": [
        "generated_train_data.class_indices"
      ],
      "execution_count": 0,
      "outputs": [
        {
          "output_type": "execute_result",
          "data": {
            "text/plain": [
              "{'cats': 0, 'dogs': 1}"
            ]
          },
          "metadata": {
            "tags": []
          },
          "execution_count": 99
        }
      ]
    },
    {
      "cell_type": "code",
      "metadata": {
        "id": "as0u0VqVYSuu",
        "colab_type": "code",
        "outputId": "880e320e-9f6a-404a-a22b-4a9c04b64a0c",
        "colab": {
          "base_uri": "https://localhost:8080/",
          "height": 35
        }
      },
      "source": [
        "generated_valid_data = valid_generator.flow_from_directory(\n",
        "    validate_folder,\n",
        "    target_size = (150,150), # nen\n",
        "    batch_size = 128,\n",
        "    class_mode ='binary'\n",
        "\n",
        ")"
      ],
      "execution_count": 0,
      "outputs": [
        {
          "output_type": "stream",
          "text": [
            "Found 1000 images belonging to 2 classes.\n"
          ],
          "name": "stdout"
        }
      ]
    },
    {
      "cell_type": "code",
      "metadata": {
        "id": "Wu8gy53vYesS",
        "colab_type": "code",
        "outputId": "ddc90108-45b6-4786-a1e5-958f9bda03ad",
        "colab": {
          "base_uri": "https://localhost:8080/",
          "height": 752
        }
      },
      "source": [
        "history = model.fit_generator(generated_train_data,\n",
        "                              steps_per_epoch = 8,\n",
        "                              epochs=20,verbose=1,\n",
        "                              validation_data = (generated_valid_data)\n",
        "                              )"
      ],
      "execution_count": 0,
      "outputs": [
        {
          "output_type": "stream",
          "text": [
            "Epoch 1/20\n",
            "8/8 [==============================] - 9s 1s/step - loss: 0.6886 - acc: 0.5492 - val_loss: 0.6883 - val_acc: 0.5720\n",
            "Epoch 2/20\n",
            "8/8 [==============================] - 10s 1s/step - loss: 0.6865 - acc: 0.5762 - val_loss: 0.6882 - val_acc: 0.5620\n",
            "Epoch 3/20\n",
            "8/8 [==============================] - 10s 1s/step - loss: 0.6856 - acc: 0.5859 - val_loss: 0.6874 - val_acc: 0.5450\n",
            "Epoch 4/20\n",
            "8/8 [==============================] - 9s 1s/step - loss: 0.6860 - acc: 0.5553 - val_loss: 0.6870 - val_acc: 0.5460\n",
            "Epoch 5/20\n",
            "8/8 [==============================] - 9s 1s/step - loss: 0.6859 - acc: 0.5707 - val_loss: 0.6866 - val_acc: 0.5850\n",
            "Epoch 6/20\n",
            "8/8 [==============================] - 10s 1s/step - loss: 0.6822 - acc: 0.6074 - val_loss: 0.6865 - val_acc: 0.5570\n",
            "Epoch 7/20\n",
            "8/8 [==============================] - 9s 1s/step - loss: 0.6844 - acc: 0.5779 - val_loss: 0.6855 - val_acc: 0.5880\n",
            "Epoch 8/20\n",
            "8/8 [==============================] - 10s 1s/step - loss: 0.6857 - acc: 0.5697 - val_loss: 0.6852 - val_acc: 0.5660\n",
            "Epoch 9/20\n",
            "8/8 [==============================] - 9s 1s/step - loss: 0.6824 - acc: 0.5840 - val_loss: 0.6860 - val_acc: 0.5290\n",
            "Epoch 10/20\n",
            "8/8 [==============================] - 9s 1s/step - loss: 0.6861 - acc: 0.5482 - val_loss: 0.6847 - val_acc: 0.5600\n",
            "Epoch 11/20\n",
            "8/8 [==============================] - 9s 1s/step - loss: 0.6823 - acc: 0.5789 - val_loss: 0.6855 - val_acc: 0.5650\n",
            "Epoch 12/20\n",
            "8/8 [==============================] - 9s 1s/step - loss: 0.6819 - acc: 0.5850 - val_loss: 0.6838 - val_acc: 0.5590\n",
            "Epoch 13/20\n",
            "8/8 [==============================] - 9s 1s/step - loss: 0.6833 - acc: 0.5771 - val_loss: 0.6837 - val_acc: 0.5860\n",
            "Epoch 14/20\n",
            "8/8 [==============================] - 9s 1s/step - loss: 0.6829 - acc: 0.5676 - val_loss: 0.6829 - val_acc: 0.5660\n",
            "Epoch 15/20\n",
            "8/8 [==============================] - 9s 1s/step - loss: 0.6798 - acc: 0.6094 - val_loss: 0.6824 - val_acc: 0.5630\n",
            "Epoch 16/20\n",
            "8/8 [==============================] - 9s 1s/step - loss: 0.6804 - acc: 0.5758 - val_loss: 0.6825 - val_acc: 0.5510\n",
            "Epoch 17/20\n",
            "8/8 [==============================] - 9s 1s/step - loss: 0.6796 - acc: 0.5789 - val_loss: 0.6824 - val_acc: 0.5600\n",
            "Epoch 18/20\n",
            "8/8 [==============================] - 9s 1s/step - loss: 0.6798 - acc: 0.5791 - val_loss: 0.6811 - val_acc: 0.5640\n",
            "Epoch 19/20\n",
            "8/8 [==============================] - 10s 1s/step - loss: 0.6768 - acc: 0.5957 - val_loss: 0.6805 - val_acc: 0.5710\n",
            "Epoch 20/20\n",
            "8/8 [==============================] - 10s 1s/step - loss: 0.6791 - acc: 0.5666 - val_loss: 0.6796 - val_acc: 0.5740\n"
          ],
          "name": "stdout"
        }
      ]
    },
    {
      "cell_type": "code",
      "metadata": {
        "id": "px5MDXSSZZNn",
        "colab_type": "code",
        "colab": {}
      },
      "source": [
        "ouput_layers = [layer.output for layer in model.layers]"
      ],
      "execution_count": 0,
      "outputs": []
    },
    {
      "cell_type": "code",
      "metadata": {
        "id": "KMZ8v7JYeeYR",
        "colab_type": "code",
        "outputId": "d688cd42-0c76-482f-96be-0f34718f2ee0",
        "colab": {
          "base_uri": "https://localhost:8080/",
          "height": 201
        }
      },
      "source": [
        "ouput_layers"
      ],
      "execution_count": 0,
      "outputs": [
        {
          "output_type": "execute_result",
          "data": {
            "text/plain": [
              "[<tf.Tensor 'conv2d_18/Identity:0' shape=(None, 148, 148, 16) dtype=float32>,\n",
              " <tf.Tensor 'max_pooling2d_18/Identity:0' shape=(None, 74, 74, 16) dtype=float32>,\n",
              " <tf.Tensor 'conv2d_19/Identity:0' shape=(None, 72, 72, 32) dtype=float32>,\n",
              " <tf.Tensor 'max_pooling2d_19/Identity:0' shape=(None, 36, 36, 32) dtype=float32>,\n",
              " <tf.Tensor 'conv2d_20/Identity:0' shape=(None, 34, 34, 64) dtype=float32>,\n",
              " <tf.Tensor 'max_pooling2d_20/Identity:0' shape=(None, 17, 17, 64) dtype=float32>,\n",
              " <tf.Tensor 'flatten_5/Identity:0' shape=(None, 18496) dtype=float32>,\n",
              " <tf.Tensor 'dense_15/Identity:0' shape=(None, 128) dtype=float32>,\n",
              " <tf.Tensor 'dense_16/Identity:0' shape=(None, 10) dtype=float32>,\n",
              " <tf.Tensor 'dense_17/Identity:0' shape=(None, 1) dtype=float32>]"
            ]
          },
          "metadata": {
            "tags": []
          },
          "execution_count": 108
        }
      ]
    },
    {
      "cell_type": "code",
      "metadata": {
        "id": "yhcB8wrLefkd",
        "colab_type": "code",
        "colab": {}
      },
      "source": [
        ""
      ],
      "execution_count": 0,
      "outputs": []
    }
  ]
}