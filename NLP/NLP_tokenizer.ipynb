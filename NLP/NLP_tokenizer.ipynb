{
  "nbformat": 4,
  "nbformat_minor": 0,
  "metadata": {
    "colab": {
      "name": "NLP-tokenizer.ipynb",
      "provenance": [],
      "collapsed_sections": []
    },
    "kernelspec": {
      "name": "python3",
      "display_name": "Python 3"
    },
    "accelerator": "GPU"
  },
  "cells": [
    {
      "cell_type": "code",
      "metadata": {
        "id": "y8X-VO-py52J",
        "colab_type": "code",
        "colab": {}
      },
      "source": [
        "#Tạo 1 số câu nhất định\n",
        "sentences = [\n",
        "             \"I love Vietnam\",\n",
        "             \"Vietnames people are pretty friendly\",\n",
        "             \"My mum love cooking\",\n",
        "             \"I am Vietnames\"\n",
        "\n",
        "]"
      ],
      "execution_count": null,
      "outputs": []
    },
    {
      "cell_type": "code",
      "metadata": {
        "id": "lMhZvJgn8p7w",
        "colab_type": "code",
        "colab": {}
      },
      "source": [
        "from tensorflow.keras.preprocessing.text import Tokenizer # build corpus"
      ],
      "execution_count": null,
      "outputs": []
    },
    {
      "cell_type": "code",
      "metadata": {
        "id": "RTIDo8oN9Efl",
        "colab_type": "code",
        "colab": {}
      },
      "source": [
        "#tách từ\n",
        "tokenizer = Tokenizer(num_words=1000, oov_token=\"OOV\") # num : gioi hạn , khác nhau"
      ],
      "execution_count": null,
      "outputs": []
    },
    {
      "cell_type": "code",
      "metadata": {
        "id": "4tIpyafP9Sv3",
        "colab_type": "code",
        "colab": {}
      },
      "source": [
        "tokenizer.fit_on_texts(sentences)"
      ],
      "execution_count": null,
      "outputs": []
    },
    {
      "cell_type": "code",
      "metadata": {
        "id": "Q0vpuRsa9pWo",
        "colab_type": "code",
        "colab": {
          "base_uri": "https://localhost:8080/",
          "height": 256
        },
        "outputId": "0fc0665f-2d77-428f-d6bb-2f26868630ac"
      },
      "source": [
        "tokenizer.word_index"
      ],
      "execution_count": null,
      "outputs": [
        {
          "output_type": "execute_result",
          "data": {
            "text/plain": [
              "{'OOV': 1,\n",
              " 'am': 13,\n",
              " 'are': 7,\n",
              " 'cooking': 12,\n",
              " 'friendly': 9,\n",
              " 'i': 2,\n",
              " 'love': 3,\n",
              " 'mum': 11,\n",
              " 'my': 10,\n",
              " 'people': 6,\n",
              " 'pretty': 8,\n",
              " 'vietnam': 5,\n",
              " 'vietnames': 4}"
            ]
          },
          "metadata": {
            "tags": []
          },
          "execution_count": 14
        }
      ]
    },
    {
      "cell_type": "code",
      "metadata": {
        "id": "SFHc3fIr9smh",
        "colab_type": "code",
        "colab": {}
      },
      "source": [
        "# có nhưng câu mới suất hiện , Ra 1 ma trận ?\n",
        "new_sentences = [\n",
        "                 \"i am writing\",\n",
        "                 \"i live in Hanoi\"\n",
        "]"
      ],
      "execution_count": null,
      "outputs": []
    },
    {
      "cell_type": "code",
      "metadata": {
        "id": "XG556T0V-Qon",
        "colab_type": "code",
        "colab": {}
      },
      "source": [
        "# Dùng hàm , Từ token.\n",
        "senquences = tokenizer.texts_to_sequences(new_sentences)"
      ],
      "execution_count": null,
      "outputs": []
    },
    {
      "cell_type": "code",
      "metadata": {
        "id": "Kei0xxqE-blz",
        "colab_type": "code",
        "colab": {
          "base_uri": "https://localhost:8080/",
          "height": 35
        },
        "outputId": "63255989-38ff-4f1a-fec3-c46bdc02b9b4"
      },
      "source": [
        "senquences # data ccần độ dài như nhau , 1 nghĩa là ko có trong từ điển"
      ],
      "execution_count": null,
      "outputs": [
        {
          "output_type": "execute_result",
          "data": {
            "text/plain": [
              "[[2, 13, 1], [2, 1, 1, 1]]"
            ]
          },
          "metadata": {
            "tags": []
          },
          "execution_count": 17
        }
      ]
    },
    {
      "cell_type": "code",
      "metadata": {
        "id": "y-w9TDVD-pab",
        "colab_type": "code",
        "colab": {}
      },
      "source": [
        "from tensorflow.keras.preprocessing.sequence import pad_sequences # làm đều ma trận"
      ],
      "execution_count": null,
      "outputs": []
    },
    {
      "cell_type": "code",
      "metadata": {
        "id": "5-xYmLEv_oDn",
        "colab_type": "code",
        "colab": {}
      },
      "source": [
        "padding_sequences = pad_sequences(senquences,padding='post') #padding đăng sau"
      ],
      "execution_count": null,
      "outputs": []
    },
    {
      "cell_type": "code",
      "metadata": {
        "id": "4K3gyc3h_vVY",
        "colab_type": "code",
        "colab": {
          "base_uri": "https://localhost:8080/",
          "height": 54
        },
        "outputId": "500573bd-19f6-4a38-cd8d-fc7d0ab7eca6"
      },
      "source": [
        "padding_sequences"
      ],
      "execution_count": null,
      "outputs": [
        {
          "output_type": "execute_result",
          "data": {
            "text/plain": [
              "array([[ 2, 13,  1,  0],\n",
              "       [ 2,  1,  1,  1]], dtype=int32)"
            ]
          },
          "metadata": {
            "tags": []
          },
          "execution_count": 20
        }
      ]
    },
    {
      "cell_type": "code",
      "metadata": {
        "id": "Gysi0LjL_4uM",
        "colab_type": "code",
        "colab": {}
      },
      "source": [
        "#dowload to text oln\n",
        "sentences = [\"Quả bom nằm cách cầu Long Biên khoảng 800m về phía thượng lưu sông Hồng. Khu vực trên có hai luồng chạy tàu, gồm luồng bờ trái và bờ phải sông Hồng. Luồng nghi có quả bom là luồng bờ trái, đoạn luồng Tứ Liên - Trung Hà, vị trí nghi có bom tại Km 183+800, cách tim luồng khoảng 30m, sâu khoảng hơn 2m, thuộc địa phận phường Ngọc Thụy, quận Long Biên, Hà Nội.\"]"
      ],
      "execution_count": null,
      "outputs": []
    },
    {
      "cell_type": "code",
      "metadata": {
        "id": "sBkqHI-aAm2C",
        "colab_type": "code",
        "colab": {}
      },
      "source": [
        "tokenizer.fit_on_texts(sentences)"
      ],
      "execution_count": null,
      "outputs": []
    },
    {
      "cell_type": "code",
      "metadata": {
        "id": "7rcB6_9bAvnv",
        "colab_type": "code",
        "colab": {
          "base_uri": "https://localhost:8080/",
          "height": 1000
        },
        "outputId": "1925924f-8603-40ca-eb8f-ae74df0fa2af"
      },
      "source": [
        "tokenizer.word_index"
      ],
      "execution_count": null,
      "outputs": [
        {
          "output_type": "execute_result",
          "data": {
            "text/plain": [
              "{'183': 41,\n",
              " '2m': 47,\n",
              " '30m': 44,\n",
              " '800': 42,\n",
              " '800m': 18,\n",
              " 'OOV': 1,\n",
              " 'biên': 10,\n",
              " 'bom': 3,\n",
              " 'bờ': 6,\n",
              " 'chạy': 27,\n",
              " 'cách': 8,\n",
              " 'có': 5,\n",
              " 'cầu': 17,\n",
              " 'gồm': 29,\n",
              " 'hai': 26,\n",
              " 'hà': 15,\n",
              " 'hơn': 46,\n",
              " 'hồng': 12,\n",
              " 'khoảng': 4,\n",
              " 'khu': 23,\n",
              " 'km': 40,\n",
              " 'liên': 35,\n",
              " 'long': 9,\n",
              " 'luồng': 2,\n",
              " 'là': 32,\n",
              " 'lưu': 22,\n",
              " 'nghi': 14,\n",
              " 'ngọc': 52,\n",
              " 'nằm': 16,\n",
              " 'nội': 55,\n",
              " 'phía': 20,\n",
              " 'phường': 51,\n",
              " 'phải': 31,\n",
              " 'phận': 50,\n",
              " 'quả': 7,\n",
              " 'quận': 54,\n",
              " 'sâu': 45,\n",
              " 'sông': 11,\n",
              " 'thuộc': 48,\n",
              " 'thượng': 21,\n",
              " 'thụy': 53,\n",
              " 'tim': 43,\n",
              " 'trung': 36,\n",
              " 'trái': 13,\n",
              " 'trên': 25,\n",
              " 'trí': 38,\n",
              " 'tàu': 28,\n",
              " 'tại': 39,\n",
              " 'tứ': 34,\n",
              " 'và': 30,\n",
              " 'về': 19,\n",
              " 'vị': 37,\n",
              " 'vực': 24,\n",
              " 'đoạn': 33,\n",
              " 'địa': 49}"
            ]
          },
          "metadata": {
            "tags": []
          },
          "execution_count": 6
        }
      ]
    },
    {
      "cell_type": "code",
      "metadata": {
        "id": "YdD97ZbLA2RI",
        "colab_type": "code",
        "colab": {}
      },
      "source": [
        "#thư viện scrapy : craw data"
      ],
      "execution_count": null,
      "outputs": []
    },
    {
      "cell_type": "code",
      "metadata": {
        "id": "6wylHEKqBRk_",
        "colab_type": "code",
        "colab": {
          "base_uri": "https://localhost:8080/",
          "height": 495
        },
        "outputId": "0c47334b-95af-4d8c-ad68-d2afcad09917"
      },
      "source": [
        "!pip install scrapy"
      ],
      "execution_count": null,
      "outputs": [
        {
          "output_type": "stream",
          "text": [
            "Requirement already satisfied: scrapy in /usr/local/lib/python3.6/dist-packages (2.1.0)\n",
            "Requirement already satisfied: w3lib>=1.17.0 in /usr/local/lib/python3.6/dist-packages (from scrapy) (1.22.0)\n",
            "Requirement already satisfied: queuelib>=1.4.2 in /usr/local/lib/python3.6/dist-packages (from scrapy) (1.5.0)\n",
            "Requirement already satisfied: zope.interface>=4.1.3 in /usr/local/lib/python3.6/dist-packages (from scrapy) (5.1.0)\n",
            "Requirement already satisfied: Twisted>=17.9.0 in /usr/local/lib/python3.6/dist-packages (from scrapy) (20.3.0)\n",
            "Requirement already satisfied: service-identity>=16.0.0 in /usr/local/lib/python3.6/dist-packages (from scrapy) (18.1.0)\n",
            "Requirement already satisfied: cssselect>=0.9.1 in /usr/local/lib/python3.6/dist-packages (from scrapy) (1.1.0)\n",
            "Requirement already satisfied: PyDispatcher>=2.0.5 in /usr/local/lib/python3.6/dist-packages (from scrapy) (2.0.5)\n",
            "Requirement already satisfied: parsel>=1.5.0 in /usr/local/lib/python3.6/dist-packages (from scrapy) (1.6.0)\n",
            "Requirement already satisfied: cryptography>=2.0 in /usr/local/lib/python3.6/dist-packages (from scrapy) (2.9.2)\n",
            "Requirement already satisfied: protego>=0.1.15 in /usr/local/lib/python3.6/dist-packages (from scrapy) (0.1.16)\n",
            "Requirement already satisfied: pyOpenSSL>=16.2.0 in /usr/local/lib/python3.6/dist-packages (from scrapy) (19.1.0)\n",
            "Requirement already satisfied: lxml>=3.5.0 in /usr/local/lib/python3.6/dist-packages (from scrapy) (4.2.6)\n",
            "Requirement already satisfied: six>=1.4.1 in /usr/local/lib/python3.6/dist-packages (from w3lib>=1.17.0->scrapy) (1.12.0)\n",
            "Requirement already satisfied: setuptools in /usr/local/lib/python3.6/dist-packages (from zope.interface>=4.1.3->scrapy) (47.3.1)\n",
            "Requirement already satisfied: constantly>=15.1 in /usr/local/lib/python3.6/dist-packages (from Twisted>=17.9.0->scrapy) (15.1.0)\n",
            "Requirement already satisfied: hyperlink>=17.1.1 in /usr/local/lib/python3.6/dist-packages (from Twisted>=17.9.0->scrapy) (19.0.0)\n",
            "Requirement already satisfied: Automat>=0.3.0 in /usr/local/lib/python3.6/dist-packages (from Twisted>=17.9.0->scrapy) (20.2.0)\n",
            "Requirement already satisfied: attrs>=19.2.0 in /usr/local/lib/python3.6/dist-packages (from Twisted>=17.9.0->scrapy) (19.3.0)\n",
            "Requirement already satisfied: incremental>=16.10.1 in /usr/local/lib/python3.6/dist-packages (from Twisted>=17.9.0->scrapy) (17.5.0)\n",
            "Requirement already satisfied: PyHamcrest!=1.10.0,>=1.9.0 in /usr/local/lib/python3.6/dist-packages (from Twisted>=17.9.0->scrapy) (2.0.2)\n",
            "Requirement already satisfied: pyasn1-modules in /usr/local/lib/python3.6/dist-packages (from service-identity>=16.0.0->scrapy) (0.2.8)\n",
            "Requirement already satisfied: pyasn1 in /usr/local/lib/python3.6/dist-packages (from service-identity>=16.0.0->scrapy) (0.4.8)\n",
            "Requirement already satisfied: cffi!=1.11.3,>=1.8 in /usr/local/lib/python3.6/dist-packages (from cryptography>=2.0->scrapy) (1.14.0)\n",
            "Requirement already satisfied: idna>=2.5 in /usr/local/lib/python3.6/dist-packages (from hyperlink>=17.1.1->Twisted>=17.9.0->scrapy) (2.9)\n",
            "Requirement already satisfied: pycparser in /usr/local/lib/python3.6/dist-packages (from cffi!=1.11.3,>=1.8->cryptography>=2.0->scrapy) (2.20)\n"
          ],
          "name": "stdout"
        }
      ]
    },
    {
      "cell_type": "code",
      "metadata": {
        "id": "WrOfGUJ-BWCN",
        "colab_type": "code",
        "colab": {}
      },
      "source": [
        "import scrapy\n",
        "import logging\n",
        "class Spider(scrapy.Spider):\n",
        "  name = \"quote\"\n",
        "  start_urls = [\n",
        "    \"http://quotes.toscrape.com/page/1\"\n",
        "  ]\n",
        "  custom_settings = {\n",
        "      'FEED_FORMAT': 'json',\n",
        "      'FEED_URI': 'loc.json',\n",
        "      'LOG_LEVEL': logging.WARNING,\n",
        "  }\n",
        "  def parse(self, response):\n",
        "    for quote in response.css('div.quote'):\n",
        "      yield {\n",
        "          'text': quote.css('span.text::text').extract_first() # di vao trong the va lay text, :: là text của span.\n",
        "      }"
      ],
      "execution_count": null,
      "outputs": []
    },
    {
      "cell_type": "code",
      "metadata": {
        "id": "wCQSuOChDS7B",
        "colab_type": "code",
        "colab": {
          "base_uri": "https://localhost:8080/",
          "height": 184
        },
        "outputId": "4af51204-5462-4b5b-f532-8884a79c2f7b"
      },
      "source": [
        "# Giả dạng , chống tấn công DDOS\n",
        "from scrapy.crawler import CrawlerProcess\n",
        "process = CrawlerProcess({\n",
        "    'USER_AGENT': 'Mozilla/4.0 (compatibale; MSIE 7.0; Windows NT 5.1)'\n",
        "})\n",
        "process.crawl(Spider)\n",
        "process.start()"
      ],
      "execution_count": null,
      "outputs": [
        {
          "output_type": "stream",
          "text": [
            "2020-06-22 13:02:29 [scrapy.utils.log] INFO: Scrapy 2.1.0 started (bot: scrapybot)\n",
            "2020-06-22 13:02:29 [scrapy.utils.log] INFO: Versions: lxml 4.2.6.0, libxml2 2.9.8, cssselect 1.1.0, parsel 1.6.0, w3lib 1.22.0, Twisted 20.3.0, Python 3.6.9 (default, Apr 18 2020, 01:56:04) - [GCC 8.4.0], pyOpenSSL 19.1.0 (OpenSSL 1.1.1g  21 Apr 2020), cryptography 2.9.2, Platform Linux-4.19.104+-x86_64-with-Ubuntu-18.04-bionic\n",
            "2020-06-22 13:02:29 [scrapy.utils.log] DEBUG: Using reactor: twisted.internet.epollreactor.EPollReactor\n",
            "2020-06-22 13:02:29 [scrapy.crawler] INFO: Overridden settings:\n",
            "{'LOG_LEVEL': 30,\n",
            " 'USER_AGENT': 'Mozilla/4.0 (compatibale; MSIE 7.0; Windows NT 5.1)'}\n",
            "/usr/local/lib/python3.6/dist-packages/scrapy/extensions/feedexport.py:210: ScrapyDeprecationWarning: The `FEED_URI` and `FEED_FORMAT` settings have been deprecated in favor of the `FEEDS` setting. Please see the `FEEDS` setting docs for more details\n",
            "  exporter = cls(crawler)\n"
          ],
          "name": "stderr"
        }
      ]
    },
    {
      "cell_type": "code",
      "metadata": {
        "id": "50GKlrprFPC1",
        "colab_type": "code",
        "colab": {}
      },
      "source": [
        "import pandas as pd\n"
      ],
      "execution_count": null,
      "outputs": []
    },
    {
      "cell_type": "code",
      "metadata": {
        "id": "YvcrSv2rIZMD",
        "colab_type": "code",
        "colab": {}
      },
      "source": [
        "data = pd.read_json(\"loc.json\")"
      ],
      "execution_count": null,
      "outputs": []
    },
    {
      "cell_type": "code",
      "metadata": {
        "id": "40ADKAiFIfAX",
        "colab_type": "code",
        "colab": {
          "base_uri": "https://localhost:8080/",
          "height": 363
        },
        "outputId": "8b44fbdd-472a-4a86-e7cb-20395234e98f"
      },
      "source": [
        "data"
      ],
      "execution_count": null,
      "outputs": [
        {
          "output_type": "execute_result",
          "data": {
            "text/html": [
              "<div>\n",
              "<style scoped>\n",
              "    .dataframe tbody tr th:only-of-type {\n",
              "        vertical-align: middle;\n",
              "    }\n",
              "\n",
              "    .dataframe tbody tr th {\n",
              "        vertical-align: top;\n",
              "    }\n",
              "\n",
              "    .dataframe thead th {\n",
              "        text-align: right;\n",
              "    }\n",
              "</style>\n",
              "<table border=\"1\" class=\"dataframe\">\n",
              "  <thead>\n",
              "    <tr style=\"text-align: right;\">\n",
              "      <th></th>\n",
              "      <th>text</th>\n",
              "    </tr>\n",
              "  </thead>\n",
              "  <tbody>\n",
              "    <tr>\n",
              "      <th>0</th>\n",
              "      <td>“The world as we have created it is a process ...</td>\n",
              "    </tr>\n",
              "    <tr>\n",
              "      <th>1</th>\n",
              "      <td>“It is our choices, Harry, that show what we t...</td>\n",
              "    </tr>\n",
              "    <tr>\n",
              "      <th>2</th>\n",
              "      <td>“There are only two ways to live your life. On...</td>\n",
              "    </tr>\n",
              "    <tr>\n",
              "      <th>3</th>\n",
              "      <td>“The person, be it gentleman or lady, who has ...</td>\n",
              "    </tr>\n",
              "    <tr>\n",
              "      <th>4</th>\n",
              "      <td>“Imperfection is beauty, madness is genius and...</td>\n",
              "    </tr>\n",
              "    <tr>\n",
              "      <th>5</th>\n",
              "      <td>“Try not to become a man of success. Rather be...</td>\n",
              "    </tr>\n",
              "    <tr>\n",
              "      <th>6</th>\n",
              "      <td>“It is better to be hated for what you are tha...</td>\n",
              "    </tr>\n",
              "    <tr>\n",
              "      <th>7</th>\n",
              "      <td>“I have not failed. I've just found 10,000 way...</td>\n",
              "    </tr>\n",
              "    <tr>\n",
              "      <th>8</th>\n",
              "      <td>“A woman is like a tea bag; you never know how...</td>\n",
              "    </tr>\n",
              "    <tr>\n",
              "      <th>9</th>\n",
              "      <td>“A day without sunshine is like, you know, nig...</td>\n",
              "    </tr>\n",
              "  </tbody>\n",
              "</table>\n",
              "</div>"
            ],
            "text/plain": [
              "                                                text\n",
              "0  “The world as we have created it is a process ...\n",
              "1  “It is our choices, Harry, that show what we t...\n",
              "2  “There are only two ways to live your life. On...\n",
              "3  “The person, be it gentleman or lady, who has ...\n",
              "4  “Imperfection is beauty, madness is genius and...\n",
              "5  “Try not to become a man of success. Rather be...\n",
              "6  “It is better to be hated for what you are tha...\n",
              "7  “I have not failed. I've just found 10,000 way...\n",
              "8  “A woman is like a tea bag; you never know how...\n",
              "9  “A day without sunshine is like, you know, nig..."
            ]
          },
          "metadata": {
            "tags": []
          },
          "execution_count": 13
        }
      ]
    },
    {
      "cell_type": "code",
      "metadata": {
        "id": "DbsogQ9dIiVR",
        "colab_type": "code",
        "colab": {}
      },
      "source": [
        "import json"
      ],
      "execution_count": null,
      "outputs": []
    },
    {
      "cell_type": "code",
      "metadata": {
        "id": "juW8idL8Jmm1",
        "colab_type": "code",
        "colab": {}
      },
      "source": [
        "with open(\"loc.json\",\"r\") as f:\n",
        "  data = json.load(f)\n",
        "# chuyển luôn cho mình thành array"
      ],
      "execution_count": null,
      "outputs": []
    },
    {
      "cell_type": "code",
      "metadata": {
        "id": "YFnrNfd3J0SY",
        "colab_type": "code",
        "colab": {
          "base_uri": "https://localhost:8080/",
          "height": 201
        },
        "outputId": "6aa9a4fb-0459-4fa0-eb08-1e1e059bf7c6"
      },
      "source": [
        "data"
      ],
      "execution_count": null,
      "outputs": [
        {
          "output_type": "execute_result",
          "data": {
            "text/plain": [
              "[{'text': '“The world as we have created it is a process of our thinking. It cannot be changed without changing our thinking.”'},\n",
              " {'text': '“It is our choices, Harry, that show what we truly are, far more than our abilities.”'},\n",
              " {'text': '“There are only two ways to live your life. One is as though nothing is a miracle. The other is as though everything is a miracle.”'},\n",
              " {'text': '“The person, be it gentleman or lady, who has not pleasure in a good novel, must be intolerably stupid.”'},\n",
              " {'text': \"“Imperfection is beauty, madness is genius and it's better to be absolutely ridiculous than absolutely boring.”\"},\n",
              " {'text': '“Try not to become a man of success. Rather become a man of value.”'},\n",
              " {'text': '“It is better to be hated for what you are than to be loved for what you are not.”'},\n",
              " {'text': \"“I have not failed. I've just found 10,000 ways that won't work.”\"},\n",
              " {'text': \"“A woman is like a tea bag; you never know how strong it is until it's in hot water.”\"},\n",
              " {'text': '“A day without sunshine is like, you know, night.”'}]"
            ]
          },
          "metadata": {
            "tags": []
          },
          "execution_count": 16
        }
      ]
    },
    {
      "cell_type": "code",
      "metadata": {
        "id": "IENRznKMJ1GA",
        "colab_type": "code",
        "colab": {}
      },
      "source": [
        "# dùng hàm for cũng được(lấy data , haowjc nhưu trên )\n",
        "sentences = []\n",
        "for item in data:\n",
        "  sentences.append(item[\"text\"])"
      ],
      "execution_count": null,
      "outputs": []
    },
    {
      "cell_type": "code",
      "metadata": {
        "id": "TZM9XzvsKQgQ",
        "colab_type": "code",
        "colab": {
          "base_uri": "https://localhost:8080/",
          "height": 201
        },
        "outputId": "60d2666f-e487-4b78-87dc-5be01a4e2e2c"
      },
      "source": [
        "sentences # lọc lấy text"
      ],
      "execution_count": null,
      "outputs": [
        {
          "output_type": "execute_result",
          "data": {
            "text/plain": [
              "['“The world as we have created it is a process of our thinking. It cannot be changed without changing our thinking.”',\n",
              " '“It is our choices, Harry, that show what we truly are, far more than our abilities.”',\n",
              " '“There are only two ways to live your life. One is as though nothing is a miracle. The other is as though everything is a miracle.”',\n",
              " '“The person, be it gentleman or lady, who has not pleasure in a good novel, must be intolerably stupid.”',\n",
              " \"“Imperfection is beauty, madness is genius and it's better to be absolutely ridiculous than absolutely boring.”\",\n",
              " '“Try not to become a man of success. Rather become a man of value.”',\n",
              " '“It is better to be hated for what you are than to be loved for what you are not.”',\n",
              " \"“I have not failed. I've just found 10,000 ways that won't work.”\",\n",
              " \"“A woman is like a tea bag; you never know how strong it is until it's in hot water.”\",\n",
              " '“A day without sunshine is like, you know, night.”']"
            ]
          },
          "metadata": {
            "tags": []
          },
          "execution_count": 19
        }
      ]
    },
    {
      "cell_type": "code",
      "metadata": {
        "id": "0NqYpRtnKRpQ",
        "colab_type": "code",
        "colab": {}
      },
      "source": [
        "tokenizer = Tokenizer(oov_token=\"<OOV>\")"
      ],
      "execution_count": null,
      "outputs": []
    },
    {
      "cell_type": "code",
      "metadata": {
        "id": "Og5eK_XnKu6K",
        "colab_type": "code",
        "colab": {}
      },
      "source": [
        "tokenizer.fit_on_texts(sentences)"
      ],
      "execution_count": null,
      "outputs": []
    },
    {
      "cell_type": "code",
      "metadata": {
        "id": "haf-ru__K3lA",
        "colab_type": "code",
        "colab": {
          "base_uri": "https://localhost:8080/",
          "height": 1000
        },
        "outputId": "9230adce-4ddf-4a2e-ec7f-a8b171a7c4b1"
      },
      "source": [
        "tokenizer.word_index"
      ],
      "execution_count": null,
      "outputs": [
        {
          "output_type": "execute_result",
          "data": {
            "text/plain": [
              "{'000': 91,\n",
              " '10': 90,\n",
              " '<OOV>': 1,\n",
              " 'a': 4,\n",
              " 'abilities': 48,\n",
              " 'absolutely': 29,\n",
              " 'and': 76,\n",
              " 'are': 9,\n",
              " 'as': 12,\n",
              " 'bag': 96,\n",
              " 'be': 5,\n",
              " 'beauty': 73,\n",
              " 'become': 30,\n",
              " 'better': 28,\n",
              " 'boring': 78,\n",
              " 'cannot': 39,\n",
              " 'changed': 40,\n",
              " 'changing': 41,\n",
              " 'choices': 42,\n",
              " 'created': 37,\n",
              " 'day': 103,\n",
              " 'everything': 59,\n",
              " 'failed': 86,\n",
              " 'far': 46,\n",
              " 'for': 32,\n",
              " 'found': 89,\n",
              " 'genius': 75,\n",
              " 'gentleman': 61,\n",
              " 'good': 67,\n",
              " 'harry': 43,\n",
              " 'has': 65,\n",
              " 'hated': 83,\n",
              " 'have': 18,\n",
              " 'hot': 101,\n",
              " 'how': 98,\n",
              " \"i've\": 87,\n",
              " 'in': 26,\n",
              " 'intolerably': 70,\n",
              " 'is': 2,\n",
              " 'it': 7,\n",
              " \"it's\": 27,\n",
              " 'just': 88,\n",
              " 'know': 35,\n",
              " 'lady': 63,\n",
              " 'life': 54,\n",
              " 'like': 34,\n",
              " 'live': 52,\n",
              " 'loved': 84,\n",
              " 'madness': 74,\n",
              " 'man': 31,\n",
              " 'miracle': 25,\n",
              " 'more': 47,\n",
              " 'must': 69,\n",
              " 'never': 97,\n",
              " 'night': 105,\n",
              " 'not': 10,\n",
              " 'nothing': 56,\n",
              " 'novel': 68,\n",
              " 'of': 13,\n",
              " 'one': 55,\n",
              " 'only': 50,\n",
              " 'or': 62,\n",
              " 'other': 58,\n",
              " 'our': 8,\n",
              " 'person': 60,\n",
              " 'pleasure': 66,\n",
              " 'process': 38,\n",
              " 'rather': 81,\n",
              " 'ridiculous': 77,\n",
              " 'show': 44,\n",
              " 'strong': 99,\n",
              " 'stupid': 71,\n",
              " 'success': 80,\n",
              " 'sunshine': 104,\n",
              " 'tea': 95,\n",
              " 'than': 15,\n",
              " 'that': 22,\n",
              " 'the': 57,\n",
              " 'thinking': 19,\n",
              " 'though': 24,\n",
              " 'to': 6,\n",
              " 'truly': 45,\n",
              " 'two': 51,\n",
              " 'until': 100,\n",
              " 'value': 82,\n",
              " 'water': 102,\n",
              " 'ways': 23,\n",
              " 'we': 17,\n",
              " 'what': 14,\n",
              " 'who': 64,\n",
              " 'without': 20,\n",
              " 'woman': 94,\n",
              " \"won't\": 92,\n",
              " 'work': 93,\n",
              " 'world': 36,\n",
              " 'you': 11,\n",
              " 'your': 53,\n",
              " '“a': 33,\n",
              " '“i': 85,\n",
              " '“imperfection': 72,\n",
              " '“it': 21,\n",
              " '“the': 16,\n",
              " '“there': 49,\n",
              " '“try': 79,\n",
              " '”': 3}"
            ]
          },
          "metadata": {
            "tags": []
          },
          "execution_count": 24
        }
      ]
    },
    {
      "cell_type": "code",
      "metadata": {
        "id": "mA7bC0YkLEQV",
        "colab_type": "code",
        "colab": {}
      },
      "source": [
        ""
      ],
      "execution_count": null,
      "outputs": []
    }
  ]
}