{
  "nbformat": 4,
  "nbformat_minor": 0,
  "metadata": {
    "colab": {
      "name": " Ex_NLP_Conv1D_LSTM.ipynb",
      "provenance": [],
      "collapsed_sections": []
    },
    "kernelspec": {
      "name": "python3",
      "display_name": "Python 3"
    },
    "accelerator": "GPU"
  },
  "cells": [
    {
      "cell_type": "code",
      "metadata": {
        "id": "VooCLLqcLbs0",
        "colab_type": "code",
        "colab": {}
      },
      "source": [
        "#nhận diện mạng có chữ dùng convolution  , use Conv1D"
      ],
      "execution_count": null,
      "outputs": []
    },
    {
      "cell_type": "code",
      "metadata": {
        "id": "gq8R3tYVMo9Q",
        "colab_type": "code",
        "colab": {
          "base_uri": "https://localhost:8080/",
          "height": 219
        },
        "outputId": "96fcf53b-a40b-47f7-e360-1df005b7cc8b"
      },
      "source": [
        "!wget --no-check-certificate \\https://storage.googleapis.com/laurencemoroney-blog.appspot.com/sarcasm.json \\-O /tmp/sarcasm.json"
      ],
      "execution_count": null,
      "outputs": [
        {
          "output_type": "stream",
          "text": [
            "--2020-07-06 02:36:26--  https://storage.googleapis.com/laurencemoroney-blog.appspot.com/sarcasm.json\n",
            "Resolving storage.googleapis.com (storage.googleapis.com)... 64.233.167.128, 74.125.133.128, 173.194.76.128, ...\n",
            "Connecting to storage.googleapis.com (storage.googleapis.com)|64.233.167.128|:443... connected.\n",
            "HTTP request sent, awaiting response... 200 OK\n",
            "Length: 5643545 (5.4M) [application/json]\n",
            "Saving to: ‘/tmp/sarcasm.json’\n",
            "\n",
            "\r/tmp/sarcasm.json     0%[                    ]       0  --.-KB/s               \r/tmp/sarcasm.json   100%[===================>]   5.38M  --.-KB/s    in 0.05s   \n",
            "\n",
            "2020-07-06 02:36:26 (100 MB/s) - ‘/tmp/sarcasm.json’ saved [5643545/5643545]\n",
            "\n"
          ],
          "name": "stdout"
        }
      ]
    },
    {
      "cell_type": "code",
      "metadata": {
        "id": "d11iQD-rNDTJ",
        "colab_type": "code",
        "colab": {}
      },
      "source": [
        "import json # laf files json . csv thi dung pandas cat"
      ],
      "execution_count": null,
      "outputs": []
    },
    {
      "cell_type": "code",
      "metadata": {
        "id": "aLo3bodENNLj",
        "colab_type": "code",
        "colab": {}
      },
      "source": [
        "#đọc data mỉa mai (sarcastic)\n",
        "with open(\"/tmp/sarcasm.json\",\"r\")as f:\n",
        "  data = json.load(f)"
      ],
      "execution_count": null,
      "outputs": []
    },
    {
      "cell_type": "code",
      "metadata": {
        "id": "eNJkc3ifNb3l",
        "colab_type": "code",
        "colab": {
          "base_uri": "https://localhost:8080/",
          "height": 72
        },
        "outputId": "a619c895-5808-4462-c856-766126ae2995"
      },
      "source": [
        "data[20] # 1 là mỉa mai , 0 là không mỉa mai ."
      ],
      "execution_count": null,
      "outputs": [
        {
          "output_type": "execute_result",
          "data": {
            "text/plain": [
              "{'article_link': 'https://local.theonion.com/courtroom-sketch-artist-has-clear-manga-influences-1820298494',\n",
              " 'headline': 'courtroom sketch artist has clear manga influences',\n",
              " 'is_sarcastic': 1}"
            ]
          },
          "metadata": {
            "tags": []
          },
          "execution_count": 4
        }
      ]
    },
    {
      "cell_type": "code",
      "metadata": {
        "id": "jI6z4p3ZNfe6",
        "colab_type": "code",
        "colab": {
          "base_uri": "https://localhost:8080/",
          "height": 246
        },
        "outputId": "3bb86e5f-3cef-4b9a-92a3-34c701a2aef2"
      },
      "source": [
        "sentences = []\n",
        "labels = []\n",
        "#lay tu , để tạo từ điển để có EB\n",
        "for item in data:\n",
        "  sentences.append(item[\"headline\"])\n",
        "  labels.append(item[\"is_sarcastic\"])"
      ],
      "execution_count": null,
      "outputs": [
        {
          "output_type": "error",
          "ename": "NameError",
          "evalue": "ignored",
          "traceback": [
            "\u001b[0;31m---------------------------------------------------------------------------\u001b[0m",
            "\u001b[0;31mNameError\u001b[0m                                 Traceback (most recent call last)",
            "\u001b[0;32m<ipython-input-1-9287ac0be785>\u001b[0m in \u001b[0;36m<module>\u001b[0;34m()\u001b[0m\n\u001b[1;32m      2\u001b[0m \u001b[0mlabels\u001b[0m \u001b[0;34m=\u001b[0m \u001b[0;34m[\u001b[0m\u001b[0;34m]\u001b[0m\u001b[0;34m\u001b[0m\u001b[0;34m\u001b[0m\u001b[0m\n\u001b[1;32m      3\u001b[0m \u001b[0;31m#lay tu , để tạo từ điển để có EB\u001b[0m\u001b[0;34m\u001b[0m\u001b[0;34m\u001b[0m\u001b[0;34m\u001b[0m\u001b[0m\n\u001b[0;32m----> 4\u001b[0;31m \u001b[0;32mfor\u001b[0m \u001b[0mitem\u001b[0m \u001b[0;32min\u001b[0m \u001b[0mdata\u001b[0m\u001b[0;34m:\u001b[0m\u001b[0;34m\u001b[0m\u001b[0;34m\u001b[0m\u001b[0m\n\u001b[0m\u001b[1;32m      5\u001b[0m   \u001b[0msentences\u001b[0m\u001b[0;34m.\u001b[0m\u001b[0mappend\u001b[0m\u001b[0;34m(\u001b[0m\u001b[0mitem\u001b[0m\u001b[0;34m[\u001b[0m\u001b[0;34m\"headline\"\u001b[0m\u001b[0;34m]\u001b[0m\u001b[0;34m)\u001b[0m\u001b[0;34m\u001b[0m\u001b[0;34m\u001b[0m\u001b[0m\n\u001b[1;32m      6\u001b[0m   \u001b[0mlabels\u001b[0m\u001b[0;34m.\u001b[0m\u001b[0mappend\u001b[0m\u001b[0;34m(\u001b[0m\u001b[0mitem\u001b[0m\u001b[0;34m[\u001b[0m\u001b[0;34m\"is_sarcastic\"\u001b[0m\u001b[0;34m]\u001b[0m\u001b[0;34m)\u001b[0m\u001b[0;34m\u001b[0m\u001b[0;34m\u001b[0m\u001b[0m\n",
            "\u001b[0;31mNameError\u001b[0m: name 'data' is not defined"
          ]
        }
      ]
    },
    {
      "cell_type": "code",
      "metadata": {
        "id": "aujLebRfN_QO",
        "colab_type": "code",
        "colab": {
          "base_uri": "https://localhost:8080/",
          "height": 35
        },
        "outputId": "3cf3f2b5-8681-47c4-da0a-93892fb6544c"
      },
      "source": [
        "len(sentences)# so cau"
      ],
      "execution_count": null,
      "outputs": [
        {
          "output_type": "execute_result",
          "data": {
            "text/plain": [
              "26709"
            ]
          },
          "metadata": {
            "tags": []
          },
          "execution_count": 6
        }
      ]
    },
    {
      "cell_type": "code",
      "metadata": {
        "id": "tKShMUQdOKwN",
        "colab_type": "code",
        "colab": {
          "base_uri": "https://localhost:8080/",
          "height": 35
        },
        "outputId": "dde2c354-3c13-442f-f4d2-794d8a591a62"
      },
      "source": [
        "len(labels)"
      ],
      "execution_count": null,
      "outputs": [
        {
          "output_type": "execute_result",
          "data": {
            "text/plain": [
              "26709"
            ]
          },
          "metadata": {
            "tags": []
          },
          "execution_count": 7
        }
      ]
    },
    {
      "cell_type": "code",
      "metadata": {
        "id": "l8qslL4UOEJB",
        "colab_type": "code",
        "colab": {}
      },
      "source": [
        "train_size = 20000 "
      ],
      "execution_count": null,
      "outputs": []
    },
    {
      "cell_type": "code",
      "metadata": {
        "id": "BRzJHP8QPEyO",
        "colab_type": "code",
        "colab": {}
      },
      "source": [
        "train_sentences = sentences[:train_size]\n",
        "train_labels = labels[:train_size]\n",
        "test_sentences= sentences[train_size:]\n",
        "test_labels = labels[train_size:]"
      ],
      "execution_count": null,
      "outputs": []
    },
    {
      "cell_type": "code",
      "metadata": {
        "id": "Z2Wp7PadPcSh",
        "colab_type": "code",
        "colab": {}
      },
      "source": [
        "#chuyển thành numpy\n",
        "import numpy as np \n",
        "train_labels = np.array(train_labels)\n",
        "test_labels = np.array(test_labels)"
      ],
      "execution_count": null,
      "outputs": []
    },
    {
      "cell_type": "markdown",
      "metadata": {
        "id": "2xu5iwbxC89A",
        "colab_type": "text"
      },
      "source": [
        ""
      ]
    },
    {
      "cell_type": "code",
      "metadata": {
        "id": "3yzLCvTbxHdn",
        "colab_type": "code",
        "colab": {
          "base_uri": "https://localhost:8080/",
          "height": 35
        },
        "outputId": "87fc8316-31d1-4dc7-b467-a0d6bcb247c4"
      },
      "source": [
        "train_labels"
      ],
      "execution_count": null,
      "outputs": [
        {
          "output_type": "execute_result",
          "data": {
            "text/plain": [
              "array([0, 0, 1, ..., 0, 0, 1])"
            ]
          },
          "metadata": {
            "tags": []
          },
          "execution_count": 35
        }
      ]
    },
    {
      "cell_type": "code",
      "metadata": {
        "id": "ccNgJTgiPsX_",
        "colab_type": "code",
        "colab": {}
      },
      "source": [
        "from tensorflow.keras.preprocessing.text import Tokenizer # Tach cac tu \n",
        "from tensorflow.keras.preprocessing.sequence import pad_sequences "
      ],
      "execution_count": null,
      "outputs": []
    },
    {
      "cell_type": "code",
      "metadata": {
        "id": "hmriZJVpQLgZ",
        "colab_type": "code",
        "colab": {}
      },
      "source": [
        "vocab_size = 10000 # sẽ ảnh hưởng tới EB , số lượng từ ít , vocab ít thui"
      ],
      "execution_count": null,
      "outputs": []
    },
    {
      "cell_type": "code",
      "metadata": {
        "id": "-dt9L8OFQE0Z",
        "colab_type": "code",
        "colab": {}
      },
      "source": [
        "tokenizer = Tokenizer(num_words=vocab_size,oov_token=\"<OOV>\") # one hot 6 thì vecter từ ở vị trí thứ 6 , oov là 1 thì vị trí là 1\n"
      ],
      "execution_count": null,
      "outputs": []
    },
    {
      "cell_type": "code",
      "metadata": {
        "id": "CKUtqTX0Qgra",
        "colab_type": "code",
        "colab": {}
      },
      "source": [
        "tokenizer.fit_on_texts(train_sentences)"
      ],
      "execution_count": null,
      "outputs": []
    },
    {
      "cell_type": "code",
      "metadata": {
        "id": "0INgxF25Qm5i",
        "colab_type": "code",
        "colab": {
          "base_uri": "https://localhost:8080/",
          "height": 1000
        },
        "outputId": "2926359a-7751-4780-9d86-a662b103401b"
      },
      "source": [
        "tokenizer.word_index #Số lần xuất hiện từ , những số này sẽ ảnh hướng tới one hot ."
      ],
      "execution_count": null,
      "outputs": [
        {
          "output_type": "execute_result",
          "data": {
            "text/plain": [
              "{'<OOV>': 1,\n",
              " 'to': 2,\n",
              " 'of': 3,\n",
              " 'the': 4,\n",
              " 'in': 5,\n",
              " 'for': 6,\n",
              " 'a': 7,\n",
              " 'on': 8,\n",
              " 'and': 9,\n",
              " 'with': 10,\n",
              " 'is': 11,\n",
              " 'new': 12,\n",
              " 'trump': 13,\n",
              " 'man': 14,\n",
              " 'from': 15,\n",
              " 'at': 16,\n",
              " 'about': 17,\n",
              " 'you': 18,\n",
              " 'by': 19,\n",
              " 'this': 20,\n",
              " 'after': 21,\n",
              " 'be': 22,\n",
              " 'up': 23,\n",
              " 'out': 24,\n",
              " 'that': 25,\n",
              " 'how': 26,\n",
              " 'as': 27,\n",
              " 'it': 28,\n",
              " 'not': 29,\n",
              " 'are': 30,\n",
              " 'your': 31,\n",
              " 'what': 32,\n",
              " 'his': 33,\n",
              " 'all': 34,\n",
              " 'he': 35,\n",
              " 'will': 36,\n",
              " 'who': 37,\n",
              " 'just': 38,\n",
              " 'has': 39,\n",
              " 'more': 40,\n",
              " 'one': 41,\n",
              " 'year': 42,\n",
              " 'into': 43,\n",
              " 'report': 44,\n",
              " 'have': 45,\n",
              " 'why': 46,\n",
              " 'over': 47,\n",
              " 'area': 48,\n",
              " 'u': 49,\n",
              " 'donald': 50,\n",
              " 'says': 51,\n",
              " 'day': 52,\n",
              " 'can': 53,\n",
              " 's': 54,\n",
              " 'first': 55,\n",
              " 'woman': 56,\n",
              " 'time': 57,\n",
              " 'like': 58,\n",
              " 'get': 59,\n",
              " 'old': 60,\n",
              " 'no': 61,\n",
              " 'her': 62,\n",
              " \"trump's\": 63,\n",
              " 'off': 64,\n",
              " 'now': 65,\n",
              " 'an': 66,\n",
              " 'obama': 67,\n",
              " 'life': 68,\n",
              " 'people': 69,\n",
              " 'women': 70,\n",
              " 'house': 71,\n",
              " \"'\": 72,\n",
              " 'was': 73,\n",
              " 'still': 74,\n",
              " 'white': 75,\n",
              " 'back': 76,\n",
              " 'make': 77,\n",
              " 'than': 78,\n",
              " 'clinton': 79,\n",
              " 'down': 80,\n",
              " 'when': 81,\n",
              " 'my': 82,\n",
              " '5': 83,\n",
              " 'could': 84,\n",
              " 'world': 85,\n",
              " 'americans': 86,\n",
              " 'if': 87,\n",
              " 'i': 88,\n",
              " 'we': 89,\n",
              " 'way': 90,\n",
              " 'their': 91,\n",
              " 'most': 92,\n",
              " 'study': 93,\n",
              " 'they': 94,\n",
              " 'before': 95,\n",
              " 'family': 96,\n",
              " 'do': 97,\n",
              " 'gop': 98,\n",
              " 'best': 99,\n",
              " 'black': 100,\n",
              " \"it's\": 101,\n",
              " 'bill': 102,\n",
              " 'school': 103,\n",
              " 'but': 104,\n",
              " 'only': 105,\n",
              " 'police': 106,\n",
              " 'him': 107,\n",
              " 'so': 108,\n",
              " 'years': 109,\n",
              " 'president': 110,\n",
              " 'know': 111,\n",
              " '3': 112,\n",
              " 'being': 113,\n",
              " 'watch': 114,\n",
              " 'should': 115,\n",
              " 'would': 116,\n",
              " 'last': 117,\n",
              " 'really': 118,\n",
              " '10': 119,\n",
              " 'video': 120,\n",
              " 'show': 121,\n",
              " \"can't\": 122,\n",
              " 'going': 123,\n",
              " 'death': 124,\n",
              " 'hillary': 125,\n",
              " 'during': 126,\n",
              " 'finds': 127,\n",
              " 'american': 128,\n",
              " 'things': 129,\n",
              " 'good': 130,\n",
              " 'state': 131,\n",
              " 'against': 132,\n",
              " 'she': 133,\n",
              " 'home': 134,\n",
              " 'or': 135,\n",
              " 'may': 136,\n",
              " 'love': 137,\n",
              " 'health': 138,\n",
              " 'say': 139,\n",
              " 'need': 140,\n",
              " 'nation': 141,\n",
              " 'too': 142,\n",
              " '000': 143,\n",
              " 'every': 144,\n",
              " 'right': 145,\n",
              " 'take': 146,\n",
              " 'gets': 147,\n",
              " 'campaign': 148,\n",
              " \"'the\": 149,\n",
              " 'work': 150,\n",
              " 'little': 151,\n",
              " '2': 152,\n",
              " 'mom': 153,\n",
              " 'court': 154,\n",
              " 'some': 155,\n",
              " 'getting': 156,\n",
              " 'party': 157,\n",
              " 'high': 158,\n",
              " 'john': 159,\n",
              " \"here's\": 160,\n",
              " 'our': 161,\n",
              " '7': 162,\n",
              " 'kids': 163,\n",
              " 'calls': 164,\n",
              " 'where': 165,\n",
              " 'takes': 166,\n",
              " 'makes': 167,\n",
              " 'child': 168,\n",
              " 'parents': 169,\n",
              " 'dead': 170,\n",
              " 'big': 171,\n",
              " 'these': 172,\n",
              " 'local': 173,\n",
              " 'while': 174,\n",
              " 'own': 175,\n",
              " 'never': 176,\n",
              " 'election': 177,\n",
              " 'real': 178,\n",
              " 'go': 179,\n",
              " \"doesn't\": 180,\n",
              " 'other': 181,\n",
              " \"he's\": 182,\n",
              " 'news': 183,\n",
              " 'america': 184,\n",
              " 'see': 185,\n",
              " 'self': 186,\n",
              " 'through': 187,\n",
              " '4': 188,\n",
              " 'plan': 189,\n",
              " 'stop': 190,\n",
              " 'want': 191,\n",
              " 'college': 192,\n",
              " 'guy': 193,\n",
              " 'its': 194,\n",
              " 'change': 195,\n",
              " '6': 196,\n",
              " 'look': 197,\n",
              " 'sex': 198,\n",
              " 'gay': 199,\n",
              " 'office': 200,\n",
              " 'again': 201,\n",
              " \"don't\": 202,\n",
              " 'two': 203,\n",
              " 'bush': 204,\n",
              " 'next': 205,\n",
              " \"nation's\": 206,\n",
              " 'around': 207,\n",
              " 'war': 208,\n",
              " 'even': 209,\n",
              " '1': 210,\n",
              " 'got': 211,\n",
              " 'another': 212,\n",
              " 'wants': 213,\n",
              " 'baby': 214,\n",
              " 'million': 215,\n",
              " 'long': 216,\n",
              " \"man's\": 217,\n",
              " 'dog': 218,\n",
              " 'them': 219,\n",
              " 'week': 220,\n",
              " 'thing': 221,\n",
              " 'dad': 222,\n",
              " 'congress': 223,\n",
              " 'made': 224,\n",
              " 'gun': 225,\n",
              " 'north': 226,\n",
              " 'much': 227,\n",
              " 'care': 228,\n",
              " 'under': 229,\n",
              " 'job': 230,\n",
              " 'ever': 231,\n",
              " 'national': 232,\n",
              " 'finally': 233,\n",
              " 'debate': 234,\n",
              " 'actually': 235,\n",
              " 'help': 236,\n",
              " 'ways': 237,\n",
              " '20': 238,\n",
              " 'us': 239,\n",
              " 'been': 240,\n",
              " 'students': 241,\n",
              " '9': 242,\n",
              " 'shows': 243,\n",
              " 'sexual': 244,\n",
              " 'give': 245,\n",
              " \"won't\": 246,\n",
              " 'season': 247,\n",
              " 'live': 248,\n",
              " 'game': 249,\n",
              " 'making': 250,\n",
              " 'better': 251,\n",
              " 'climate': 252,\n",
              " 'senate': 253,\n",
              " 'shooting': 254,\n",
              " 'without': 255,\n",
              " 'anti': 256,\n",
              " 'history': 257,\n",
              " 'media': 258,\n",
              " 'night': 259,\n",
              " 'had': 260,\n",
              " 'star': 261,\n",
              " 'god': 262,\n",
              " 'couple': 263,\n",
              " 'money': 264,\n",
              " 'entire': 265,\n",
              " 'everyone': 266,\n",
              " 'there': 267,\n",
              " 'city': 268,\n",
              " 'free': 269,\n",
              " 'trying': 270,\n",
              " 'any': 271,\n",
              " 'end': 272,\n",
              " 'me': 273,\n",
              " 'children': 274,\n",
              " 'announces': 275,\n",
              " 'tv': 276,\n",
              " 'law': 277,\n",
              " 'top': 278,\n",
              " 'found': 279,\n",
              " 'away': 280,\n",
              " 'paul': 281,\n",
              " 'supreme': 282,\n",
              " 'face': 283,\n",
              " '8': 284,\n",
              " 'men': 285,\n",
              " 'government': 286,\n",
              " 'teen': 287,\n",
              " 'come': 288,\n",
              " 'story': 289,\n",
              " 'tell': 290,\n",
              " 'business': 291,\n",
              " 'food': 292,\n",
              " 'part': 293,\n",
              " 'film': 294,\n",
              " 'bad': 295,\n",
              " 'reveals': 296,\n",
              " 'think': 297,\n",
              " 'deal': 298,\n",
              " 'introduces': 299,\n",
              " 'morning': 300,\n",
              " 'attack': 301,\n",
              " 'find': 302,\n",
              " 'james': 303,\n",
              " 'son': 304,\n",
              " 'car': 305,\n",
              " '11': 306,\n",
              " 'enough': 307,\n",
              " 'fire': 308,\n",
              " 'facebook': 309,\n",
              " 'does': 310,\n",
              " 'power': 311,\n",
              " 'pope': 312,\n",
              " 'movie': 313,\n",
              " 'friend': 314,\n",
              " 'fight': 315,\n",
              " 'york': 316,\n",
              " 'wedding': 317,\n",
              " 'used': 318,\n",
              " 'body': 319,\n",
              " 'book': 320,\n",
              " 'call': 321,\n",
              " 'middle': 322,\n",
              " \"didn't\": 323,\n",
              " 'girl': 324,\n",
              " 'run': 325,\n",
              " 'same': 326,\n",
              " 'use': 327,\n",
              " 'former': 328,\n",
              " 'tax': 329,\n",
              " 'single': 330,\n",
              " 'thinks': 331,\n",
              " 'friends': 332,\n",
              " 'public': 333,\n",
              " 'second': 334,\n",
              " 'email': 335,\n",
              " 'support': 336,\n",
              " 'line': 337,\n",
              " 'photos': 338,\n",
              " 'republican': 339,\n",
              " 'great': 340,\n",
              " 'asks': 341,\n",
              " 'rights': 342,\n",
              " 'company': 343,\n",
              " 'behind': 344,\n",
              " 'sanders': 345,\n",
              " 'marriage': 346,\n",
              " 'speech': 347,\n",
              " 'looking': 348,\n",
              " 'must': 349,\n",
              " 'claims': 350,\n",
              " 'room': 351,\n",
              " 'security': 352,\n",
              " 'already': 353,\n",
              " 'because': 354,\n",
              " 'each': 355,\n",
              " '2016': 356,\n",
              " 'keep': 357,\n",
              " 'judge': 358,\n",
              " 'team': 359,\n",
              " 'republicans': 360,\n",
              " 'christmas': 361,\n",
              " 'goes': 362,\n",
              " 'vote': 363,\n",
              " 'democrats': 364,\n",
              " 'talk': 365,\n",
              " \"world's\": 366,\n",
              " 'presidential': 367,\n",
              " 'violence': 368,\n",
              " 'case': 369,\n",
              " 'inside': 370,\n",
              " 'voters': 371,\n",
              " 'control': 372,\n",
              " 'open': 373,\n",
              " 'ban': 374,\n",
              " 'future': 375,\n",
              " 'name': 376,\n",
              " 'human': 377,\n",
              " 'department': 378,\n",
              " 'between': 379,\n",
              " 'might': 380,\n",
              " 'ad': 381,\n",
              " 'wife': 382,\n",
              " 'coming': 383,\n",
              " 'perfect': 384,\n",
              " 'win': 385,\n",
              " 'having': 386,\n",
              " 'twitter': 387,\n",
              " 'killed': 388,\n",
              " 'secret': 389,\n",
              " 'political': 390,\n",
              " 'fans': 391,\n",
              " 'full': 392,\n",
              " 'sure': 393,\n",
              " 'group': 394,\n",
              " 'very': 395,\n",
              " 'pretty': 396,\n",
              " 'student': 397,\n",
              " 'texas': 398,\n",
              " 'three': 399,\n",
              " 'record': 400,\n",
              " 'once': 401,\n",
              " 'music': 402,\n",
              " '12': 403,\n",
              " 'bernie': 404,\n",
              " '15': 405,\n",
              " 'missing': 406,\n",
              " 'releases': 407,\n",
              " 'poll': 408,\n",
              " 'doing': 409,\n",
              " 'teacher': 410,\n",
              " 'ready': 411,\n",
              " 'living': 412,\n",
              " 'super': 413,\n",
              " 'boy': 414,\n",
              " 'always': 415,\n",
              " 'scientists': 416,\n",
              " 'art': 417,\n",
              " 'here': 418,\n",
              " 'reports': 419,\n",
              " 'unveils': 420,\n",
              " 'save': 421,\n",
              " 'kim': 422,\n",
              " 'until': 423,\n",
              " 'meet': 424,\n",
              " 'photo': 425,\n",
              " 'race': 426,\n",
              " 'something': 427,\n",
              " 'working': 428,\n",
              " 'comes': 429,\n",
              " 'were': 430,\n",
              " 'post': 431,\n",
              " 'obamacare': 432,\n",
              " 'start': 433,\n",
              " 'word': 434,\n",
              " 'running': 435,\n",
              " 'summer': 436,\n",
              " 'ryan': 437,\n",
              " 'lives': 438,\n",
              " 'fucking': 439,\n",
              " 'shot': 440,\n",
              " 'month': 441,\n",
              " 'mike': 442,\n",
              " 'thousands': 443,\n",
              " 'gives': 444,\n",
              " 'days': 445,\n",
              " 'wall': 446,\n",
              " 'leaves': 447,\n",
              " 'drug': 448,\n",
              " 'water': 449,\n",
              " 'california': 450,\n",
              " 'class': 451,\n",
              " 'female': 452,\n",
              " 'age': 453,\n",
              " 'looks': 454,\n",
              " 'social': 455,\n",
              " 'many': 456,\n",
              " 'let': 457,\n",
              " 'country': 458,\n",
              " 'person': 459,\n",
              " 'breaking': 460,\n",
              " 'everything': 461,\n",
              " 'head': 462,\n",
              " 'father': 463,\n",
              " 'plans': 464,\n",
              " 'minutes': 465,\n",
              " 'russia': 466,\n",
              " 'states': 467,\n",
              " 'town': 468,\n",
              " 'candidate': 469,\n",
              " 'forced': 470,\n",
              " 'put': 471,\n",
              " 'cancer': 472,\n",
              " 'yet': 473,\n",
              " 'education': 474,\n",
              " 'left': 475,\n",
              " 'probably': 476,\n",
              " 'korea': 477,\n",
              " 'cruz': 478,\n",
              " \"'i\": 479,\n",
              " 'air': 480,\n",
              " 'tells': 481,\n",
              " 'place': 482,\n",
              " 'past': 483,\n",
              " 'admits': 484,\n",
              " 'employee': 485,\n",
              " 'taking': 486,\n",
              " 'hot': 487,\n",
              " 'believe': 488,\n",
              " 'biden': 489,\n",
              " 'did': 490,\n",
              " 'hard': 491,\n",
              " 'red': 492,\n",
              " 'dream': 493,\n",
              " \"you're\": 494,\n",
              " 'mother': 495,\n",
              " 'half': 496,\n",
              " 'street': 497,\n",
              " 'eating': 498,\n",
              " 'pay': 499,\n",
              " \"i'm\": 500,\n",
              " 'justice': 501,\n",
              " 'secretary': 502,\n",
              " 'beautiful': 503,\n",
              " 'guide': 504,\n",
              " 'romney': 505,\n",
              " 'administration': 506,\n",
              " 'south': 507,\n",
              " 'heart': 508,\n",
              " 'list': 509,\n",
              " 'military': 510,\n",
              " '50': 511,\n",
              " 'isis': 512,\n",
              " 'internet': 513,\n",
              " 'tips': 514,\n",
              " 'personal': 515,\n",
              " 'small': 516,\n",
              " 'young': 517,\n",
              " 'talks': 518,\n",
              " '30': 519,\n",
              " 'needs': 520,\n",
              " 'together': 521,\n",
              " 'fbi': 522,\n",
              " 'rock': 523,\n",
              " 'nuclear': 524,\n",
              " 'lost': 525,\n",
              " 'times': 526,\n",
              " 'wins': 527,\n",
              " 'questions': 528,\n",
              " 'michael': 529,\n",
              " 'fan': 530,\n",
              " 'lot': 531,\n",
              " 'those': 532,\n",
              " 'letter': 533,\n",
              " 'hollywood': 534,\n",
              " 'set': 535,\n",
              " 'crisis': 536,\n",
              " 'officials': 537,\n",
              " 'king': 538,\n",
              " 'owner': 539,\n",
              " 'latest': 540,\n",
              " 'idea': 541,\n",
              " 'ex': 542,\n",
              " 'thought': 543,\n",
              " 'dies': 544,\n",
              " 'march': 545,\n",
              " 'kill': 546,\n",
              " 'excited': 547,\n",
              " 'restaurant': 548,\n",
              " 'iran': 549,\n",
              " 'director': 550,\n",
              " 'warns': 551,\n",
              " 'chris': 552,\n",
              " 'birthday': 553,\n",
              " 'congressman': 554,\n",
              " \"what's\": 555,\n",
              " 'issues': 556,\n",
              " 'ask': 557,\n",
              " 'service': 558,\n",
              " 'system': 559,\n",
              " 'birth': 560,\n",
              " 'federal': 561,\n",
              " 'sleep': 562,\n",
              " 'ceo': 563,\n",
              " 'holiday': 564,\n",
              " 'following': 565,\n",
              " 'daughter': 566,\n",
              " 'celebrates': 567,\n",
              " 'move': 568,\n",
              " 'assault': 569,\n",
              " 'wrong': 570,\n",
              " 'china': 571,\n",
              " 'rise': 572,\n",
              " 'ice': 573,\n",
              " 'someone': 574,\n",
              " 'majority': 575,\n",
              " 'cat': 576,\n",
              " 'muslim': 577,\n",
              " 'giving': 578,\n",
              " 'phone': 579,\n",
              " 'fun': 580,\n",
              " \"women's\": 581,\n",
              " 'problem': 582,\n",
              " 'abortion': 583,\n",
              " 'special': 584,\n",
              " 'mark': 585,\n",
              " 'wearing': 586,\n",
              " 'buy': 587,\n",
              " 'trip': 588,\n",
              " 'third': 589,\n",
              " 'knows': 590,\n",
              " \"isn't\": 591,\n",
              " 'tweets': 592,\n",
              " 'less': 593,\n",
              " 'nothing': 594,\n",
              " 'series': 595,\n",
              " 'earth': 596,\n",
              " 'chief': 597,\n",
              " 'percent': 598,\n",
              " 'favorite': 599,\n",
              " 'washington': 600,\n",
              " 'few': 601,\n",
              " 'cover': 602,\n",
              " 'talking': 603,\n",
              " 'meeting': 604,\n",
              " 'girls': 605,\n",
              " 'online': 606,\n",
              " 'syrian': 607,\n",
              " 'ted': 608,\n",
              " 'bar': 609,\n",
              " 'box': 610,\n",
              " 'hour': 611,\n",
              " 'play': 612,\n",
              " 'hours': 613,\n",
              " 'fashion': 614,\n",
              " 'late': 615,\n",
              " 'outside': 616,\n",
              " 'al': 617,\n",
              " 'community': 618,\n",
              " 'minute': 619,\n",
              " 'using': 620,\n",
              " 'message': 621,\n",
              " 'florida': 622,\n",
              " 'career': 623,\n",
              " 'become': 624,\n",
              " 'kid': 625,\n",
              " 'moment': 626,\n",
              " 'today': 627,\n",
              " 'huffpost': 628,\n",
              " 'watching': 629,\n",
              " 'stephen': 630,\n",
              " 'break': 631,\n",
              " 't': 632,\n",
              " 'un': 633,\n",
              " '2015': 634,\n",
              " 'democratic': 635,\n",
              " 'fox': 636,\n",
              " 'shit': 637,\n",
              " 'offers': 638,\n",
              " 'thinking': 639,\n",
              " 'george': 640,\n",
              " 'adorable': 641,\n",
              " 'response': 642,\n",
              " 'read': 643,\n",
              " 'weekend': 644,\n",
              " 'months': 645,\n",
              " 'visit': 646,\n",
              " 'hair': 647,\n",
              " 'victims': 648,\n",
              " \"america's\": 649,\n",
              " 'told': 650,\n",
              " 'hope': 651,\n",
              " 'least': 652,\n",
              " 'different': 653,\n",
              " 'point': 654,\n",
              " 'travel': 655,\n",
              " 'front': 656,\n",
              " 'billion': 657,\n",
              " 'since': 658,\n",
              " 'rules': 659,\n",
              " 'russian': 660,\n",
              " 'feel': 661,\n",
              " 'happy': 662,\n",
              " 'protest': 663,\n",
              " 'straight': 664,\n",
              " 'gift': 665,\n",
              " 'union': 666,\n",
              " 'bus': 667,\n",
              " 'crash': 668,\n",
              " \"she's\": 669,\n",
              " 'anything': 670,\n",
              " 'dating': 671,\n",
              " 'k': 672,\n",
              " 'scott': 673,\n",
              " 'david': 674,\n",
              " 'accused': 675,\n",
              " \"obama's\": 676,\n",
              " 'taylor': 677,\n",
              " 'trailer': 678,\n",
              " 'kind': 679,\n",
              " 'names': 680,\n",
              " 'well': 681,\n",
              " 'key': 682,\n",
              " 'order': 683,\n",
              " 'true': 684,\n",
              " 'reasons': 685,\n",
              " 'cop': 686,\n",
              " 'pence': 687,\n",
              " 'reason': 688,\n",
              " 'joe': 689,\n",
              " 'dinner': 690,\n",
              " 'oil': 691,\n",
              " 'syria': 692,\n",
              " 'powerful': 693,\n",
              " 'sick': 694,\n",
              " '100': 695,\n",
              " 'brings': 696,\n",
              " 'global': 697,\n",
              " 'date': 698,\n",
              " 'lead': 699,\n",
              " 'policy': 700,\n",
              " 'spends': 701,\n",
              " 'learned': 702,\n",
              " 'millions': 703,\n",
              " 'lessons': 704,\n",
              " 'francis': 705,\n",
              " 'c': 706,\n",
              " 'struggling': 707,\n",
              " 'low': 708,\n",
              " 'discover': 709,\n",
              " 'song': 710,\n",
              " 'opens': 711,\n",
              " 'far': 712,\n",
              " 'himself': 713,\n",
              " 'girlfriend': 714,\n",
              " 'j': 715,\n",
              " 'vows': 716,\n",
              " 'worried': 717,\n",
              " 'leave': 718,\n",
              " 'surprise': 719,\n",
              " 'kills': 720,\n",
              " 'united': 721,\n",
              " 'hate': 722,\n",
              " 'leader': 723,\n",
              " 'nfl': 724,\n",
              " 'oscar': 725,\n",
              " 'style': 726,\n",
              " 'whole': 727,\n",
              " 'anniversary': 728,\n",
              " 'turns': 729,\n",
              " 'conversation': 730,\n",
              " 'hit': 731,\n",
              " 'waiting': 732,\n",
              " 'general': 733,\n",
              " 'fighting': 734,\n",
              " 'schools': 735,\n",
              " 'host': 736,\n",
              " '2017': 737,\n",
              " 'killing': 738,\n",
              " 'apple': 739,\n",
              " '40': 740,\n",
              " 'prison': 741,\n",
              " '2014': 742,\n",
              " 'adds': 743,\n",
              " 'drunk': 744,\n",
              " \"they're\": 745,\n",
              " 'd': 746,\n",
              " 'near': 747,\n",
              " 'rubio': 748,\n",
              " 'reality': 749,\n",
              " 'weird': 750,\n",
              " 'senator': 751,\n",
              " 'feels': 752,\n",
              " 'possible': 753,\n",
              " 'moving': 754,\n",
              " 'stars': 755,\n",
              " 'signs': 756,\n",
              " 'politics': 757,\n",
              " 'sign': 758,\n",
              " 'jr': 759,\n",
              " 'immigration': 760,\n",
              " 'leaders': 761,\n",
              " 'stand': 762,\n",
              " 'called': 763,\n",
              " 'tour': 764,\n",
              " 'returns': 765,\n",
              " 'totally': 766,\n",
              " 'reportedly': 767,\n",
              " 'massive': 768,\n",
              " 'sports': 769,\n",
              " 'major': 770,\n",
              " 'force': 771,\n",
              " 'advice': 772,\n",
              " 'weight': 773,\n",
              " 'breaks': 774,\n",
              " 'number': 775,\n",
              " 'bring': 776,\n",
              " 'transgender': 777,\n",
              " 'west': 778,\n",
              " 'mass': 779,\n",
              " 'spring': 780,\n",
              " 'door': 781,\n",
              " 'fall': 782,\n",
              " 'investigation': 783,\n",
              " 'tom': 784,\n",
              " 'employees': 785,\n",
              " 'test': 786,\n",
              " 'relationship': 787,\n",
              " 'important': 788,\n",
              " 'puts': 789,\n",
              " 'iowa': 790,\n",
              " 'stage': 791,\n",
              " 'murder': 792,\n",
              " 'candidates': 793,\n",
              " 'close': 794,\n",
              " 'magazine': 795,\n",
              " 'early': 796,\n",
              " 'trans': 797,\n",
              " 'side': 798,\n",
              " 'store': 799,\n",
              " 'huge': 800,\n",
              " 'artist': 801,\n",
              " 'christian': 802,\n",
              " 'die': 803,\n",
              " 'abuse': 804,\n",
              " 'longer': 805,\n",
              " 'members': 806,\n",
              " 'worst': 807,\n",
              " 'peace': 808,\n",
              " 'loses': 809,\n",
              " 'act': 810,\n",
              " 'kardashian': 811,\n",
              " 'return': 812,\n",
              " 'audience': 813,\n",
              " 'five': 814,\n",
              " 'steve': 815,\n",
              " 'sean': 816,\n",
              " 'suspect': 817,\n",
              " 'prince': 818,\n",
              " 'ben': 819,\n",
              " 'attacks': 820,\n",
              " 'suicide': 821,\n",
              " 'program': 822,\n",
              " 'decision': 823,\n",
              " 'hits': 824,\n",
              " 'awards': 825,\n",
              " 'queer': 826,\n",
              " 'whether': 827,\n",
              " 'cops': 828,\n",
              " 'workers': 829,\n",
              " 'responds': 830,\n",
              " 'push': 831,\n",
              " 'fuck': 832,\n",
              " 'iraq': 833,\n",
              " 'google': 834,\n",
              " 'leaving': 835,\n",
              " 'carolina': 836,\n",
              " 'final': 837,\n",
              " 'voice': 838,\n",
              " 'chinese': 839,\n",
              " '13': 840,\n",
              " 'lgbt': 841,\n",
              " 'executive': 842,\n",
              " 'seen': 843,\n",
              " 'jimmy': 844,\n",
              " 'given': 845,\n",
              " 'keeps': 846,\n",
              " 'shares': 847,\n",
              " 'industry': 848,\n",
              " 'biggest': 849,\n",
              " 'protesters': 850,\n",
              " 'results': 851,\n",
              " 'press': 852,\n",
              " 'center': 853,\n",
              " 'lose': 854,\n",
              " 'almost': 855,\n",
              " 'light': 856,\n",
              " 'risk': 857,\n",
              " 'asking': 858,\n",
              " 'emotional': 859,\n",
              " 'paris': 860,\n",
              " 'michelle': 861,\n",
              " 'male': 862,\n",
              " 'hands': 863,\n",
              " 'road': 864,\n",
              " 'bathroom': 865,\n",
              " 'allegations': 866,\n",
              " 'bowl': 867,\n",
              " 'begins': 868,\n",
              " 'planned': 869,\n",
              " 'homeless': 870,\n",
              " 'poor': 871,\n",
              " 'planet': 872,\n",
              " 'hoping': 873,\n",
              " 'governor': 874,\n",
              " 'non': 875,\n",
              " 'east': 876,\n",
              " 'fails': 877,\n",
              " 'cool': 878,\n",
              " 'wait': 879,\n",
              " 'moms': 880,\n",
              " 'humans': 881,\n",
              " 'mind': 882,\n",
              " 'defense': 883,\n",
              " 'pizza': 884,\n",
              " 'ferguson': 885,\n",
              " 'feeling': 886,\n",
              " 'amazon': 887,\n",
              " 'hall': 888,\n",
              " 'worse': 889,\n",
              " 'starting': 890,\n",
              " 'fear': 891,\n",
              " 'nasa': 892,\n",
              " 'problems': 893,\n",
              " 'check': 894,\n",
              " 'ebola': 895,\n",
              " 'role': 896,\n",
              " 'building': 897,\n",
              " 'arrested': 898,\n",
              " 'driving': 899,\n",
              " 'four': 900,\n",
              " 'scandal': 901,\n",
              " 'space': 902,\n",
              " 'moore': 903,\n",
              " 'science': 904,\n",
              " 'dance': 905,\n",
              " 'easy': 906,\n",
              " 'hand': 907,\n",
              " 'israel': 908,\n",
              " 'picture': 909,\n",
              " 'eyes': 910,\n",
              " 'voter': 911,\n",
              " \"there's\": 912,\n",
              " 'mental': 913,\n",
              " 'action': 914,\n",
              " 'cut': 915,\n",
              " 'spend': 916,\n",
              " 'spot': 917,\n",
              " 'board': 918,\n",
              " 'chance': 919,\n",
              " 'words': 920,\n",
              " 'suggests': 921,\n",
              " 'urges': 922,\n",
              " 'williams': 923,\n",
              " 'coffee': 924,\n",
              " 'green': 925,\n",
              " 'apologizes': 926,\n",
              " 'celebrate': 927,\n",
              " 'documentary': 928,\n",
              " 'supporters': 929,\n",
              " 'remember': 930,\n",
              " 'depression': 931,\n",
              " 'halloween': 932,\n",
              " 'deadly': 933,\n",
              " 'louis': 934,\n",
              " 'pro': 935,\n",
              " 'oscars': 936,\n",
              " 'interview': 937,\n",
              " 'park': 938,\n",
              " 'completely': 939,\n",
              " 'harassment': 940,\n",
              " 'card': 941,\n",
              " 'university': 942,\n",
              " 'success': 943,\n",
              " 'coworker': 944,\n",
              " 'pick': 945,\n",
              " 'doctor': 946,\n",
              " 'harvey': 947,\n",
              " 'happens': 948,\n",
              " 'throws': 949,\n",
              " 'band': 950,\n",
              " 'pregnant': 951,\n",
              " 'hear': 952,\n",
              " 'crowd': 953,\n",
              " 'deep': 954,\n",
              " 'amazing': 955,\n",
              " 'official': 956,\n",
              " 'chicken': 957,\n",
              " 'ideas': 958,\n",
              " 'refugees': 959,\n",
              " 'forward': 960,\n",
              " 'opening': 961,\n",
              " 'reveal': 962,\n",
              " 'mean': 963,\n",
              " 'simple': 964,\n",
              " 'economy': 965,\n",
              " 'reminds': 966,\n",
              " 'which': 967,\n",
              " 'turn': 968,\n",
              " 'healthy': 969,\n",
              " 'senators': 970,\n",
              " 'swift': 971,\n",
              " 'eat': 972,\n",
              " 'hurricane': 973,\n",
              " '17': 974,\n",
              " 'rest': 975,\n",
              " 'album': 976,\n",
              " 'despite': 977,\n",
              " \"woman's\": 978,\n",
              " 'chicago': 979,\n",
              " 'movies': 980,\n",
              " 'happened': 981,\n",
              " 'officer': 982,\n",
              " 'across': 983,\n",
              " 'desperate': 984,\n",
              " 'uses': 985,\n",
              " 'apartment': 986,\n",
              " 'plane': 987,\n",
              " 'realizes': 988,\n",
              " 'funding': 989,\n",
              " 'holding': 990,\n",
              " 'leading': 991,\n",
              " 'crime': 992,\n",
              " 'demand': 993,\n",
              " \"we're\": 994,\n",
              " 'explains': 995,\n",
              " 'seeing': 996,\n",
              " 'slams': 997,\n",
              " 'residents': 998,\n",
              " 'sales': 999,\n",
              " \"let's\": 1000,\n",
              " ...}"
            ]
          },
          "metadata": {
            "tags": []
          },
          "execution_count": 17
        }
      ]
    },
    {
      "cell_type": "code",
      "metadata": {
        "id": "U5CDJt0UQvdm",
        "colab_type": "code",
        "colab": {}
      },
      "source": [
        "train_sentences = tokenizer.texts_to_sequences(train_sentences)# áp dụng tokenizer vào các câu , lưu ý oov là :1"
      ],
      "execution_count": null,
      "outputs": []
    },
    {
      "cell_type": "code",
      "metadata": {
        "id": "4B2mX8WGQ8eu",
        "colab_type": "code",
        "colab": {
          "base_uri": "https://localhost:8080/",
          "height": 35
        },
        "outputId": "010332a5-53c5-404c-c1d2-7485fb1e7a01"
      },
      "source": [
        "#train_sentences[0]\n",
        "print(train_sentences[0],type(train_sentences))"
      ],
      "execution_count": null,
      "outputs": [
        {
          "output_type": "stream",
          "text": [
            "[328, 1, 799, 3405, 2404, 47, 389, 2214, 1, 6, 2614, 8863] <class 'list'>\n"
          ],
          "name": "stdout"
        }
      ]
    },
    {
      "cell_type": "code",
      "metadata": {
        "id": "5e-QpQZcQ-Nl",
        "colab_type": "code",
        "colab": {}
      },
      "source": [
        "test_sentences = tokenizer.texts_to_sequences(test_sentences)"
      ],
      "execution_count": null,
      "outputs": []
    },
    {
      "cell_type": "code",
      "metadata": {
        "id": "eYAt1McJRRxC",
        "colab_type": "code",
        "colab": {}
      },
      "source": [
        "max_length = 140 \n",
        "padded_train_sequences= pad_sequences(train_sentences,\n",
        "                                      maxlen= max_length,\n",
        "                                      padding='post',\n",
        "                                      truncating='post') # Cắt câu hơn 140 từ thì sẽ cắt , ngắn hơn 140  thì sẽ padding thành ma trận , từ nào ko có sẽ thành 0 "
      ],
      "execution_count": null,
      "outputs": []
    },
    {
      "cell_type": "code",
      "metadata": {
        "id": "zSFb0W1bUHXf",
        "colab_type": "code",
        "colab": {}
      },
      "source": [
        "#Rồi đưa vào từ điển"
      ],
      "execution_count": null,
      "outputs": []
    },
    {
      "cell_type": "code",
      "metadata": {
        "id": "fKMpS8C3R041",
        "colab_type": "code",
        "colab": {
          "base_uri": "https://localhost:8080/",
          "height": 34
        },
        "outputId": "6d1baa4a-c549-430c-9de5-a96bd5e2efd2"
      },
      "source": [
        "padded_train_sequences.shape"
      ],
      "execution_count": null,
      "outputs": [
        {
          "output_type": "execute_result",
          "data": {
            "text/plain": [
              "(20000, 140)"
            ]
          },
          "metadata": {
            "tags": []
          },
          "execution_count": 27
        }
      ]
    },
    {
      "cell_type": "code",
      "metadata": {
        "id": "t8vydxNeR33L",
        "colab_type": "code",
        "colab": {
          "base_uri": "https://localhost:8080/",
          "height": 136
        },
        "outputId": "a4db0ded-68a2-4181-b5df-2006f8bebb30"
      },
      "source": [
        "padded_train_sequences"
      ],
      "execution_count": null,
      "outputs": [
        {
          "output_type": "execute_result",
          "data": {
            "text/plain": [
              "array([[ 328,    1,  799, ...,    0,    0,    0],\n",
              "       [   4, 6840, 3096, ...,    0,    0,    0],\n",
              "       [ 153,  890,    2, ...,    0,    0,    0],\n",
              "       ...,\n",
              "       [  79, 1729,    1, ...,    0,    0,    0],\n",
              "       [  53, 5108, 4735, ...,    0,    0,    0],\n",
              "       [ 312,  705,    1, ...,    0,    0,    0]], dtype=int32)"
            ]
          },
          "metadata": {
            "tags": []
          },
          "execution_count": 28
        }
      ]
    },
    {
      "cell_type": "code",
      "metadata": {
        "id": "sgIm57rIR676",
        "colab_type": "code",
        "colab": {}
      },
      "source": [
        "padded_test_sequences= pad_sequences(test_sentences,\n",
        "                                      maxlen= max_length,\n",
        "                                      padding='post',\n",
        "                                      truncating='post')"
      ],
      "execution_count": null,
      "outputs": []
    },
    {
      "cell_type": "code",
      "metadata": {
        "id": "oHyqDaM_USnO",
        "colab_type": "code",
        "colab": {}
      },
      "source": [
        "#Hoàn thành tạo từ điển thành ma trận."
      ],
      "execution_count": null,
      "outputs": []
    },
    {
      "cell_type": "code",
      "metadata": {
        "id": "9tk_EOomTHGf",
        "colab_type": "code",
        "colab": {
          "base_uri": "https://localhost:8080/",
          "height": 34
        },
        "outputId": "b36cf347-7281-4a2b-97cf-874ff55f3a49"
      },
      "source": [
        "padded_test_sequences.shape"
      ],
      "execution_count": null,
      "outputs": [
        {
          "output_type": "execute_result",
          "data": {
            "text/plain": [
              "(6709, 140)"
            ]
          },
          "metadata": {
            "tags": []
          },
          "execution_count": 31
        }
      ]
    },
    {
      "cell_type": "code",
      "metadata": {
        "id": "p6Kf1VBWTOr6",
        "colab_type": "code",
        "colab": {}
      },
      "source": [
        "from tensorflow.keras.models import  Sequential\n",
        "from tensorflow.keras.layers  import GlobalAveragePooling1D\n",
        "from tensorflow.keras.layers  import Dense\n",
        "from tensorflow.keras.layers import Conv1D # thường những bài toán về timeseries thì Conv1D dùng rất là nhiều\n",
        "from tensorflow.keras.layers import Embedding # chỉ là 1 ma trận thôi"
      ],
      "execution_count": null,
      "outputs": []
    },
    {
      "cell_type": "code",
      "metadata": {
        "id": "VQRfQz9mTkRb",
        "colab_type": "code",
        "colab": {}
      },
      "source": [
        "model = Sequential()\n",
        "model.add(Embedding(vocab_size,64)) # 64 là chiều vecter\n",
        "model.add(Conv1D(128,5,activation='relu'))  #1 từ là 64x1 . Conv sẽ là 5x1 chạy trên 1 từ (64x1)\n",
        "model.add(GlobalAveragePooling1D())\n",
        "model.add(Dense(64,activation=\"relu\"))\n",
        "model.add(Dense(1,activation=\"sigmoid\"))"
      ],
      "execution_count": null,
      "outputs": []
    },
    {
      "cell_type": "code",
      "metadata": {
        "id": "OuXLG081V0zo",
        "colab_type": "code",
        "colab": {
          "base_uri": "https://localhost:8080/",
          "height": 323
        },
        "outputId": "e9ba875c-3e03-47af-e4e2-249e957587d1"
      },
      "source": [
        "model.summary()"
      ],
      "execution_count": null,
      "outputs": [
        {
          "output_type": "stream",
          "text": [
            "Model: \"sequential_2\"\n",
            "_________________________________________________________________\n",
            "Layer (type)                 Output Shape              Param #   \n",
            "=================================================================\n",
            "embedding_2 (Embedding)      (None, None, 64)          640000    \n",
            "_________________________________________________________________\n",
            "conv1d_2 (Conv1D)            (None, None, 128)         41088     \n",
            "_________________________________________________________________\n",
            "global_average_pooling1d_1 ( (None, 128)               0         \n",
            "_________________________________________________________________\n",
            "dense_2 (Dense)              (None, 64)                8256      \n",
            "_________________________________________________________________\n",
            "dense_3 (Dense)              (None, 1)                 65        \n",
            "=================================================================\n",
            "Total params: 689,409\n",
            "Trainable params: 689,409\n",
            "Non-trainable params: 0\n",
            "_________________________________________________________________\n"
          ],
          "name": "stdout"
        }
      ]
    },
    {
      "cell_type": "code",
      "metadata": {
        "id": "PEO-iiz4WEbk",
        "colab_type": "code",
        "colab": {
          "base_uri": "https://localhost:8080/",
          "height": 544
        },
        "outputId": "2886c0ee-a3a3-422e-c515-e6f25b84ccf4"
      },
      "source": [
        "model.compile(loss = 'binary_crossentropy',optimizer='adam',metrics='acc')\n",
        "model.fit(padded_train_sequences,train_labels, \n",
        "          epochs=10,\n",
        "          validation_data=(padded_test_sequences,test_labels))"
      ],
      "execution_count": null,
      "outputs": [
        {
          "output_type": "stream",
          "text": [
            "Epoch 1/15\n",
            "625/625 [==============================] - 8s 12ms/step - loss: 0.4595 - acc: 0.7655 - val_loss: 0.3563 - val_acc: 0.8430\n",
            "Epoch 2/15\n",
            "625/625 [==============================] - 8s 12ms/step - loss: 0.2410 - acc: 0.9026 - val_loss: 0.3468 - val_acc: 0.8557\n",
            "Epoch 3/15\n",
            "625/625 [==============================] - 8s 12ms/step - loss: 0.1545 - acc: 0.9420 - val_loss: 0.4028 - val_acc: 0.8474\n",
            "Epoch 4/15\n",
            "625/625 [==============================] - 8s 13ms/step - loss: 0.0935 - acc: 0.9670 - val_loss: 0.5229 - val_acc: 0.8395\n",
            "Epoch 5/15\n",
            "625/625 [==============================] - 8s 12ms/step - loss: 0.0512 - acc: 0.9834 - val_loss: 0.6246 - val_acc: 0.8350\n",
            "Epoch 6/15\n",
            "625/625 [==============================] - 8s 12ms/step - loss: 0.0288 - acc: 0.9917 - val_loss: 0.7520 - val_acc: 0.8286\n",
            "Epoch 7/15\n",
            "625/625 [==============================] - 8s 12ms/step - loss: 0.0143 - acc: 0.9960 - val_loss: 0.8529 - val_acc: 0.8305\n",
            "Epoch 8/15\n",
            "625/625 [==============================] - 8s 12ms/step - loss: 0.0092 - acc: 0.9974 - val_loss: 0.9789 - val_acc: 0.8316\n",
            "Epoch 9/15\n",
            "625/625 [==============================] - 7s 12ms/step - loss: 0.0058 - acc: 0.9985 - val_loss: 1.0920 - val_acc: 0.8284\n",
            "Epoch 10/15\n",
            "625/625 [==============================] - 8s 12ms/step - loss: 0.0042 - acc: 0.9987 - val_loss: 1.2577 - val_acc: 0.8296\n",
            "Epoch 11/15\n",
            "625/625 [==============================] - 8s 12ms/step - loss: 0.0029 - acc: 0.9991 - val_loss: 1.2904 - val_acc: 0.8281\n",
            "Epoch 12/15\n",
            "625/625 [==============================] - 8s 12ms/step - loss: 0.0022 - acc: 0.9994 - val_loss: 1.3510 - val_acc: 0.8293\n",
            "Epoch 13/15\n",
            "625/625 [==============================] - 8s 12ms/step - loss: 0.0018 - acc: 0.9995 - val_loss: 1.3709 - val_acc: 0.8269\n",
            "Epoch 14/15\n",
            "625/625 [==============================] - 8s 12ms/step - loss: 0.0016 - acc: 0.9994 - val_loss: 1.4196 - val_acc: 0.8243\n",
            "Epoch 15/15\n",
            "625/625 [==============================] - 8s 12ms/step - loss: 0.0038 - acc: 0.9987 - val_loss: 1.5518 - val_acc: 0.8258\n"
          ],
          "name": "stdout"
        },
        {
          "output_type": "execute_result",
          "data": {
            "text/plain": [
              "<tensorflow.python.keras.callbacks.History at 0x7f8b89cfdb38>"
            ]
          },
          "metadata": {
            "tags": []
          },
          "execution_count": 67
        }
      ]
    },
    {
      "cell_type": "code",
      "metadata": {
        "id": "edfLUlWAggLH",
        "colab_type": "code",
        "colab": {}
      },
      "source": [
        "#predict\n",
        "test= [\n",
        "      test_sentences[74],\n",
        "      test_sentences[100],\n",
        "       test_sentences[5000]\n",
        "]"
      ],
      "execution_count": null,
      "outputs": []
    },
    {
      "cell_type": "code",
      "metadata": {
        "id": "bSxCErWOiuO9",
        "colab_type": "code",
        "colab": {
          "base_uri": "https://localhost:8080/",
          "height": 34
        },
        "outputId": "671a572d-2172-4484-bd54-f43936ef9831"
      },
      "source": [
        "print(test_labels[74],\n",
        "      test_labels[100],\n",
        "       test_labels[5000])"
      ],
      "execution_count": null,
      "outputs": [
        {
          "output_type": "stream",
          "text": [
            "0 1 1\n"
          ],
          "name": "stdout"
        }
      ]
    },
    {
      "cell_type": "code",
      "metadata": {
        "id": "dB2qSoyCmgvd",
        "colab_type": "code",
        "colab": {}
      },
      "source": [
        "test_sequences = tokenizer.texts_to_sequences(test) "
      ],
      "execution_count": null,
      "outputs": []
    },
    {
      "cell_type": "code",
      "metadata": {
        "id": "O1Qx21AAjtiN",
        "colab_type": "code",
        "colab": {}
      },
      "source": [
        "pad_test_sequences = pad_sequences(test_sequences,\n",
        "                                      maxlen= 140,\n",
        "                                      padding='post',\n",
        "                                      truncating='post')"
      ],
      "execution_count": null,
      "outputs": []
    },
    {
      "cell_type": "code",
      "metadata": {
        "id": "IarEj4JomvV_",
        "colab_type": "code",
        "colab": {
          "base_uri": "https://localhost:8080/",
          "height": 68
        },
        "outputId": "a8932a52-2a86-419c-8870-c6476c8f3a6b"
      },
      "source": [
        "model.predict(pad_test_sequences).round()"
      ],
      "execution_count": null,
      "outputs": [
        {
          "output_type": "execute_result",
          "data": {
            "text/plain": [
              "array([[1.],\n",
              "       [0.],\n",
              "       [1.]], dtype=float32)"
            ]
          },
          "metadata": {
            "tags": []
          },
          "execution_count": 107
        }
      ]
    },
    {
      "cell_type": "code",
      "metadata": {
        "id": "t3qv2Zp1m1fc",
        "colab_type": "code",
        "colab": {}
      },
      "source": [
        "\n",
        "from tensorflow.keras.layers import Bidirectional \n",
        "from tensorflow.keras.layers import  LSTM\n",
        "from tensorflow.keras.layers import  GRU"
      ],
      "execution_count": null,
      "outputs": []
    },
    {
      "cell_type": "code",
      "metadata": {
        "id": "yr5gltpOtMQz",
        "colab_type": "code",
        "colab": {}
      },
      "source": [
        ""
      ],
      "execution_count": null,
      "outputs": []
    },
    {
      "cell_type": "code",
      "metadata": {
        "id": "8XB59IxhtkUL",
        "colab_type": "code",
        "colab": {}
      },
      "source": [
        "model2 = Sequential()\n",
        "model2.add(Embedding(vocab_size, 64))\n",
        "model2.add(Bidirectional(LSTM(64, return_sequences=True)))\n",
        "model2.add(Bidirectional(LSTM(32)))\n",
        "model2.add(Dense(64, activation='relu'))\n",
        "model2.add(Dense(1, activation='sigmoid'))"
      ],
      "execution_count": null,
      "outputs": []
    },
    {
      "cell_type": "code",
      "metadata": {
        "id": "C0_vW1CLuXCN",
        "colab_type": "code",
        "colab": {
          "base_uri": "https://localhost:8080/",
          "height": 323
        },
        "outputId": "8d33c505-0027-4167-c9fb-c01d27d3586e"
      },
      "source": [
        "model2.summary()"
      ],
      "execution_count": null,
      "outputs": [
        {
          "output_type": "stream",
          "text": [
            "Model: \"sequential_1\"\n",
            "_________________________________________________________________\n",
            "Layer (type)                 Output Shape              Param #   \n",
            "=================================================================\n",
            "embedding (Embedding)        (None, None, 64)          640000    \n",
            "_________________________________________________________________\n",
            "bidirectional (Bidirectional (None, None, 128)         66048     \n",
            "_________________________________________________________________\n",
            "bidirectional_1 (Bidirection (None, 64)                41216     \n",
            "_________________________________________________________________\n",
            "dense (Dense)                (None, 64)                4160      \n",
            "_________________________________________________________________\n",
            "dense_1 (Dense)              (None, 1)                 65        \n",
            "=================================================================\n",
            "Total params: 751,489\n",
            "Trainable params: 751,489\n",
            "Non-trainable params: 0\n",
            "_________________________________________________________________\n"
          ],
          "name": "stdout"
        }
      ]
    },
    {
      "cell_type": "code",
      "metadata": {
        "id": "gBY9eQSLu1MC",
        "colab_type": "code",
        "colab": {
          "base_uri": "https://localhost:8080/",
          "height": 544
        },
        "outputId": "8a351226-a07e-4b02-95e2-8839a465d9a4"
      },
      "source": [
        "model2.compile(loss = 'binary_crossentropy',optimizer='adam',metrics='acc')\n",
        "model2.fit(padded_train_sequences,train_labels, \n",
        "          epochs=15,\n",
        "          validation_data=(padded_test_sequences,test_labels))"
      ],
      "execution_count": null,
      "outputs": [
        {
          "output_type": "stream",
          "text": [
            "Epoch 1/15\n",
            "625/625 [==============================] - 21s 33ms/step - loss: 0.3851 - acc: 0.8162 - val_loss: 0.3205 - val_acc: 0.8612\n",
            "Epoch 2/15\n",
            "625/625 [==============================] - 20s 31ms/step - loss: 0.1879 - acc: 0.9254 - val_loss: 0.3521 - val_acc: 0.8551\n",
            "Epoch 3/15\n",
            "625/625 [==============================] - 20s 31ms/step - loss: 0.1027 - acc: 0.9633 - val_loss: 0.4468 - val_acc: 0.8408\n",
            "Epoch 4/15\n",
            "625/625 [==============================] - 20s 31ms/step - loss: 0.0604 - acc: 0.9796 - val_loss: 0.5619 - val_acc: 0.8399\n",
            "Epoch 5/15\n",
            "625/625 [==============================] - 19s 31ms/step - loss: 0.0392 - acc: 0.9872 - val_loss: 0.6442 - val_acc: 0.8399\n",
            "Epoch 6/15\n",
            "625/625 [==============================] - 20s 31ms/step - loss: 0.0264 - acc: 0.9916 - val_loss: 0.8265 - val_acc: 0.8331\n",
            "Epoch 7/15\n",
            "625/625 [==============================] - 20s 32ms/step - loss: 0.0186 - acc: 0.9940 - val_loss: 0.8926 - val_acc: 0.8328\n",
            "Epoch 8/15\n",
            "625/625 [==============================] - 19s 31ms/step - loss: 0.0158 - acc: 0.9953 - val_loss: 0.9146 - val_acc: 0.8308\n",
            "Epoch 9/15\n",
            "625/625 [==============================] - 19s 31ms/step - loss: 0.0124 - acc: 0.9956 - val_loss: 0.9596 - val_acc: 0.8296\n",
            "Epoch 10/15\n",
            "625/625 [==============================] - 20s 31ms/step - loss: 0.0113 - acc: 0.9959 - val_loss: 0.8067 - val_acc: 0.8286\n",
            "Epoch 11/15\n",
            "625/625 [==============================] - 20s 31ms/step - loss: 0.0087 - acc: 0.9972 - val_loss: 1.0797 - val_acc: 0.8319\n",
            "Epoch 12/15\n",
            "625/625 [==============================] - 19s 31ms/step - loss: 0.0098 - acc: 0.9970 - val_loss: 0.8408 - val_acc: 0.8268\n",
            "Epoch 13/15\n",
            "625/625 [==============================] - 20s 31ms/step - loss: 0.0063 - acc: 0.9984 - val_loss: 1.1520 - val_acc: 0.8250\n",
            "Epoch 14/15\n",
            "625/625 [==============================] - 19s 31ms/step - loss: 0.0062 - acc: 0.9979 - val_loss: 1.0793 - val_acc: 0.8281\n",
            "Epoch 15/15\n",
            "625/625 [==============================] - 19s 31ms/step - loss: 0.0041 - acc: 0.9987 - val_loss: 1.1581 - val_acc: 0.8192\n"
          ],
          "name": "stdout"
        },
        {
          "output_type": "execute_result",
          "data": {
            "text/plain": [
              "<tensorflow.python.keras.callbacks.History at 0x7fce0b6dd0f0>"
            ]
          },
          "metadata": {
            "tags": []
          },
          "execution_count": 38
        }
      ]
    },
    {
      "cell_type": "code",
      "metadata": {
        "id": "9tmWUlzUu9SH",
        "colab_type": "code",
        "colab": {
          "base_uri": "https://localhost:8080/",
          "height": 68
        },
        "outputId": "d6c65a2f-dbcb-49da-ab5a-dd5c8feedbdd"
      },
      "source": [
        "#predict\n",
        "model2.predict(pad_test_sequences).round()"
      ],
      "execution_count": null,
      "outputs": [
        {
          "output_type": "execute_result",
          "data": {
            "text/plain": [
              "array([[0.],\n",
              "       [0.],\n",
              "       [0.]], dtype=float32)"
            ]
          },
          "metadata": {
            "tags": []
          },
          "execution_count": 47
        }
      ]
    },
    {
      "cell_type": "code",
      "metadata": {
        "id": "GLYRqscUxNCY",
        "colab_type": "code",
        "colab": {}
      },
      "source": [
        ""
      ],
      "execution_count": null,
      "outputs": []
    }
  ]
}