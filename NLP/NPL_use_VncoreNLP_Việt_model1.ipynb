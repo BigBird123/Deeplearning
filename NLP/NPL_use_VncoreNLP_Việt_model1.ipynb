{
  "nbformat": 4,
  "nbformat_minor": 0,
  "metadata": {
    "colab": {
      "name": "NPL_use_VncoreNLP_Việt_model1.ipynb",
      "provenance": [],
      "collapsed_sections": []
    },
    "kernelspec": {
      "name": "python3",
      "display_name": "Python 3"
    },
    "accelerator": "GPU"
  },
  "cells": [
    {
      "cell_type": "code",
      "metadata": {
        "id": "QEj3VO03XJhm",
        "colab_type": "code",
        "colab": {}
      },
      "source": [
        "from google.colab import  drive\n",
        "drive.mount('/content/drive')"
      ],
      "execution_count": null,
      "outputs": []
    },
    {
      "cell_type": "code",
      "metadata": {
        "id": "7WePWbhMbK3E",
        "colab_type": "code",
        "colab": {}
      },
      "source": [
        "#!git clone https://github.com/congnghia0609/ntc-scv.git"
      ],
      "execution_count": null,
      "outputs": []
    },
    {
      "cell_type": "code",
      "metadata": {
        "id": "lBUDbRzfl6AO",
        "colab_type": "code",
        "colab": {}
      },
      "source": [
        "cd '/content/drive/My Drive/Colab Notebooks/Token_VietNam'"
      ],
      "execution_count": null,
      "outputs": []
    },
    {
      "cell_type": "code",
      "metadata": {
        "id": "D8HqDQw9cxGp",
        "colab_type": "code",
        "colab": {}
      },
      "source": [
        "#!unzip /content/ntc-scv/data/data_test.zip"
      ],
      "execution_count": null,
      "outputs": []
    },
    {
      "cell_type": "code",
      "metadata": {
        "id": "urLVSgAVovBw",
        "colab_type": "code",
        "colab": {}
      },
      "source": [
        "#!unzip /content/ntc-scv/data/data_train.zip"
      ],
      "execution_count": null,
      "outputs": []
    },
    {
      "cell_type": "code",
      "metadata": {
        "id": "EFj_-ZJ6vBIq",
        "colab_type": "code",
        "colab": {}
      },
      "source": [
        "#!pip install tf-nightly"
      ],
      "execution_count": null,
      "outputs": []
    },
    {
      "cell_type": "code",
      "metadata": {
        "id": "8VNd-euHOMOB",
        "colab_type": "code",
        "colab": {}
      },
      "source": [
        "import pandas as pd\n",
        "import os\n",
        "#folder = 'data_train'\n",
        "#labels = {'pos': 1, 'neg': 0}\n",
        "#df = pd.DataFrame()\n",
        "#for f in ('test', 'train'):    \n",
        "#    for l in ('pos', 'neg'):\n",
        "#        path = os.path.join(folder, f, l)\n",
        "#        for file in os.listdir (path) :\n",
        "#            with open(os.path.join(path, file),'r', encoding='utf-8') as infile:\n",
        "#                txt = infile.read()\n",
        "#            df = df.append([[txt, labels[l]]],ignore_index=True)\n",
        "#df.columns = ['review', 'sentiment']"
      ],
      "execution_count": null,
      "outputs": []
    },
    {
      "cell_type": "code",
      "metadata": {
        "id": "1uD2JaPa_ImL",
        "colab_type": "code",
        "colab": {}
      },
      "source": [
        "#  folder = 'data_test'\n",
        "#  labels = {'pos': 1, 'neg': 0}\n",
        "#  df_test = pd.DataFrame()\n",
        "#  for f in ('test', '_'): \n",
        "#     if f is '_':break  \n",
        "#     for l in ('pos', 'neg'):\n",
        "#         path = os.path.join(folder, f, l)\n",
        "#         for file in os.listdir (path) :\n",
        "#             with open(os.path.join(path, file),'r', encoding='utf-8') as infile:\n",
        "#                 txt = infile.read()\n",
        "#             df_test = df_test.append([[txt, labels[l]]],ignore_index=True)\n",
        "    "
      ],
      "execution_count": null,
      "outputs": []
    },
    {
      "cell_type": "code",
      "metadata": {
        "id": "Cz375NYsSuLy",
        "colab_type": "code",
        "colab": {}
      },
      "source": [
        " #df_test.to_csv('Foody_test.csv')"
      ],
      "execution_count": null,
      "outputs": []
    },
    {
      "cell_type": "code",
      "metadata": {
        "id": "VtQfEDT6upKv",
        "colab_type": "code",
        "colab": {}
      },
      "source": [
        "# df.to_csv('Foody.csv')"
      ],
      "execution_count": null,
      "outputs": []
    },
    {
      "cell_type": "code",
      "metadata": {
        "id": "v5tJH-5ngl14",
        "colab_type": "code",
        "colab": {}
      },
      "source": [
        "import numpy as np"
      ],
      "execution_count": null,
      "outputs": []
    },
    {
      "cell_type": "code",
      "metadata": {
        "id": "X3Dr7xW_uNJC",
        "colab_type": "code",
        "colab": {}
      },
      "source": [
        "folder_csv ='/content/drive/My Drive/Colab Notebooks/Token_VietNam/Foody.csv'\n",
        "with open(folder_csv,'r')as f:\n",
        "  df = pd.read_csv(f)"
      ],
      "execution_count": null,
      "outputs": []
    },
    {
      "cell_type": "code",
      "metadata": {
        "id": "j3ka_Mow-0pc",
        "colab_type": "code",
        "colab": {}
      },
      "source": [
        "folder_csv ='/content/drive/My Drive/Colab Notebooks/Token_VietNam/Foody_test.csv'\n",
        "with open(folder_csv,'r')as f:\n",
        "  df_test = pd.read_csv(f)"
      ],
      "execution_count": null,
      "outputs": []
    },
    {
      "cell_type": "code",
      "metadata": {
        "id": "HmqXHoEu-VPi",
        "colab_type": "code",
        "colab": {
          "base_uri": "https://localhost:8080/",
          "height": 206
        },
        "outputId": "2c6bab86-d9b0-4c65-cccf-50d6dd36fba5"
      },
      "source": [
        "df.head()"
      ],
      "execution_count": null,
      "outputs": [
        {
          "output_type": "execute_result",
          "data": {
            "text/html": [
              "<div>\n",
              "<style scoped>\n",
              "    .dataframe tbody tr th:only-of-type {\n",
              "        vertical-align: middle;\n",
              "    }\n",
              "\n",
              "    .dataframe tbody tr th {\n",
              "        vertical-align: top;\n",
              "    }\n",
              "\n",
              "    .dataframe thead th {\n",
              "        text-align: right;\n",
              "    }\n",
              "</style>\n",
              "<table border=\"1\" class=\"dataframe\">\n",
              "  <thead>\n",
              "    <tr style=\"text-align: right;\">\n",
              "      <th></th>\n",
              "      <th>Unnamed: 0</th>\n",
              "      <th>review</th>\n",
              "      <th>sentiment</th>\n",
              "    </tr>\n",
              "  </thead>\n",
              "  <tbody>\n",
              "    <tr>\n",
              "      <th>0</th>\n",
              "      <td>0</td>\n",
              "      <td>Món ăn khá ngon . nhà_hàng liên_tục thêm món m...</td>\n",
              "      <td>1</td>\n",
              "    </tr>\n",
              "    <tr>\n",
              "      <th>1</th>\n",
              "      <td>1</td>\n",
              "      <td>Đồ_ăn nướng ngon ! Không_gian dễ_chịu hợp cho ...</td>\n",
              "      <td>1</td>\n",
              "    </tr>\n",
              "    <tr>\n",
              "      <th>2</th>\n",
              "      <td>2</td>\n",
              "      <td>Buổi_trưa mình hay đi ăn với đồng_nghiệp ở đây...</td>\n",
              "      <td>1</td>\n",
              "    </tr>\n",
              "    <tr>\n",
              "      <th>3</th>\n",
              "      <td>3</td>\n",
              "      <td>em ăn từ những ngày bánh chưa bán cho tới h : ...</td>\n",
              "      <td>1</td>\n",
              "    </tr>\n",
              "    <tr>\n",
              "      <th>4</th>\n",
              "      <td>4</td>\n",
              "      <td>Fan ruô ̣ t cu ̉ a Dounut ^ ^ thi ́ ch chô ̃ n...</td>\n",
              "      <td>1</td>\n",
              "    </tr>\n",
              "  </tbody>\n",
              "</table>\n",
              "</div>"
            ],
            "text/plain": [
              "   Unnamed: 0                                             review  sentiment\n",
              "0           0  Món ăn khá ngon . nhà_hàng liên_tục thêm món m...          1\n",
              "1           1  Đồ_ăn nướng ngon ! Không_gian dễ_chịu hợp cho ...          1\n",
              "2           2  Buổi_trưa mình hay đi ăn với đồng_nghiệp ở đây...          1\n",
              "3           3  em ăn từ những ngày bánh chưa bán cho tới h : ...          1\n",
              "4           4  Fan ruô ̣ t cu ̉ a Dounut ^ ^ thi ́ ch chô ̃ n...          1"
            ]
          },
          "metadata": {
            "tags": []
          },
          "execution_count": 6
        }
      ]
    },
    {
      "cell_type": "code",
      "metadata": {
        "id": "wMbdG2X0HJ1k",
        "colab_type": "code",
        "colab": {}
      },
      "source": [
        "df = df.sample(frac=1)\n",
        "df_test = df_test.sample(frac=1)"
      ],
      "execution_count": null,
      "outputs": []
    },
    {
      "cell_type": "code",
      "metadata": {
        "id": "Vha4ACPKHV1q",
        "colab_type": "code",
        "colab": {
          "base_uri": "https://localhost:8080/",
          "height": 424
        },
        "outputId": "6f071d86-4483-423f-9626-7fe9a49c7300"
      },
      "source": [
        "df"
      ],
      "execution_count": null,
      "outputs": [
        {
          "output_type": "execute_result",
          "data": {
            "text/html": [
              "<div>\n",
              "<style scoped>\n",
              "    .dataframe tbody tr th:only-of-type {\n",
              "        vertical-align: middle;\n",
              "    }\n",
              "\n",
              "    .dataframe tbody tr th {\n",
              "        vertical-align: top;\n",
              "    }\n",
              "\n",
              "    .dataframe thead th {\n",
              "        text-align: right;\n",
              "    }\n",
              "</style>\n",
              "<table border=\"1\" class=\"dataframe\">\n",
              "  <thead>\n",
              "    <tr style=\"text-align: right;\">\n",
              "      <th></th>\n",
              "      <th>Unnamed: 0</th>\n",
              "      <th>review</th>\n",
              "      <th>sentiment</th>\n",
              "    </tr>\n",
              "  </thead>\n",
              "  <tbody>\n",
              "    <tr>\n",
              "      <th>20640</th>\n",
              "      <td>20640</td>\n",
              "      <td>Rạp mình ghét nhất của Galaxy chính là đây , c...</td>\n",
              "      <td>0</td>\n",
              "    </tr>\n",
              "    <tr>\n",
              "      <th>3356</th>\n",
              "      <td>3356</td>\n",
              "      <td>Xung_quanh là công_viên nên lúc_nào khu_vực nà...</td>\n",
              "      <td>1</td>\n",
              "    </tr>\n",
              "    <tr>\n",
              "      <th>4886</th>\n",
              "      <td>4886</td>\n",
              "      <td>1 cơ_duyên nho_nhỏ đưa mình đến với quán khi m...</td>\n",
              "      <td>1</td>\n",
              "    </tr>\n",
              "    <tr>\n",
              "      <th>14839</th>\n",
              "      <td>14839</td>\n",
              "      <td>Theo mình việc khách tới ngồi đâu cho thoải_má...</td>\n",
              "      <td>0</td>\n",
              "    </tr>\n",
              "    <tr>\n",
              "      <th>12298</th>\n",
              "      <td>12298</td>\n",
              "      <td>thấy hình đẹp nên không quãng ngại đường xa đế...</td>\n",
              "      <td>0</td>\n",
              "    </tr>\n",
              "    <tr>\n",
              "      <th>...</th>\n",
              "      <td>...</td>\n",
              "      <td>...</td>\n",
              "      <td>...</td>\n",
              "    </tr>\n",
              "    <tr>\n",
              "      <th>6447</th>\n",
              "      <td>6447</td>\n",
              "      <td>Quán nhậu với các món nướng giá_cả bình_dân , ...</td>\n",
              "      <td>0</td>\n",
              "    </tr>\n",
              "    <tr>\n",
              "      <th>7106</th>\n",
              "      <td>7106</td>\n",
              "      <td>2 cơ_sở của waffles house thì cả 2 cơ_sở đều r...</td>\n",
              "      <td>0</td>\n",
              "    </tr>\n",
              "    <tr>\n",
              "      <th>7128</th>\n",
              "      <td>7128</td>\n",
              "      <td>Bánh_mì chảo thì_có mỗi trứng pate chiên ko có...</td>\n",
              "      <td>0</td>\n",
              "    </tr>\n",
              "    <tr>\n",
              "      <th>18829</th>\n",
              "      <td>18829</td>\n",
              "      <td>Trong quán bày trí rất teen , hợp cho các bạn ...</td>\n",
              "      <td>0</td>\n",
              "    </tr>\n",
              "    <tr>\n",
              "      <th>13601</th>\n",
              "      <td>13601</td>\n",
              "      <td>Quán nằm ngay Nguyễn_Trãi Q1 thuận_lợi .\\nVừa ...</td>\n",
              "      <td>0</td>\n",
              "    </tr>\n",
              "  </tbody>\n",
              "</table>\n",
              "<p>21084 rows × 3 columns</p>\n",
              "</div>"
            ],
            "text/plain": [
              "       Unnamed: 0                                             review  sentiment\n",
              "20640       20640  Rạp mình ghét nhất của Galaxy chính là đây , c...          0\n",
              "3356         3356  Xung_quanh là công_viên nên lúc_nào khu_vực nà...          1\n",
              "4886         4886  1 cơ_duyên nho_nhỏ đưa mình đến với quán khi m...          1\n",
              "14839       14839  Theo mình việc khách tới ngồi đâu cho thoải_má...          0\n",
              "12298       12298  thấy hình đẹp nên không quãng ngại đường xa đế...          0\n",
              "...           ...                                                ...        ...\n",
              "6447         6447  Quán nhậu với các món nướng giá_cả bình_dân , ...          0\n",
              "7106         7106  2 cơ_sở của waffles house thì cả 2 cơ_sở đều r...          0\n",
              "7128         7128  Bánh_mì chảo thì_có mỗi trứng pate chiên ko có...          0\n",
              "18829       18829  Trong quán bày trí rất teen , hợp cho các bạn ...          0\n",
              "13601       13601  Quán nằm ngay Nguyễn_Trãi Q1 thuận_lợi .\\nVừa ...          0\n",
              "\n",
              "[21084 rows x 3 columns]"
            ]
          },
          "metadata": {
            "tags": []
          },
          "execution_count": 59
        }
      ]
    },
    {
      "cell_type": "code",
      "metadata": {
        "id": "Jq6GMbz-R7o2",
        "colab_type": "code",
        "colab": {}
      },
      "source": [
        "dataRaw = df[['review','sentiment']]\n",
        "train_sentence =dataRaw['review'].to_numpy()\n",
        "train_labels = dataRaw['sentiment'].to_numpy()"
      ],
      "execution_count": null,
      "outputs": []
    },
    {
      "cell_type": "code",
      "metadata": {
        "id": "HufP_lsk-hWU",
        "colab_type": "code",
        "colab": {}
      },
      "source": [
        "valid_sentence = df_test['0'].to_numpy()\n",
        "valid_lables = df_test['1'].to_numpy()"
      ],
      "execution_count": null,
      "outputs": []
    },
    {
      "cell_type": "code",
      "metadata": {
        "id": "teVjfZJq_SYh",
        "colab_type": "code",
        "colab": {
          "base_uri": "https://localhost:8080/",
          "height": 90
        },
        "outputId": "bcab6c67-539d-4102-9b7e-d3f3837a9c60"
      },
      "source": [
        "print('len train sentence',len(train_sentence))\n",
        "print('len train labels', len(train_labels))\n",
        "\n",
        "print('len valid sentence',len(valid_sentence))\n",
        "print('len valid labels',len(valid_sentiment))"
      ],
      "execution_count": null,
      "outputs": [
        {
          "output_type": "stream",
          "text": [
            "len train sentence 21084\n",
            "len train labels 21084\n",
            "len valid sentence 10000\n",
            "len valid labels 10000\n"
          ],
          "name": "stdout"
        }
      ]
    },
    {
      "cell_type": "code",
      "metadata": {
        "id": "OSef5ablKhzT",
        "colab_type": "code",
        "colab": {
          "base_uri": "https://localhost:8080/",
          "height": 403
        },
        "outputId": "53454b1f-79c8-4af4-cd4c-60e707b790b6"
      },
      "source": [
        "!pip3 install vncorenlp"
      ],
      "execution_count": null,
      "outputs": [
        {
          "output_type": "stream",
          "text": [
            "Collecting vncorenlp\n",
            "\u001b[?25l  Downloading https://files.pythonhosted.org/packages/71/c2/96a60cf75421ecc740829fa920c617b3dd7fa6791e17554e7c6f3e7d7fca/vncorenlp-1.0.3.tar.gz (2.6MB)\n",
            "\u001b[K     |████████████████████████████████| 2.7MB 8.9MB/s \n",
            "\u001b[?25hRequirement already satisfied: requests in /usr/local/lib/python3.6/dist-packages (from vncorenlp) (2.23.0)\n",
            "Requirement already satisfied: certifi>=2017.4.17 in /usr/local/lib/python3.6/dist-packages (from requests->vncorenlp) (2020.6.20)\n",
            "Requirement already satisfied: chardet<4,>=3.0.2 in /usr/local/lib/python3.6/dist-packages (from requests->vncorenlp) (3.0.4)\n",
            "Requirement already satisfied: idna<3,>=2.5 in /usr/local/lib/python3.6/dist-packages (from requests->vncorenlp) (2.10)\n",
            "Requirement already satisfied: urllib3!=1.25.0,!=1.25.1,<1.26,>=1.21.1 in /usr/local/lib/python3.6/dist-packages (from requests->vncorenlp) (1.24.3)\n",
            "Building wheels for collected packages: vncorenlp\n",
            "  Building wheel for vncorenlp (setup.py) ... \u001b[?25l\u001b[?25hdone\n",
            "  Created wheel for vncorenlp: filename=vncorenlp-1.0.3-cp36-none-any.whl size=2645935 sha256=8a77445e5824122c40176c6e0f49c385b8d1386dbfbf0c70296f1c7069d2fff4\n",
            "  Stored in directory: /root/.cache/pip/wheels/09/54/8b/043667de6091d06a381d7745f44174504a9a4a56ecc9380c54\n",
            "Successfully built vncorenlp\n",
            "Installing collected packages: vncorenlp\n",
            "Successfully installed vncorenlp-1.0.3\n"
          ],
          "name": "stdout"
        },
        {
          "output_type": "display_data",
          "data": {
            "application/vnd.colab-display-data+json": {
              "pip_warning": {
                "packages": [
                  "vncorenlp"
                ]
              }
            }
          },
          "metadata": {
            "tags": []
          }
        }
      ]
    },
    {
      "cell_type": "code",
      "metadata": {
        "id": "ybOThODPTNuQ",
        "colab_type": "code",
        "colab": {}
      },
      "source": [
        "from vncorenlp import VnCoreNLP"
      ],
      "execution_count": null,
      "outputs": []
    },
    {
      "cell_type": "code",
      "metadata": {
        "id": "rvyoBswwDYN-",
        "colab_type": "code",
        "colab": {}
      },
      "source": [
        "#!wget 'https://github.com/vncorenlp/VnCoreNLP/archive/v1.1.1.zip' -O ./models.$$ && unzip -o ./models.$$ && rm -r ./models.$$"
      ],
      "execution_count": null,
      "outputs": []
    },
    {
      "cell_type": "code",
      "metadata": {
        "id": "_NmkFmNDWL5q",
        "colab_type": "code",
        "colab": {}
      },
      "source": [
        "path = '/content/drive/My Drive/Colab Notebooks/Token_VietNam/VnCoreNLP-1.1.1/VnCoreNLP-1.1.1.jar'\n",
        "tokenV = VnCoreNLP(path,port=9000, annotators='wseg',quiet=False)"
      ],
      "execution_count": null,
      "outputs": []
    },
    {
      "cell_type": "code",
      "metadata": {
        "id": "gmOjUPUmAolL",
        "colab_type": "code",
        "colab": {}
      },
      "source": [
        "Token = str(train_sentence)"
      ],
      "execution_count": null,
      "outputs": []
    },
    {
      "cell_type": "code",
      "metadata": {
        "id": "UZdnSNZZD07Z",
        "colab_type": "code",
        "colab": {
          "base_uri": "https://localhost:8080/",
          "height": 35
        },
        "outputId": "9db9a0fe-1687-46a0-f204-576dea7b9dfb"
      },
      "source": [
        "len(Token)"
      ],
      "execution_count": null,
      "outputs": [
        {
          "output_type": "execute_result",
          "data": {
            "text/plain": [
              "2920"
            ]
          },
          "metadata": {
            "tags": []
          },
          "execution_count": 76
        }
      ]
    },
    {
      "cell_type": "code",
      "metadata": {
        "id": "l1VH3Ql_DeoH",
        "colab_type": "code",
        "colab": {
          "base_uri": "https://localhost:8080/",
          "height": 146
        },
        "outputId": "0acf15c9-d8cc-4670-81e0-302b2e0d4878"
      },
      "source": [
        "Token"
      ],
      "execution_count": null,
      "outputs": [
        {
          "output_type": "execute_result",
          "data": {
            "application/vnd.google.colaboratory.intrinsic": {
              "type": "string"
            },
            "text/plain": [
              "'[\\'Rạp mình ghét nhất của Galaxy chính là đây , chỗ giữ xe thì nhỏ_xíu và lúc_nào cũng đông_nghẹt . Có lần vì chật quá nên khi chạy xe vào lỡ quẹt trúng chiếc Ab làm rớt cái nắp pô xe ... ... . . nên phải đền 90k cho chủ , nhưng đó là mình sai ko nói làm_gì nhưng bực ở đây là mấy thằng bảo_vệ nó làm như mình ăn_cắp xe người_ta bỏ trốn vậy ... ...\\\\nCả đám la um_sùm lên rồi một_hai đòi giữ_mình lại ko cho lên coi phim trong khi mình đã nói là \" anh cầm tạm cái cmnd và sđt của em rồi lỡ người_ta ra hỏi thì chỉ cần đt cái là em xuống \" nhưng vẫn ko chịu : nói một là để 150 lại rồi đi hai là ở lại chứ không mắc_công mình trốn mất . Điên hết cả người đành để nhỏ em đứng đó làm_tin rồi ôm cái pô xe qua tiệm sửa xe gần đó hỏi giá thì nó nói là pô xe có hai loại giá , một 45 và một 90 ( kiêm luôn công lắp )\\\\nKhi mình quay lại thì thấy chủ xe xuống nên mình chạy lại trình_bày và đề_nghị trả 90 cho họ , trong lúc mình nói thì mấy tên đó lại nhảy zô họng lải_nhải : \" Pô xe giờ mắc lắm lấy 100 tới 150 nữa mới đủ \" . Thiệt muốn xịt khói lỗ tai luôn , bộ ăn chận ko được nên giờ muốn trả_thù hả trời > _ _ < Cuối_cùng chủ xe cũng chịu cầm 90 và đi còn mình và em lên gác coi phim đã trễ mất hơn 15p . Tức muốn điên hết cả người và chả muốn tới lần 2 .\\\\nNhưng sau một thời_gian dài ở đó có chương_trình Hallowen nên mình lại đi lần nữa và vì chỉ còn mỗi ở đó có suất mình có_thể coi thế_là đi tới đó , nói_chung là cũng phải xếp_hàng chờ ghi phiếu và khó_khăn lắm mới zô được bên trong , tới khi ra về thì bị lấy 10k ... ... . mất thêm 5k mình ko nói là nhiều , nhưng vì thấy bực do muốn lấy nhiêu thì lấy thực chả ra_sao .\\\\nKể lại tới giờ vẫn còn ức = _ _ +\\\\n\\'\\n \\'Xung_quanh là công_viên nên lúc_nào khu_vực này cũng đông_đúc . Khách du_lịch ghé ngang chụp ảnh . Các bạn chụp ảnh cưới cũng chụp ở đây . Đây là 1 trong những biểu_tượng của Sài_Gòn .\\\\n\\'\\n \\'1 cơ_duyên nho_nhỏ đưa mình đến với quán khi mình ứng_tuyển làm phục_vụ , cơ_mà bây_giờ lại là pha_chế mới ghê chứ , Nơi đây đã cho mình rất nhiều niềm_vui và kỷ_niệm , và đặc_biệt hơn là nơi khơi lại ước_mơ cho mình . Mình rất thích , và cảm_ơn Windmills NTN !\\\\n\\'\\n ...\\n \\'Bánh_mì chảo thì_có mỗi trứng pate chiên ko có nước - _ - bánh_mì sốt vang thì thịt lợn nhuộm phẩm giả bò , ăn chán kinh_khủng - _ -\\\\n\\'\\n \\'Trong quán bày trí rất teen , hợp cho các bạn teen đến . Đa_phần khách đến toàn ngồi ở ngoài ( phần ở ngoài trước trường tiểu_học ) . Địa_điểm không có gì gọi_là đắc sắc cho lắm , nhưng giá nước ở đây khá là mắc . Có_thể nói mắc sánh ngang với các quán sang_trọng , lớn ở Biên_Hòa .\\\\n\\'\\n \\'Quán nằm ngay Nguyễn_Trãi Q1 thuận_lợi .\\\\nVừa ngồi vô quán , mình hơi shock vì thái_độ của nam nhân_viên phục_vụ ( bạn nam tóc vàng ) , cách trả_lời và thái_độ với khách rất trống_không , thiếu tôn_trọng khách . Còn nhân_viên nữ thì rất dễ_thương .\\\\nMón ăn của quán đặc_trưng khẩu_vị người Hoa . Ăn khá ok tất_cả các món .\\\\nQuán cần thay_đổi các phục_vụ !\\\\nCảm_ơn !\\\\n\\']'"
            ]
          },
          "metadata": {
            "tags": []
          },
          "execution_count": 77
        }
      ]
    },
    {
      "cell_type": "code",
      "metadata": {
        "id": "zVeRsZ6wZxJj",
        "colab_type": "code",
        "colab": {}
      },
      "source": [
        "corpus = tokenV.tokenize(Token)"
      ],
      "execution_count": null,
      "outputs": []
    },
    {
      "cell_type": "code",
      "metadata": {
        "id": "R289nK4bAktq",
        "colab_type": "code",
        "colab": {
          "base_uri": "https://localhost:8080/",
          "height": 1000
        },
        "outputId": "1ed8d61e-c574-4373-e1ce-af6aae6a5f29"
      },
      "source": [
        "corpus"
      ],
      "execution_count": null,
      "outputs": [
        {
          "output_type": "execute_result",
          "data": {
            "text/plain": [
              "[['[',\n",
              "  '\"',\n",
              "  'Món',\n",
              "  'ăn',\n",
              "  'khá',\n",
              "  'ngon',\n",
              "  '.',\n",
              "  'nhà',\n",
              "  '_',\n",
              "  'hàng',\n",
              "  'liên',\n",
              "  '_',\n",
              "  'tục',\n",
              "  'thêm',\n",
              "  'món',\n",
              "  'mới',\n",
              "  'nên',\n",
              "  'lần',\n",
              "  'nào',\n",
              "  'đến',\n",
              "  'cũng',\n",
              "  'đc',\n",
              "  'thay',\n",
              "  '_',\n",
              "  'đổi',\n",
              "  'khẩu',\n",
              "  '_',\n",
              "  'vị',\n",
              "  '.',\n",
              "  'thích',\n",
              "  'thật',\n",
              "  '\\\\',\n",
              "  'nLẩu',\n",
              "  'ở',\n",
              "  'đây',\n",
              "  'cũng',\n",
              "  'nhiều',\n",
              "  'thật',\n",
              "  ',',\n",
              "  '2',\n",
              "  'người',\n",
              "  'ăn',\n",
              "  'mà',\n",
              "  'vẫn',\n",
              "  'no',\n",
              "  'căng',\n",
              "  '.',\n",
              "  'vị',\n",
              "  'cay',\n",
              "  '_',\n",
              "  'cay',\n",
              "  'nồng',\n",
              "  'nồng',\n",
              "  'ngon',\n",
              "  'thật',\n",
              "  '.'],\n",
              " ['\\\\', 'nCòn', 'nhiều', 'món', 'chưa', 'được', 'ăn', 'nữa', '.'],\n",
              " ['\\\\',\n",
              "  'nAi',\n",
              "  'từng',\n",
              "  'ăn',\n",
              "  'qua',\n",
              "  'món',\n",
              "  'Hàn',\n",
              "  'cũng',\n",
              "  '_',\n",
              "  'nên',\n",
              "  'đến',\n",
              "  'đây',\n",
              "  'ăn',\n",
              "  'thử',\n",
              "  'đi',\n",
              "  '.',\n",
              "  'mình',\n",
              "  'cũng',\n",
              "  'ăn',\n",
              "  'ớ',\n",
              "  'nhiều',\n",
              "  'nơi',\n",
              "  'mà',\n",
              "  'thấy',\n",
              "  'ở',\n",
              "  'đây',\n",
              "  'là',\n",
              "  'đặc',\n",
              "  '\\\\',\n",
              "  'xa',\n",
              "  '0',\n",
              "  'biệt',\n",
              "  'và',\n",
              "  'tạo',\n",
              "  'án',\n",
              "  'tượng',\n",
              "  'tốt',\n",
              "  'với',\n",
              "  'mình',\n",
              "  'nhất',\n",
              "  '.'],\n",
              " ['\\\\',\n",
              "  'nNhân',\n",
              "  '_',\n",
              "  'viên',\n",
              "  'cũng',\n",
              "  'tuyệt',\n",
              "  '_',\n",
              "  'vời',\n",
              "  'và',\n",
              "  'ông',\n",
              "  'chủ',\n",
              "  'người',\n",
              "  'Hàn',\n",
              "  'thì',\n",
              "  'lên',\n",
              "  'tận',\n",
              "  'nơi',\n",
              "  'hỏi',\n",
              "  'ý',\n",
              "  '_',\n",
              "  'kiến',\n",
              "  'khách',\n",
              "  '_',\n",
              "  'hàng',\n",
              "  '.'],\n",
              " ['\\\\',\n",
              "  'nmong',\n",
              "  'sớm',\n",
              "  'đc',\n",
              "  'quay',\n",
              "  'lại',\n",
              "  'để',\n",
              "  'thưởng',\n",
              "  '_',\n",
              "  'thức',\n",
              "  'hết',\n",
              "  'các',\n",
              "  'món',\n",
              "  'mới',\n",
              "  'được',\n",
              "  '.'],\n",
              " ['\\\\',\n",
              "  'n',\n",
              "  '\\\\',\n",
              "  'xa',\n",
              "  '0',\n",
              "  '<',\n",
              "  'a',\n",
              "  'class',\n",
              "  '=',\n",
              "  \"'\",\n",
              "  'hashtag-link',\n",
              "  \"'\",\n",
              "  'href',\n",
              "  '=',\n",
              "  \"'\",\n",
              "  '/',\n",
              "  'ho-chi-minh',\n",
              "  '/',\n",
              "  'hashtag',\n",
              "  '/',\n",
              "  'Topokki',\n",
              "  '-',\n",
              "  '-',\n",
              "  '-',\n",
              "  'Mon-Han',\n",
              "  '-11049',\n",
              "  \"'\",\n",
              "  '>',\n",
              "  '#',\n",
              "  'Topokki',\n",
              "  '-',\n",
              "  'Món',\n",
              "  '_',\n",
              "  'Hàn',\n",
              "  '<',\n",
              "  '/',\n",
              "  'a',\n",
              "  '>',\n",
              "  '\\\\',\n",
              "  'n',\n",
              "  '\"',\n",
              "  \"'\",\n",
              "  'Đồ',\n",
              "  '_',\n",
              "  'ăn',\n",
              "  'nướng',\n",
              "  'ngon',\n",
              "  '!'],\n",
              " ['Không',\n",
              "  '_',\n",
              "  'gian',\n",
              "  'dễ',\n",
              "  '_',\n",
              "  'chịu',\n",
              "  'hợp',\n",
              "  'cho',\n",
              "  'những',\n",
              "  'người',\n",
              "  'ko',\n",
              "  'thích',\n",
              "  'ồn',\n",
              "  '_',\n",
              "  'ào',\n",
              "  '.'],\n",
              " ['Giá',\n",
              "  '_',\n",
              "  'cả',\n",
              "  'bỏ',\n",
              "  'ra',\n",
              "  'đáng',\n",
              "  'với',\n",
              "  'chất',\n",
              "  '_',\n",
              "  'lượng',\n",
              "  'món',\n",
              "  'ăn',\n",
              "  ',',\n",
              "  'nhân',\n",
              "  '_',\n",
              "  'viên',\n",
              "  'cực',\n",
              "  '_',\n",
              "  'kì',\n",
              "  'nhiệt',\n",
              "  '_',\n",
              "  'tình',\n",
              "  'và',\n",
              "  'dễ',\n",
              "  '_',\n",
              "  'thương',\n",
              "  '.'],\n",
              " ['Sẽ',\n",
              "  'đến',\n",
              "  'khi',\n",
              "  'có',\n",
              "  'dịp',\n",
              "  '👍',\n",
              "  '\\\\',\n",
              "  'n',\n",
              "  \"'\",\n",
              "  \"'\",\n",
              "  'Buổi',\n",
              "  '_',\n",
              "  'trưa',\n",
              "  'mình',\n",
              "  'hay',\n",
              "  'đi',\n",
              "  'ăn',\n",
              "  'với',\n",
              "  'đồng',\n",
              "  '_',\n",
              "  'nghiệp',\n",
              "  'ở',\n",
              "  'đây',\n",
              "  '.'],\n",
              " ['\\\\', 'nGiá', '_', 'cả', 'ngang', 'như', 'phố', '.'],\n",
              " ['\\\\',\n",
              "  'nCơm',\n",
              "  'gà',\n",
              "  '40k',\n",
              "  ',',\n",
              "  'cơm',\n",
              "  'xào',\n",
              "  '45-50',\n",
              "  'k',\n",
              "  '\\\\',\n",
              "  'nBù',\n",
              "  'lại',\n",
              "  'cơm',\n",
              "  'ngon',\n",
              "  'hơn',\n",
              "  'dưới',\n",
              "  'phố',\n",
              "  'nhiều',\n",
              "  '.'],\n",
              " ['\\\\',\n",
              "  'nCơm',\n",
              "  'hạt',\n",
              "  'dẻo',\n",
              "  ',',\n",
              "  'thơm',\n",
              "  ',',\n",
              "  'nóng',\n",
              "  '_',\n",
              "  'hổi',\n",
              "  ',',\n",
              "  'không',\n",
              "  'hề',\n",
              "  'bị',\n",
              "  'nguội',\n",
              "  '.'],\n",
              " ['\\\\', 'nMình', 'hay', 'ăn', 'cơm', 'xào', '.'],\n",
              " ['Ở',\n",
              "  'đây',\n",
              "  'khách',\n",
              "  'đến',\n",
              "  'mới',\n",
              "  'đem',\n",
              "  'đồ',\n",
              "  'đi',\n",
              "  'xào',\n",
              "  ',',\n",
              "  'nên',\n",
              "  'ngon',\n",
              "  'lắm',\n",
              "  '.'],\n",
              " ['\\\\', 'nVệ', '_', 'sinh', 'sạch', '_', 'sẽ', '.'],\n",
              " ['Trà', 'đá', 'free', '.'],\n",
              " ['\\\\',\n",
              "  'n',\n",
              "  \"'\",\n",
              "  '...',\n",
              "  \"'\",\n",
              "  'Hôm',\n",
              "  'đó',\n",
              "  'nhà',\n",
              "  'mình',\n",
              "  'đi',\n",
              "  '6',\n",
              "  'người',\n",
              "  ',',\n",
              "  'định',\n",
              "  '_',\n",
              "  'bụng',\n",
              "  'thử',\n",
              "  'cho',\n",
              "  '_',\n",
              "  'biết',\n",
              "  'bánh',\n",
              "  'căn',\n",
              "  'đà_lạt',\n",
              "  'nên',\n",
              "  'không',\n",
              "  'dám',\n",
              "  'kêu',\n",
              "  'quá',\n",
              "  'nhiều',\n",
              "  ',',\n",
              "  'phần',\n",
              "  'vì',\n",
              "  'còn',\n",
              "  'ăn',\n",
              "  'trưa',\n",
              "  'ở',\n",
              "  'khách',\n",
              "  '_',\n",
              "  'sạn',\n",
              "  'nữa',\n",
              "  '.'],\n",
              " ['Đến',\n",
              "  'đó',\n",
              "  'thì',\n",
              "  'nghe',\n",
              "  'bảo',\n",
              "  ':',\n",
              "  '\\\\',\n",
              "  \"'\",\n",
              "  'bán',\n",
              "  'có',\n",
              "  '2',\n",
              "  'dĩa',\n",
              "  'mệt',\n",
              "  'lắm',\n",
              "  ',',\n",
              "  'không',\n",
              "  'bán',\n",
              "  'đâu',\n",
              "  '\"',\n",
              "  '@',\n",
              "  '@',\n",
              "  '.'],\n",
              " ['Hỏi',\n",
              "  'thì',\n",
              "  'nói',\n",
              "  'phải',\n",
              "  '4',\n",
              "  'dĩa',\n",
              "  'mới',\n",
              "  'bán',\n",
              "  ',',\n",
              "  'mà',\n",
              "  'thậm',\n",
              "  '_',\n",
              "  'chí',\n",
              "  'còn',\n",
              "  'không',\n",
              "  'cho',\n",
              "  '2',\n",
              "  'dĩa',\n",
              "  'ăn',\n",
              "  'tại',\n",
              "  '_',\n",
              "  'chỗ',\n",
              "  '2',\n",
              "  'dĩa',\n",
              "  'mang',\n",
              "  'về',\n",
              "  'nữa',\n",
              "  '!'],\n",
              " ['!'],\n",
              " ['.'],\n",
              " ['\\\\',\n",
              "  'n',\n",
              "  '\\\\',\n",
              "  'xa',\n",
              "  '0',\n",
              "  'Bán',\n",
              "  '_',\n",
              "  'buôn',\n",
              "  '\\\\',\n",
              "  \"'\",\n",
              "  'phong',\n",
              "  '_',\n",
              "  'cách',\n",
              "  'sang',\n",
              "  'chảnh',\n",
              "  '\\\\',\n",
              "  \"'\",\n",
              "  'gê',\n",
              "  'hồn',\n",
              "  'chưa',\n",
              "  ':',\n",
              "  '3',\n",
              "  '\\\\',\n",
              "  'n',\n",
              "  \"'\",\n",
              "  \"'\",\n",
              "  'Một',\n",
              "  'lần',\n",
              "  'và',\n",
              "  'mãi',\n",
              "  '_',\n",
              "  'mãi',\n",
              "  'ko',\n",
              "  'bao',\n",
              "  '_',\n",
              "  'giờ',\n",
              "  'quay',\n",
              "  'lại',\n",
              "  '.'],\n",
              " ['Đi', 'muốn', 'gãy', 'chân', 'kiếm', 'đc', 'chỗ', 'ngồi', '.'],\n",
              " ['Kêu',\n",
              "  'phục',\n",
              "  '_',\n",
              "  'vụ',\n",
              "  'lại',\n",
              "  'phục',\n",
              "  '_',\n",
              "  'vụ',\n",
              "  'nói',\n",
              "  'chỗ',\n",
              "  'này',\n",
              "  'ko',\n",
              "  'phục',\n",
              "  '_',\n",
              "  'vụ',\n",
              "  '.'],\n",
              " ['Kêu', 'lại', 'chỗ', 'khác', 'ngồi', '.'],\n",
              " ['Lại', 'chỗ', 'khác', 'ngồi', 'lại', 'chỉ', 'đi', 'chỗ', 'khác', '.'],\n",
              " ['Tức',\n",
              "  'điên',\n",
              "  'chứ',\n",
              "  '\\\\',\n",
              "  'n',\n",
              "  \"'\",\n",
              "  '\"',\n",
              "  'Nhân',\n",
              "  '_',\n",
              "  'viên',\n",
              "  'thân',\n",
              "  '_',\n",
              "  'thiện',\n",
              "  ',',\n",
              "  'đồ',\n",
              "  '_',\n",
              "  'ăn',\n",
              "  'cũng',\n",
              "  'được',\n",
              "  'mà',\n",
              "  'hơi',\n",
              "  'mắc',\n",
              "  'so',\n",
              "  'với',\n",
              "  'quán',\n",
              "  'khác',\n",
              "  '.'],\n",
              " ['Quán', 'siêu', 'đông', '.'],\n",
              " ['Mua',\n",
              "  'về',\n",
              "  'nv',\n",
              "  'bảo',\n",
              "  'đợi',\n",
              "  '45',\n",
              "  \"'\",\n",
              "  'nữa',\n",
              "  'quay',\n",
              "  'lại',\n",
              "  'lấy',\n",
              "  'thế',\n",
              "  '_',\n",
              "  'mà',\n",
              "  '1h',\n",
              "  'sau',\n",
              "  'quay',\n",
              "  'lại',\n",
              "  'vẫn',\n",
              "  'chưa',\n",
              "  'thấy',\n",
              "  'gì',\n",
              "  'cả',\n",
              "  '.'],\n",
              " ['Ng',\n",
              "  'ta',\n",
              "  'tới',\n",
              "  'mua',\n",
              "  'sau',\n",
              "  'mà',\n",
              "  'bán',\n",
              "  'trc',\n",
              "  'trong',\n",
              "  'khi',\n",
              "  'mình',\n",
              "  'đợi',\n",
              "  'cả',\n",
              "  'buổi',\n",
              "  'mà',\n",
              "  'chả',\n",
              "  'thấy',\n",
              "  'gì',\n",
              "  '1h30',\n",
              "  \"'\",\n",
              "  'sau',\n",
              "  'mới',\n",
              "  'có',\n",
              "  '.'],\n",
              " ['Say', 'good', 'bye', 'chổ', 'này', 'lun', '\\\\', 'n', '\"', ']']]"
            ]
          },
          "metadata": {
            "tags": []
          },
          "execution_count": 71
        }
      ]
    },
    {
      "cell_type": "code",
      "metadata": {
        "id": "ijiCQ0jmBgfw",
        "colab_type": "code",
        "colab": {
          "base_uri": "https://localhost:8080/",
          "height": 35
        },
        "outputId": "5a4eeb25-76ee-491a-b4c0-d968c5d1237e"
      },
      "source": [
        "len(corpus)"
      ],
      "execution_count": null,
      "outputs": [
        {
          "output_type": "execute_result",
          "data": {
            "text/plain": [
              "31"
            ]
          },
          "metadata": {
            "tags": []
          },
          "execution_count": 79
        }
      ]
    },
    {
      "cell_type": "code",
      "metadata": {
        "id": "6wj3CN87A5rU",
        "colab_type": "code",
        "colab": {}
      },
      "source": [
        "from tensorflow.keras.preprocessing.text import Tokenizer\n",
        "from tensorflow.keras.preprocessing.sequence import pad_sequences"
      ],
      "execution_count": null,
      "outputs": []
    },
    {
      "cell_type": "code",
      "metadata": {
        "id": "Mr3z52FgBZB8",
        "colab_type": "code",
        "colab": {}
      },
      "source": [
        "tokenizer = Tokenizer(num_words=1000,filters='\"#$%&()*+,-:;<=>[]`{|}~\\n',oov_token=\"<OOV>\")"
      ],
      "execution_count": null,
      "outputs": []
    },
    {
      "cell_type": "code",
      "metadata": {
        "id": "ASGrbGfJB2a2",
        "colab_type": "code",
        "colab": {}
      },
      "source": [
        "tokenizer.fit_on_texts(corpus)"
      ],
      "execution_count": null,
      "outputs": []
    },
    {
      "cell_type": "code",
      "metadata": {
        "id": "jYDuaT94B929",
        "colab_type": "code",
        "colab": {
          "base_uri": "https://localhost:8080/",
          "height": 1000
        },
        "outputId": "edcfe12d-00c3-42ed-e1c8-59ef14704462"
      },
      "source": [
        "tokenizer.word_index"
      ],
      "execution_count": null,
      "outputs": [
        {
          "output_type": "execute_result",
          "data": {
            "text/plain": [
              "{'!': 77,\n",
              " '\"': 41,\n",
              " \"'\": 9,\n",
              " '(': 65,\n",
              " ')': 66,\n",
              " '+': 248,\n",
              " ',': 5,\n",
              " '-': 49,\n",
              " '.': 3,\n",
              " '...': 16,\n",
              " '1': 118,\n",
              " '100': 197,\n",
              " '10k': 238,\n",
              " '150': 100,\n",
              " '15p': 215,\n",
              " '2': 217,\n",
              " '45': 184,\n",
              " '5k': 240,\n",
              " '90': 64,\n",
              " '90k': 155,\n",
              " ':': 98,\n",
              " '<': 210,\n",
              " '<OOV>': 1,\n",
              " '=': 247,\n",
              " '>': 209,\n",
              " '[': 136,\n",
              " '\\\\': 7,\n",
              " ']': 351,\n",
              " '_': 2,\n",
              " 'ab': 151,\n",
              " 'anh': 170,\n",
              " 'biên': 316,\n",
              " 'biểu': 260,\n",
              " 'biệt': 278,\n",
              " 'bày': 107,\n",
              " 'bánh': 123,\n",
              " 'bây': 270,\n",
              " 'bên': 235,\n",
              " 'bò': 296,\n",
              " 'bạn': 72,\n",
              " 'bảo': 158,\n",
              " 'bị': 237,\n",
              " 'bỏ': 162,\n",
              " 'bộ': 204,\n",
              " 'bực': 85,\n",
              " 'chiên': 288,\n",
              " 'chiếc': 150,\n",
              " 'cho': 17,\n",
              " 'chung': 227,\n",
              " 'chán': 297,\n",
              " 'chính': 141,\n",
              " 'chương': 223,\n",
              " 'chạy': 81,\n",
              " 'chả': 112,\n",
              " 'chảo': 285,\n",
              " 'chận': 205,\n",
              " 'chật': 145,\n",
              " 'chế': 272,\n",
              " 'chỉ': 93,\n",
              " 'chịu': 97,\n",
              " 'chỗ': 142,\n",
              " 'chờ': 230,\n",
              " 'chụp': 71,\n",
              " 'chủ': 53,\n",
              " 'chứ': 101,\n",
              " 'cmnd': 172,\n",
              " 'coi': 56,\n",
              " 'cuối': 211,\n",
              " 'các': 34,\n",
              " 'cách': 331,\n",
              " 'cái': 38,\n",
              " 'còn': 47,\n",
              " 'có': 13,\n",
              " 'công': 60,\n",
              " 'cùng': 212,\n",
              " 'cũng': 25,\n",
              " 'cơ': 119,\n",
              " 'cưới': 258,\n",
              " 'cả': 62,\n",
              " 'cảm': 283,\n",
              " 'cầm': 91,\n",
              " 'cần': 94,\n",
              " 'cắp': 161,\n",
              " 'của': 24,\n",
              " 'do': 241,\n",
              " 'du': 255,\n",
              " 'duyên': 264,\n",
              " 'dài': 222,\n",
              " 'dễ': 337,\n",
              " 'em': 42,\n",
              " 'galaxy': 140,\n",
              " 'ghi': 231,\n",
              " 'ghé': 257,\n",
              " 'ghét': 138,\n",
              " 'ghê': 273,\n",
              " 'gian': 221,\n",
              " 'giá': 63,\n",
              " 'giả': 295,\n",
              " 'giờ': 45,\n",
              " 'giữ': 78,\n",
              " 'gác': 213,\n",
              " 'gì': 84,\n",
              " 'gòn': 263,\n",
              " 'gần': 182,\n",
              " 'gọi': 310,\n",
              " 'hai': 55,\n",
              " 'hallowen': 224,\n",
              " 'hoa': 343,\n",
              " 'hoà': 317,\n",
              " 'hàng': 229,\n",
              " 'hơi': 327,\n",
              " 'hơn': 111,\n",
              " 'hả': 207,\n",
              " 'hết': 103,\n",
              " 'họ': 191,\n",
              " 'học': 307,\n",
              " 'họng': 194,\n",
              " 'hỏi': 92,\n",
              " 'hợp': 301,\n",
              " 'khi': 37,\n",
              " 'khu': 251,\n",
              " 'khá': 130,\n",
              " 'khách': 48,\n",
              " 'khó': 233,\n",
              " 'khói': 201,\n",
              " 'không': 59,\n",
              " 'khăn': 234,\n",
              " 'khơi': 279,\n",
              " 'khẩu': 341,\n",
              " 'khủng': 299,\n",
              " 'kinh': 298,\n",
              " 'kiêm': 185,\n",
              " 'ko': 21,\n",
              " 'kỷ': 276,\n",
              " 'la': 166,\n",
              " 'loại': 183,\n",
              " 'luôn': 104,\n",
              " 'là': 6,\n",
              " 'làm': 26,\n",
              " 'lên': 54,\n",
              " 'lúc': 51,\n",
              " 'lại': 12,\n",
              " 'lải': 195,\n",
              " 'lấy': 46,\n",
              " 'lần': 52,\n",
              " 'lắm': 68,\n",
              " 'lắp': 186,\n",
              " 'lịch': 256,\n",
              " 'lỗ': 202,\n",
              " 'lớn': 315,\n",
              " 'lời': 332,\n",
              " 'lỡ': 82,\n",
              " 'lợi': 324,\n",
              " 'lợn': 292,\n",
              " 'muốn': 33,\n",
              " 'mà': 269,\n",
              " 'mì': 124,\n",
              " 'mình': 4,\n",
              " 'món': 346,\n",
              " 'mơ': 281,\n",
              " 'mất': 61,\n",
              " 'mấy': 86,\n",
              " 'mắc': 44,\n",
              " 'mỗi': 113,\n",
              " 'một': 30,\n",
              " 'mới': 69,\n",
              " 'n': 22,\n",
              " 'nam': 134,\n",
              " 'ncả': 164,\n",
              " 'ncảm': 350,\n",
              " 'ngang': 116,\n",
              " 'ngay': 319,\n",
              " 'nghẹt': 144,\n",
              " 'nghị': 190,\n",
              " 'ngoài': 129,\n",
              " 'nguyễn__': 320,\n",
              " 'người': 29,\n",
              " 'ngồi': 128,\n",
              " 'nhiêu': 242,\n",
              " 'nhiều': 115,\n",
              " 'nho': 265,\n",
              " 'nhuộm': 293,\n",
              " 'nhân': 135,\n",
              " 'như': 160,\n",
              " 'nhưng': 27,\n",
              " 'nhải': 196,\n",
              " 'nhảy': 193,\n",
              " 'nhất': 139,\n",
              " 'nhỏ': 50,\n",
              " 'những': 259,\n",
              " 'niềm': 274,\n",
              " 'niệm': 277,\n",
              " 'nkhi': 187,\n",
              " 'nkể': 245,\n",
              " 'nmón': 339,\n",
              " 'nnhưng': 218,\n",
              " 'nquán': 347,\n",
              " 'nvừa': 325,\n",
              " 'nào': 79,\n",
              " 'này': 253,\n",
              " 'nên': 20,\n",
              " 'nó': 87,\n",
              " 'nói': 15,\n",
              " 'nơi': 120,\n",
              " 'nước': 125,\n",
              " 'nắp': 153,\n",
              " 'nằm': 318,\n",
              " 'nữ': 336,\n",
              " 'nữa': 109,\n",
              " 'ok': 344,\n",
              " 'pate': 287,\n",
              " 'pha': 271,\n",
              " 'phim': 90,\n",
              " 'phiếu': 232,\n",
              " 'phải': 83,\n",
              " 'phần': 127,\n",
              " 'phẩm': 294,\n",
              " 'phục': 75,\n",
              " 'pô': 39,\n",
              " 'q1': 322,\n",
              " 'qua': 179,\n",
              " 'quanh': 250,\n",
              " 'quay': 188,\n",
              " 'quá': 146,\n",
              " 'quán': 23,\n",
              " 'quẹt': 148,\n",
              " 'ra': 58,\n",
              " 'rạp': 137,\n",
              " 'rất': 35,\n",
              " 'rồi': 40,\n",
              " 'rớt': 152,\n",
              " 'sai': 156,\n",
              " 'sang': 314,\n",
              " 'sao': 244,\n",
              " 'sau': 219,\n",
              " 'shock': 328,\n",
              " 'suất': 225,\n",
              " 'sài': 262,\n",
              " 'sánh': 313,\n",
              " 'sùm': 168,\n",
              " 'sđt': 173,\n",
              " 'sắc': 312,\n",
              " 'sốt': 289,\n",
              " 'sửa': 181,\n",
              " 'ta': 88,\n",
              " 'tai': 203,\n",
              " 'teen': 126,\n",
              " 'thay': 348,\n",
              " 'thiếu': 334,\n",
              " 'thiệt': 199,\n",
              " 'thuận': 323,\n",
              " 'thái': 132,\n",
              " 'thêm': 239,\n",
              " 'thì': 11,\n",
              " 'thích': 282,\n",
              " 'thù': 206,\n",
              " 'thương': 338,\n",
              " 'thấy': 105,\n",
              " 'thằng': 157,\n",
              " 'thế': 226,\n",
              " 'thể': 114,\n",
              " 'thịt': 291,\n",
              " 'thời': 220,\n",
              " 'thực': 243,\n",
              " 'tin': 177,\n",
              " 'tiểu': 306,\n",
              " 'tiệm': 180,\n",
              " 'toàn': 303,\n",
              " 'trong': 31,\n",
              " 'trãi': 321,\n",
              " 'trình': 106,\n",
              " 'trí': 300,\n",
              " 'trúng': 149,\n",
              " 'trưng': 340,\n",
              " 'trước': 304,\n",
              " 'trường': 305,\n",
              " 'trả': 67,\n",
              " 'trễ': 214,\n",
              " 'trọng': 131,\n",
              " 'trốn': 89,\n",
              " 'trống': 333,\n",
              " 'trời': 208,\n",
              " 'trứng': 286,\n",
              " 'tuyển': 268,\n",
              " 'tên': 192,\n",
              " 'tóc': 329,\n",
              " 'tôn': 335,\n",
              " 'tượng': 261,\n",
              " 'tạm': 171,\n",
              " 'tất': 345,\n",
              " 'tới': 32,\n",
              " 'tức': 216,\n",
              " 'um': 167,\n",
              " 'vang': 290,\n",
              " 'viên': 70,\n",
              " 'vui': 275,\n",
              " 'và': 8,\n",
              " 'vàng': 330,\n",
              " 'vào': 147,\n",
              " 'vì': 36,\n",
              " 'vô': 326,\n",
              " 'vẫn': 96,\n",
              " 'vậy': 163,\n",
              " 'về': 236,\n",
              " 'vệ': 159,\n",
              " 'vị': 342,\n",
              " 'với': 74,\n",
              " 'vụ': 76,\n",
              " 'vực': 252,\n",
              " 'windmills_ntn': 284,\n",
              " 'xe': 10,\n",
              " 'xung': 249,\n",
              " 'xuống': 95,\n",
              " 'xíu': 143,\n",
              " 'xếp': 228,\n",
              " 'xịt': 200,\n",
              " 'zô': 108,\n",
              " 'ôm': 178,\n",
              " 'ăn': 28,\n",
              " 'đa': 302,\n",
              " 'đi': 43,\n",
              " 'điên': 102,\n",
              " 'điểm': 309,\n",
              " 'đt': 174,\n",
              " 'đành': 175,\n",
              " 'đám': 165,\n",
              " 'đây': 19,\n",
              " 'đã': 57,\n",
              " 'đòi': 169,\n",
              " 'đó': 18,\n",
              " 'đông': 80,\n",
              " 'đúc': 254,\n",
              " 'đưa': 266,\n",
              " 'được': 110,\n",
              " 'đắc': 311,\n",
              " 'đặc': 121,\n",
              " 'đến': 73,\n",
              " 'đề': 189,\n",
              " 'đền': 154,\n",
              " 'để': 99,\n",
              " 'địa': 308,\n",
              " 'đổi': 349,\n",
              " 'độ': 133,\n",
              " 'đủ': 198,\n",
              " 'đứng': 176,\n",
              " 'ơn': 122,\n",
              " 'ước': 280,\n",
              " 'ảnh': 117,\n",
              " 'ở': 14,\n",
              " 'ức': 246,\n",
              " 'ứng': 267}"
            ]
          },
          "metadata": {
            "tags": []
          },
          "execution_count": 85
        }
      ]
    },
    {
      "cell_type": "code",
      "metadata": {
        "id": "bWpZximCCCwo",
        "colab_type": "code",
        "colab": {
          "base_uri": "https://localhost:8080/",
          "height": 35
        },
        "outputId": "05948465-19e7-4665-ede0-2c7582aa132b"
      },
      "source": [
        "len(tokenizer.word_index)"
      ],
      "execution_count": null,
      "outputs": [
        {
          "output_type": "execute_result",
          "data": {
            "text/plain": [
              "351"
            ]
          },
          "metadata": {
            "tags": []
          },
          "execution_count": 86
        }
      ]
    },
    {
      "cell_type": "code",
      "metadata": {
        "id": "e6PifLiPCL9D",
        "colab_type": "code",
        "colab": {}
      },
      "source": [
        "train_sequences = tokenizer.texts_to_sequences(train_sentence)\n",
        "test_sequences = tokenizer.texts_to_sequences(valid_sentence)\n",
        "\n",
        "max_length = 240 \n",
        "padded_train_sequences= pad_sequences(train_sequences,\n",
        "                                      maxlen= max_length,\n",
        "                                      padding='post',\n",
        "                                      truncating='post')\n",
        "\n",
        "padded_test_sequences= pad_sequences(test_sequences,\n",
        "                                      maxlen= max_length,\n",
        "                                      padding='post',\n",
        "                                      truncating='post')"
      ],
      "execution_count": null,
      "outputs": []
    },
    {
      "cell_type": "code",
      "metadata": {
        "id": "i1keXlYVCeA9",
        "colab_type": "code",
        "colab": {}
      },
      "source": [
        "import tensorflow as tf\n",
        "from tensorflow.keras.regularizers import Regularizer\n",
        "from tensorflow.keras.models import  Sequential\n",
        "from tensorflow.keras.layers  import GlobalAveragePooling1D\n",
        "from tensorflow.keras.layers  import Dense\n",
        "from tensorflow.keras.layers import Conv1D,Dropout \n",
        "from tensorflow.keras.layers import Embedding,Bidirectional,LSTM"
      ],
      "execution_count": null,
      "outputs": []
    },
    {
      "cell_type": "code",
      "metadata": {
        "id": "ahYTrKtvCgJj",
        "colab_type": "code",
        "colab": {}
      },
      "source": [
        "model = Sequential()\n",
        "model.add(Embedding(1000,64)) \n",
        "model.add(Conv1D(128,5,activation='relu'))\n",
        "model.add(GlobalAveragePooling1D())\n",
        "model.add(Dense(64,activation='relu',kernel_regularizer=tf.keras.regularizers.l2(0.01)))\n",
        "model.add(Dense(1,activation=\"sigmoid\"))"
      ],
      "execution_count": null,
      "outputs": []
    },
    {
      "cell_type": "code",
      "metadata": {
        "id": "IoRiDMDfErwl",
        "colab_type": "code",
        "colab": {
          "base_uri": "https://localhost:8080/",
          "height": 348
        },
        "outputId": "0f15df06-75d8-46ee-aa2c-7f3d1f9ae97e"
      },
      "source": [
        "model.summary()"
      ],
      "execution_count": null,
      "outputs": [
        {
          "output_type": "stream",
          "text": [
            "Model: \"sequential_3\"\n",
            "_________________________________________________________________\n",
            "Layer (type)                 Output Shape              Param #   \n",
            "=================================================================\n",
            "embedding_3 (Embedding)      (None, None, 64)          64000     \n",
            "_________________________________________________________________\n",
            "conv1d_1 (Conv1D)            (None, None, 128)         41088     \n",
            "_________________________________________________________________\n",
            "global_average_pooling1d_1 ( (None, 128)               0         \n",
            "_________________________________________________________________\n",
            "dense_5 (Dense)              (None, 64)                8256      \n",
            "_________________________________________________________________\n",
            "dense_6 (Dense)              (None, 1)                 65        \n",
            "=================================================================\n",
            "Total params: 113,409\n",
            "Trainable params: 113,409\n",
            "Non-trainable params: 0\n",
            "_________________________________________________________________\n"
          ],
          "name": "stdout"
        }
      ]
    },
    {
      "cell_type": "code",
      "metadata": {
        "id": "ugN5t1BkEu5l",
        "colab_type": "code",
        "colab": {
          "base_uri": "https://localhost:8080/",
          "height": 1000
        },
        "outputId": "3843464b-332e-4771-9c2e-1933b76f9ed3"
      },
      "source": [
        "num_epochs = 50\n",
        "\n",
        "\n",
        "\n",
        "model.compile(loss = 'binary_crossentropy',optimizer='adam',metrics='acc')\n",
        "\n",
        "\n",
        "history = model.fit(padded_train_sequences,train_labels, \n",
        "          epochs=num_epochs,\n",
        "          validation_data=(padded_test_sequences,valid_lables))"
      ],
      "execution_count": null,
      "outputs": [
        {
          "output_type": "stream",
          "text": [
            "Epoch 1/50\n",
            "659/659 [==============================] - 5s 7ms/step - loss: 0.5380 - acc: 0.7980 - val_loss: 0.6248 - val_acc: 0.6737\n",
            "Epoch 2/50\n",
            "659/659 [==============================] - 5s 7ms/step - loss: 0.3866 - acc: 0.8309 - val_loss: 0.5349 - val_acc: 0.7296\n",
            "Epoch 3/50\n",
            "659/659 [==============================] - 5s 7ms/step - loss: 0.3779 - acc: 0.8333 - val_loss: 0.5659 - val_acc: 0.7113\n",
            "Epoch 4/50\n",
            "659/659 [==============================] - 4s 6ms/step - loss: 0.3712 - acc: 0.8376 - val_loss: 0.5470 - val_acc: 0.7172\n",
            "Epoch 5/50\n",
            "659/659 [==============================] - 4s 7ms/step - loss: 0.3671 - acc: 0.8367 - val_loss: 0.5877 - val_acc: 0.7089\n",
            "Epoch 6/50\n",
            "659/659 [==============================] - 4s 7ms/step - loss: 0.3639 - acc: 0.8394 - val_loss: 0.5263 - val_acc: 0.7332\n",
            "Epoch 7/50\n",
            "659/659 [==============================] - 4s 7ms/step - loss: 0.3635 - acc: 0.8384 - val_loss: 0.5268 - val_acc: 0.7397\n",
            "Epoch 8/50\n",
            "659/659 [==============================] - 4s 6ms/step - loss: 0.3585 - acc: 0.8408 - val_loss: 0.5109 - val_acc: 0.7479\n",
            "Epoch 9/50\n",
            "659/659 [==============================] - 4s 7ms/step - loss: 0.3556 - acc: 0.8414 - val_loss: 0.5172 - val_acc: 0.7495\n",
            "Epoch 10/50\n",
            "659/659 [==============================] - 4s 7ms/step - loss: 0.3563 - acc: 0.8416 - val_loss: 0.4803 - val_acc: 0.7653\n",
            "Epoch 11/50\n",
            "659/659 [==============================] - 4s 7ms/step - loss: 0.3531 - acc: 0.8435 - val_loss: 0.4799 - val_acc: 0.7630\n",
            "Epoch 12/50\n",
            "659/659 [==============================] - 4s 7ms/step - loss: 0.3506 - acc: 0.8428 - val_loss: 0.4802 - val_acc: 0.7651\n",
            "Epoch 13/50\n",
            "659/659 [==============================] - 4s 7ms/step - loss: 0.3517 - acc: 0.8433 - val_loss: 0.4690 - val_acc: 0.7718\n",
            "Epoch 14/50\n",
            "659/659 [==============================] - 4s 7ms/step - loss: 0.3507 - acc: 0.8433 - val_loss: 0.5600 - val_acc: 0.7110\n",
            "Epoch 15/50\n",
            "659/659 [==============================] - 4s 7ms/step - loss: 0.3500 - acc: 0.8450 - val_loss: 0.4945 - val_acc: 0.7567\n",
            "Epoch 16/50\n",
            "659/659 [==============================] - 4s 7ms/step - loss: 0.3488 - acc: 0.8451 - val_loss: 0.4692 - val_acc: 0.7701\n",
            "Epoch 17/50\n",
            "659/659 [==============================] - 4s 7ms/step - loss: 0.3471 - acc: 0.8446 - val_loss: 0.4874 - val_acc: 0.7617\n",
            "Epoch 18/50\n",
            "659/659 [==============================] - 4s 7ms/step - loss: 0.3464 - acc: 0.8455 - val_loss: 0.5229 - val_acc: 0.7441\n",
            "Epoch 19/50\n",
            "659/659 [==============================] - 5s 7ms/step - loss: 0.3471 - acc: 0.8453 - val_loss: 0.4646 - val_acc: 0.7762\n",
            "Epoch 20/50\n",
            "659/659 [==============================] - 4s 7ms/step - loss: 0.3445 - acc: 0.8457 - val_loss: 0.4835 - val_acc: 0.7676\n",
            "Epoch 21/50\n",
            "659/659 [==============================] - 4s 7ms/step - loss: 0.3440 - acc: 0.8468 - val_loss: 0.5710 - val_acc: 0.7142\n",
            "Epoch 22/50\n",
            "659/659 [==============================] - 4s 7ms/step - loss: 0.3421 - acc: 0.8489 - val_loss: 0.5863 - val_acc: 0.7021\n",
            "Epoch 23/50\n",
            "659/659 [==============================] - 4s 6ms/step - loss: 0.3428 - acc: 0.8469 - val_loss: 0.5020 - val_acc: 0.7558\n",
            "Epoch 24/50\n",
            "659/659 [==============================] - 4s 7ms/step - loss: 0.3417 - acc: 0.8497 - val_loss: 0.4775 - val_acc: 0.7723\n",
            "Epoch 25/50\n",
            "659/659 [==============================] - 4s 7ms/step - loss: 0.3392 - acc: 0.8492 - val_loss: 0.5420 - val_acc: 0.7323\n",
            "Epoch 26/50\n",
            "659/659 [==============================] - 4s 6ms/step - loss: 0.3405 - acc: 0.8513 - val_loss: 0.5359 - val_acc: 0.7370\n",
            "Epoch 27/50\n",
            "659/659 [==============================] - 4s 7ms/step - loss: 0.3374 - acc: 0.8508 - val_loss: 0.5631 - val_acc: 0.7278\n",
            "Epoch 28/50\n",
            "659/659 [==============================] - 4s 7ms/step - loss: 0.3365 - acc: 0.8534 - val_loss: 0.5250 - val_acc: 0.7497\n",
            "Epoch 29/50\n",
            "659/659 [==============================] - 4s 7ms/step - loss: 0.3361 - acc: 0.8539 - val_loss: 0.4739 - val_acc: 0.7703\n",
            "Epoch 30/50\n",
            "659/659 [==============================] - 5s 7ms/step - loss: 0.3332 - acc: 0.8548 - val_loss: 0.5584 - val_acc: 0.7142\n",
            "Epoch 31/50\n",
            "659/659 [==============================] - 4s 7ms/step - loss: 0.3352 - acc: 0.8518 - val_loss: 0.5442 - val_acc: 0.7254\n",
            "Epoch 32/50\n",
            "659/659 [==============================] - 4s 7ms/step - loss: 0.3328 - acc: 0.8550 - val_loss: 0.4836 - val_acc: 0.7659\n",
            "Epoch 33/50\n",
            "659/659 [==============================] - 4s 6ms/step - loss: 0.3313 - acc: 0.8548 - val_loss: 0.5850 - val_acc: 0.7173\n",
            "Epoch 34/50\n",
            "659/659 [==============================] - 5s 7ms/step - loss: 0.3323 - acc: 0.8531 - val_loss: 0.5180 - val_acc: 0.7475\n",
            "Epoch 35/50\n",
            "659/659 [==============================] - 4s 7ms/step - loss: 0.3307 - acc: 0.8545 - val_loss: 0.5105 - val_acc: 0.7578\n",
            "Epoch 36/50\n",
            "659/659 [==============================] - 4s 7ms/step - loss: 0.3306 - acc: 0.8541 - val_loss: 0.5350 - val_acc: 0.7365\n",
            "Epoch 37/50\n",
            "659/659 [==============================] - 4s 7ms/step - loss: 0.3289 - acc: 0.8552 - val_loss: 0.4872 - val_acc: 0.7638\n",
            "Epoch 38/50\n",
            "659/659 [==============================] - 4s 7ms/step - loss: 0.3290 - acc: 0.8549 - val_loss: 0.5232 - val_acc: 0.7472\n",
            "Epoch 39/50\n",
            "659/659 [==============================] - 4s 7ms/step - loss: 0.3283 - acc: 0.8556 - val_loss: 0.5747 - val_acc: 0.7197\n",
            "Epoch 40/50\n",
            "659/659 [==============================] - 4s 7ms/step - loss: 0.3267 - acc: 0.8566 - val_loss: 0.5078 - val_acc: 0.7553\n",
            "Epoch 41/50\n",
            "659/659 [==============================] - 4s 7ms/step - loss: 0.3281 - acc: 0.8567 - val_loss: 0.5480 - val_acc: 0.7400\n",
            "Epoch 42/50\n",
            "659/659 [==============================] - 4s 7ms/step - loss: 0.3254 - acc: 0.8565 - val_loss: 0.5392 - val_acc: 0.7371\n",
            "Epoch 43/50\n",
            "659/659 [==============================] - 4s 7ms/step - loss: 0.3250 - acc: 0.8584 - val_loss: 0.5379 - val_acc: 0.7428\n",
            "Epoch 44/50\n",
            "659/659 [==============================] - 4s 7ms/step - loss: 0.3245 - acc: 0.8578 - val_loss: 0.5411 - val_acc: 0.7396\n",
            "Epoch 45/50\n",
            "659/659 [==============================] - 5s 7ms/step - loss: 0.3245 - acc: 0.8571 - val_loss: 0.5124 - val_acc: 0.7535\n",
            "Epoch 46/50\n",
            "659/659 [==============================] - 4s 7ms/step - loss: 0.3238 - acc: 0.8585 - val_loss: 0.4656 - val_acc: 0.7799\n",
            "Epoch 47/50\n",
            "659/659 [==============================] - 4s 7ms/step - loss: 0.3230 - acc: 0.8589 - val_loss: 0.5513 - val_acc: 0.7341\n",
            "Epoch 48/50\n",
            "659/659 [==============================] - 4s 7ms/step - loss: 0.3221 - acc: 0.8609 - val_loss: 0.5045 - val_acc: 0.7597\n",
            "Epoch 49/50\n",
            "659/659 [==============================] - 4s 7ms/step - loss: 0.3219 - acc: 0.8614 - val_loss: 0.5616 - val_acc: 0.7289\n",
            "Epoch 50/50\n",
            "659/659 [==============================] - 4s 7ms/step - loss: 0.3207 - acc: 0.8608 - val_loss: 0.4840 - val_acc: 0.7688\n"
          ],
          "name": "stdout"
        }
      ]
    },
    {
      "cell_type": "code",
      "metadata": {
        "id": "aj0c0ZLWQWuf",
        "colab_type": "code",
        "colab": {
          "base_uri": "https://localhost:8080/",
          "height": 541
        },
        "outputId": "37db7675-40cd-4f0d-ab5e-3d4877ee84b2"
      },
      "source": [
        "import matplotlib.pyplot as plt\n",
        "\n",
        "def plot_graphs(history, setting):\n",
        "  plt.plot(history.history[setting])\n",
        "  plt.plot(history.history['val_'+setting])\n",
        "  plt.xlabel(\"Epochs\")\n",
        "  plt.ylabel(setting)\n",
        "  plt.legend([setting, 'val_'+setting])\n",
        "  plt.show()\n",
        "  \n",
        "plot_graphs(history, \"acc\")\n",
        "plot_graphs(history, \"loss\")"
      ],
      "execution_count": null,
      "outputs": [
        {
          "output_type": "display_data",
          "data": {
            "image/png": "[encoded data removed]",
            "text/plain": [
              "<Figure size 432x288 with 1 Axes>"
            ]
          },
          "metadata": {
            "tags": [],
            "needs_background": "light"
          }
        },
        {
          "output_type": "display_data",
          "data": {
            "image/png": "[encoded data removed]",
            "text/plain": [
              "<Figure size 432x288 with 1 Axes>"
            ]
          },
          "metadata": {
            "tags": [],
            "needs_background": "light"
          }
        }
      ]
    },
    {
      "cell_type": "code",
      "metadata": {
        "id": "p_GxfKKtQh5E",
        "colab_type": "code",
        "colab": {}
      },
      "source": [
        ""
      ],
      "execution_count": null,
      "outputs": []
    },
    {
      "cell_type": "markdown",
      "metadata": {
        "id": "c_MY24zRQpzf",
        "colab_type": "text"
      },
      "source": [
        "Model2\n"
      ]
    },
    {
      "cell_type": "code",
      "metadata": {
        "id": "56jDlyU0Qq_l",
        "colab_type": "code",
        "colab": {}
      },
      "source": [
        "model2 = Sequential()\n",
        "model2.add(Embedding(1000,64))\n",
        "model2.add(Bidirectional(LSTM(120,return_sequences=True)))\n",
        "model2.add(Bidirectional(LSTM(units=64)))\n",
        "\n",
        "model2.add(Dropout(0.2))\n",
        "model2.add(Dense(32,activation='relu',kernel_regularizer=tf.keras.regularizers.l2(0.01)))\n",
        "model2.add(Dense(1,activation=\"sigmoid\"))"
      ],
      "execution_count": null,
      "outputs": []
    },
    {
      "cell_type": "code",
      "metadata": {
        "id": "a1KQQYDpQza7",
        "colab_type": "code",
        "colab": {
          "base_uri": "https://localhost:8080/",
          "height": 384
        },
        "outputId": "3ffc695f-7679-42c6-8c39-01cc7f5be5bc"
      },
      "source": [
        "model2.summary()"
      ],
      "execution_count": null,
      "outputs": [
        {
          "output_type": "stream",
          "text": [
            "Model: \"sequential_7\"\n",
            "_________________________________________________________________\n",
            "Layer (type)                 Output Shape              Param #   \n",
            "=================================================================\n",
            "embedding_7 (Embedding)      (None, None, 64)          64000     \n",
            "_________________________________________________________________\n",
            "bidirectional_4 (Bidirection (None, None, 240)         177600    \n",
            "_________________________________________________________________\n",
            "bidirectional_5 (Bidirection (None, 128)               156160    \n",
            "_________________________________________________________________\n",
            "dropout_2 (Dropout)          (None, 128)               0         \n",
            "_________________________________________________________________\n",
            "dense_4 (Dense)              (None, 32)                4128      \n",
            "_________________________________________________________________\n",
            "dense_5 (Dense)              (None, 1)                 33        \n",
            "=================================================================\n",
            "Total params: 401,921\n",
            "Trainable params: 401,921\n",
            "Non-trainable params: 0\n",
            "_________________________________________________________________\n"
          ],
          "name": "stdout"
        }
      ]
    },
    {
      "cell_type": "code",
      "metadata": {
        "id": "Hjma2AO3T2sR",
        "colab_type": "code",
        "colab": {}
      },
      "source": [
        "expected_acc = 0.94\n",
        "\n",
        "class MyCallback(tf.keras.callbacks.Callback):\n",
        "  def on_epoch_end(self,epoch,logs=()):\n",
        "    if(logs.get('val_acc') > expected_acc):\n",
        "      self.model.stop_training =True\n",
        "\n",
        "callbacks = MyCallback()"
      ],
      "execution_count": null,
      "outputs": []
    },
    {
      "cell_type": "code",
      "metadata": {
        "id": "Y9P7B4PUQ61Q",
        "colab_type": "code",
        "colab": {
          "base_uri": "https://localhost:8080/",
          "height": 1000
        },
        "outputId": "162dd98d-067c-4001-a48a-cfc0d6482a87"
      },
      "source": [
        "num_epochs = 100\n",
        "\n",
        "\n",
        "\n",
        "model2.compile(loss = 'binary_crossentropy',optimizer='adam',metrics='acc')\n",
        "\n",
        "\n",
        "history2 = model2.fit(padded_train_sequences,train_labels, \n",
        "          epochs=num_epochs,\n",
        "          validation_data=(padded_test_sequences,valid_lables),\n",
        "          callbacks=[callbacks])"
      ],
      "execution_count": null,
      "outputs": [
        {
          "output_type": "stream",
          "text": [
            "Epoch 1/100\n",
            "659/659 [==============================] - 33s 50ms/step - loss: 0.5646 - acc: 0.7737 - val_loss: 0.8141 - val_acc: 0.5000\n",
            "Epoch 2/100\n",
            "659/659 [==============================] - 32s 48ms/step - loss: 0.5337 - acc: 0.7629 - val_loss: 0.7883 - val_acc: 0.5000\n",
            "Epoch 3/100\n",
            "659/659 [==============================] - 32s 48ms/step - loss: 0.5026 - acc: 0.7629 - val_loss: 0.8806 - val_acc: 0.5000\n",
            "Epoch 4/100\n",
            "659/659 [==============================] - 32s 48ms/step - loss: 0.4480 - acc: 0.7629 - val_loss: 0.8371 - val_acc: 0.5000\n",
            "Epoch 5/100\n",
            "659/659 [==============================] - 32s 48ms/step - loss: 0.4711 - acc: 0.7743 - val_loss: 0.5833 - val_acc: 0.7265\n",
            "Epoch 6/100\n",
            "659/659 [==============================] - 32s 49ms/step - loss: 0.3709 - acc: 0.8345 - val_loss: 0.5851 - val_acc: 0.7772\n",
            "Epoch 7/100\n",
            "659/659 [==============================] - 32s 48ms/step - loss: 0.3528 - acc: 0.8504 - val_loss: 0.5240 - val_acc: 0.7942\n",
            "Epoch 8/100\n",
            "659/659 [==============================] - 32s 48ms/step - loss: 0.3364 - acc: 0.8539 - val_loss: 0.5367 - val_acc: 0.7633\n",
            "Epoch 9/100\n",
            "659/659 [==============================] - 32s 48ms/step - loss: 0.3246 - acc: 0.8612 - val_loss: 0.5260 - val_acc: 0.7879\n",
            "Epoch 10/100\n",
            "659/659 [==============================] - 32s 49ms/step - loss: 0.3178 - acc: 0.8621 - val_loss: 0.4609 - val_acc: 0.8036\n",
            "Epoch 11/100\n",
            "659/659 [==============================] - 32s 48ms/step - loss: 0.3116 - acc: 0.8651 - val_loss: 0.5206 - val_acc: 0.7678\n",
            "Epoch 12/100\n",
            "659/659 [==============================] - 32s 48ms/step - loss: 0.3021 - acc: 0.8685 - val_loss: 0.5038 - val_acc: 0.7860\n",
            "Epoch 13/100\n",
            "659/659 [==============================] - 32s 48ms/step - loss: 0.2961 - acc: 0.8731 - val_loss: 0.5214 - val_acc: 0.8101\n",
            "Epoch 14/100\n",
            "659/659 [==============================] - 32s 48ms/step - loss: 0.2904 - acc: 0.8778 - val_loss: 0.4820 - val_acc: 0.7922\n",
            "Epoch 15/100\n",
            "659/659 [==============================] - 32s 48ms/step - loss: 0.2830 - acc: 0.8785 - val_loss: 0.4780 - val_acc: 0.8010\n",
            "Epoch 16/100\n",
            "659/659 [==============================] - 32s 49ms/step - loss: 0.2802 - acc: 0.8809 - val_loss: 0.4196 - val_acc: 0.8201\n",
            "Epoch 17/100\n",
            "659/659 [==============================] - 32s 49ms/step - loss: 0.2749 - acc: 0.8844 - val_loss: 0.5471 - val_acc: 0.7926\n",
            "Epoch 18/100\n",
            "659/659 [==============================] - 32s 48ms/step - loss: 0.2688 - acc: 0.8870 - val_loss: 0.4731 - val_acc: 0.8017\n",
            "Epoch 19/100\n",
            "659/659 [==============================] - 32s 48ms/step - loss: 0.2642 - acc: 0.8878 - val_loss: 0.4367 - val_acc: 0.8262\n",
            "Epoch 20/100\n",
            "659/659 [==============================] - 32s 49ms/step - loss: 0.2565 - acc: 0.8920 - val_loss: 0.4452 - val_acc: 0.8188\n",
            "Epoch 21/100\n",
            "659/659 [==============================] - 32s 49ms/step - loss: 0.2496 - acc: 0.8953 - val_loss: 0.4579 - val_acc: 0.8043\n",
            "Epoch 22/100\n",
            "659/659 [==============================] - 32s 49ms/step - loss: 0.2400 - acc: 0.8989 - val_loss: 0.4788 - val_acc: 0.8106\n",
            "Epoch 23/100\n",
            "659/659 [==============================] - 32s 49ms/step - loss: 0.2345 - acc: 0.9031 - val_loss: 0.4822 - val_acc: 0.8079\n",
            "Epoch 24/100\n",
            "659/659 [==============================] - 32s 49ms/step - loss: 0.2253 - acc: 0.9096 - val_loss: 0.5449 - val_acc: 0.8031\n",
            "Epoch 25/100\n",
            "659/659 [==============================] - 32s 49ms/step - loss: 0.2162 - acc: 0.9127 - val_loss: 0.6004 - val_acc: 0.7886\n",
            "Epoch 26/100\n",
            "659/659 [==============================] - 32s 49ms/step - loss: 0.2075 - acc: 0.9176 - val_loss: 0.4851 - val_acc: 0.8211\n",
            "Epoch 27/100\n",
            "659/659 [==============================] - 32s 49ms/step - loss: 0.1961 - acc: 0.9237 - val_loss: 0.4641 - val_acc: 0.8284\n",
            "Epoch 28/100\n",
            "659/659 [==============================] - 32s 49ms/step - loss: 0.1853 - acc: 0.9280 - val_loss: 0.5639 - val_acc: 0.8131\n",
            "Epoch 29/100\n",
            "659/659 [==============================] - 32s 49ms/step - loss: 0.1760 - acc: 0.9337 - val_loss: 0.5684 - val_acc: 0.8125\n",
            "Epoch 30/100\n",
            "659/659 [==============================] - 32s 49ms/step - loss: 0.1688 - acc: 0.9360 - val_loss: 0.6236 - val_acc: 0.8063\n",
            "Epoch 31/100\n",
            "659/659 [==============================] - 32s 49ms/step - loss: 0.1634 - acc: 0.9407 - val_loss: 0.5468 - val_acc: 0.8151\n",
            "Epoch 32/100\n",
            "659/659 [==============================] - 32s 49ms/step - loss: 0.1514 - acc: 0.9444 - val_loss: 0.6602 - val_acc: 0.7943\n",
            "Epoch 33/100\n",
            "659/659 [==============================] - 32s 49ms/step - loss: 0.1426 - acc: 0.9482 - val_loss: 0.7626 - val_acc: 0.7922\n",
            "Epoch 34/100\n",
            "659/659 [==============================] - 32s 49ms/step - loss: 0.1373 - acc: 0.9517 - val_loss: 0.9037 - val_acc: 0.7818\n",
            "Epoch 35/100\n",
            "659/659 [==============================] - 33s 50ms/step - loss: 0.1281 - acc: 0.9558 - val_loss: 0.6090 - val_acc: 0.8150\n",
            "Epoch 36/100\n",
            "659/659 [==============================] - 33s 49ms/step - loss: 0.1257 - acc: 0.9570 - val_loss: 0.7103 - val_acc: 0.8065\n",
            "Epoch 37/100\n",
            "659/659 [==============================] - 32s 49ms/step - loss: 0.1176 - acc: 0.9608 - val_loss: 0.7131 - val_acc: 0.7912\n",
            "Epoch 38/100\n",
            "659/659 [==============================] - 32s 49ms/step - loss: 0.1260 - acc: 0.9579 - val_loss: 0.7165 - val_acc: 0.8199\n",
            "Epoch 39/100\n",
            "659/659 [==============================] - 32s 49ms/step - loss: 0.1081 - acc: 0.9658 - val_loss: 0.6865 - val_acc: 0.8159\n",
            "Epoch 40/100\n",
            "659/659 [==============================] - 32s 49ms/step - loss: 0.1013 - acc: 0.9679 - val_loss: 0.9676 - val_acc: 0.7960\n",
            "Epoch 41/100\n",
            "659/659 [==============================] - 32s 49ms/step - loss: 0.1006 - acc: 0.9693 - val_loss: 0.7546 - val_acc: 0.8016\n",
            "Epoch 42/100\n",
            "659/659 [==============================] - 32s 49ms/step - loss: 0.0986 - acc: 0.9694 - val_loss: 0.7360 - val_acc: 0.8188\n",
            "Epoch 43/100\n",
            "659/659 [==============================] - 32s 49ms/step - loss: 0.0953 - acc: 0.9707 - val_loss: 0.9688 - val_acc: 0.7947\n",
            "Epoch 44/100\n",
            "659/659 [==============================] - 32s 49ms/step - loss: 0.0938 - acc: 0.9719 - val_loss: 0.8559 - val_acc: 0.7922\n",
            "Epoch 45/100\n",
            "659/659 [==============================] - 32s 49ms/step - loss: 0.0913 - acc: 0.9727 - val_loss: 0.6644 - val_acc: 0.8096\n",
            "Epoch 46/100\n",
            "659/659 [==============================] - 32s 48ms/step - loss: 0.0874 - acc: 0.9738 - val_loss: 0.9458 - val_acc: 0.7826\n",
            "Epoch 47/100\n",
            "659/659 [==============================] - 32s 49ms/step - loss: 0.0890 - acc: 0.9739 - val_loss: 0.8463 - val_acc: 0.7943\n",
            "Epoch 48/100\n",
            "659/659 [==============================] - 32s 49ms/step - loss: 0.0801 - acc: 0.9778 - val_loss: 1.0078 - val_acc: 0.7883\n",
            "Epoch 49/100\n",
            "659/659 [==============================] - 32s 49ms/step - loss: 0.0834 - acc: 0.9749 - val_loss: 0.9982 - val_acc: 0.7947\n",
            "Epoch 50/100\n",
            "659/659 [==============================] - 33s 49ms/step - loss: 0.0834 - acc: 0.9753 - val_loss: 0.8118 - val_acc: 0.8038\n",
            "Epoch 51/100\n",
            "659/659 [==============================] - 32s 49ms/step - loss: 0.0814 - acc: 0.9777 - val_loss: 0.8913 - val_acc: 0.8084\n",
            "Epoch 52/100\n",
            "659/659 [==============================] - 32s 49ms/step - loss: 0.0765 - acc: 0.9787 - val_loss: 0.9992 - val_acc: 0.8000\n",
            "Epoch 53/100\n",
            "659/659 [==============================] - 32s 49ms/step - loss: 0.0777 - acc: 0.9780 - val_loss: 0.5741 - val_acc: 0.8137\n",
            "Epoch 54/100\n",
            "659/659 [==============================] - 32s 49ms/step - loss: 0.0788 - acc: 0.9775 - val_loss: 0.8358 - val_acc: 0.7949\n",
            "Epoch 55/100\n",
            "659/659 [==============================] - 33s 49ms/step - loss: 0.0742 - acc: 0.9799 - val_loss: 0.8771 - val_acc: 0.8105\n",
            "Epoch 56/100\n",
            "659/659 [==============================] - 32s 49ms/step - loss: 0.0726 - acc: 0.9806 - val_loss: 0.8546 - val_acc: 0.8014\n",
            "Epoch 57/100\n",
            "659/659 [==============================] - 32s 49ms/step - loss: 0.0695 - acc: 0.9807 - val_loss: 1.0849 - val_acc: 0.7913\n",
            "Epoch 58/100\n",
            "659/659 [==============================] - 32s 49ms/step - loss: 0.0753 - acc: 0.9791 - val_loss: 0.9346 - val_acc: 0.8112\n",
            "Epoch 59/100\n",
            "659/659 [==============================] - 32s 49ms/step - loss: 0.0704 - acc: 0.9809 - val_loss: 1.0103 - val_acc: 0.7863\n",
            "Epoch 60/100\n",
            "659/659 [==============================] - 32s 48ms/step - loss: 0.0681 - acc: 0.9810 - val_loss: 1.1836 - val_acc: 0.7910\n",
            "Epoch 61/100\n",
            "659/659 [==============================] - 32s 49ms/step - loss: 0.0703 - acc: 0.9808 - val_loss: 1.0000 - val_acc: 0.7923\n",
            "Epoch 62/100\n",
            "659/659 [==============================] - 32s 49ms/step - loss: 0.0709 - acc: 0.9813 - val_loss: 0.9898 - val_acc: 0.7999\n",
            "Epoch 63/100\n",
            "659/659 [==============================] - 32s 49ms/step - loss: 0.0656 - acc: 0.9828 - val_loss: 0.9073 - val_acc: 0.7989\n",
            "Epoch 64/100\n",
            "659/659 [==============================] - 33s 49ms/step - loss: 0.0640 - acc: 0.9833 - val_loss: 0.9660 - val_acc: 0.7905\n",
            "Epoch 65/100\n",
            "659/659 [==============================] - 33s 49ms/step - loss: 0.0606 - acc: 0.9840 - val_loss: 0.9908 - val_acc: 0.7883\n",
            "Epoch 66/100\n",
            "659/659 [==============================] - 32s 48ms/step - loss: 0.0638 - acc: 0.9823 - val_loss: 1.2445 - val_acc: 0.7812\n",
            "Epoch 67/100\n",
            "659/659 [==============================] - 32s 49ms/step - loss: 0.0607 - acc: 0.9838 - val_loss: 1.0492 - val_acc: 0.7913\n",
            "Epoch 68/100\n",
            "659/659 [==============================] - 32s 49ms/step - loss: 0.0609 - acc: 0.9829 - val_loss: 1.1886 - val_acc: 0.7831\n",
            "Epoch 69/100\n",
            "659/659 [==============================] - 32s 49ms/step - loss: 0.0556 - acc: 0.9859 - val_loss: 1.0967 - val_acc: 0.7994\n",
            "Epoch 70/100\n",
            "659/659 [==============================] - 32s 49ms/step - loss: 0.0551 - acc: 0.9854 - val_loss: 1.0558 - val_acc: 0.7971\n",
            "Epoch 71/100\n",
            "659/659 [==============================] - 32s 49ms/step - loss: 0.0572 - acc: 0.9851 - val_loss: 0.9409 - val_acc: 0.7943\n",
            "Epoch 72/100\n",
            "659/659 [==============================] - 32s 49ms/step - loss: 0.0572 - acc: 0.9848 - val_loss: 0.9728 - val_acc: 0.8056\n",
            "Epoch 73/100\n",
            "659/659 [==============================] - 32s 49ms/step - loss: 0.0571 - acc: 0.9845 - val_loss: 1.0667 - val_acc: 0.7889\n",
            "Epoch 74/100\n",
            "659/659 [==============================] - 32s 49ms/step - loss: 0.0517 - acc: 0.9859 - val_loss: 1.1850 - val_acc: 0.7930\n",
            "Epoch 75/100\n",
            "659/659 [==============================] - 32s 48ms/step - loss: 0.0542 - acc: 0.9851 - val_loss: 1.1991 - val_acc: 0.7869\n",
            "Epoch 76/100\n",
            "659/659 [==============================] - 32s 49ms/step - loss: 0.0493 - acc: 0.9871 - val_loss: 0.9952 - val_acc: 0.7898\n",
            "Epoch 77/100\n",
            "659/659 [==============================] - 32s 49ms/step - loss: 0.0543 - acc: 0.9845 - val_loss: 1.1826 - val_acc: 0.7792\n",
            "Epoch 78/100\n",
            "659/659 [==============================] - 32s 49ms/step - loss: 0.0473 - acc: 0.9871 - val_loss: 0.8752 - val_acc: 0.8063\n",
            "Epoch 79/100\n",
            "659/659 [==============================] - 32s 48ms/step - loss: 0.0430 - acc: 0.9888 - val_loss: 1.0204 - val_acc: 0.7899\n",
            "Epoch 80/100\n",
            "659/659 [==============================] - 32s 49ms/step - loss: 0.0521 - acc: 0.9850 - val_loss: 0.8620 - val_acc: 0.7953\n",
            "Epoch 81/100\n",
            "659/659 [==============================] - 32s 48ms/step - loss: 0.0440 - acc: 0.9877 - val_loss: 0.9787 - val_acc: 0.7974\n",
            "Epoch 82/100\n",
            "659/659 [==============================] - 32s 49ms/step - loss: 0.0407 - acc: 0.9896 - val_loss: 1.1342 - val_acc: 0.7926\n",
            "Epoch 83/100\n",
            "659/659 [==============================] - 32s 49ms/step - loss: 0.0443 - acc: 0.9876 - val_loss: 1.2924 - val_acc: 0.7916\n",
            "Epoch 84/100\n",
            "659/659 [==============================] - 32s 48ms/step - loss: 0.0431 - acc: 0.9888 - val_loss: 1.0653 - val_acc: 0.7832\n",
            "Epoch 85/100\n",
            "659/659 [==============================] - 32s 48ms/step - loss: 0.0364 - acc: 0.9913 - val_loss: 1.0859 - val_acc: 0.7875\n",
            "Epoch 86/100\n",
            "659/659 [==============================] - 32s 48ms/step - loss: 0.0377 - acc: 0.9904 - val_loss: 1.3738 - val_acc: 0.7688\n",
            "Epoch 87/100\n",
            "659/659 [==============================] - 32s 48ms/step - loss: 0.0382 - acc: 0.9903 - val_loss: 1.2328 - val_acc: 0.7859\n",
            "Epoch 88/100\n",
            "659/659 [==============================] - 32s 48ms/step - loss: 0.0370 - acc: 0.9903 - val_loss: 1.1557 - val_acc: 0.7920\n",
            "Epoch 89/100\n",
            "659/659 [==============================] - 32s 48ms/step - loss: 0.0394 - acc: 0.9898 - val_loss: 1.4270 - val_acc: 0.7785\n",
            "Epoch 90/100\n",
            "659/659 [==============================] - 32s 49ms/step - loss: 0.0361 - acc: 0.9909 - val_loss: 1.1544 - val_acc: 0.7643\n",
            "Epoch 91/100\n",
            "659/659 [==============================] - 32s 49ms/step - loss: 0.0398 - acc: 0.9900 - val_loss: 1.2430 - val_acc: 0.7946\n",
            "Epoch 92/100\n",
            "659/659 [==============================] - 32s 49ms/step - loss: 0.0370 - acc: 0.9901 - val_loss: 1.1463 - val_acc: 0.7847\n",
            "Epoch 93/100\n",
            "659/659 [==============================] - 32s 49ms/step - loss: 0.0314 - acc: 0.9925 - val_loss: 1.0967 - val_acc: 0.7899\n",
            "Epoch 94/100\n",
            "659/659 [==============================] - 32s 48ms/step - loss: 0.0317 - acc: 0.9927 - val_loss: 1.4201 - val_acc: 0.7774\n",
            "Epoch 95/100\n",
            "659/659 [==============================] - 32s 49ms/step - loss: 0.0362 - acc: 0.9908 - val_loss: 1.0824 - val_acc: 0.7908\n",
            "Epoch 96/100\n",
            "659/659 [==============================] - 32s 49ms/step - loss: 0.0271 - acc: 0.9935 - val_loss: 1.2747 - val_acc: 0.7898\n",
            "Epoch 97/100\n",
            "659/659 [==============================] - 32s 49ms/step - loss: 0.0341 - acc: 0.9914 - val_loss: 1.2446 - val_acc: 0.7832\n",
            "Epoch 98/100\n",
            "659/659 [==============================] - 32s 48ms/step - loss: 0.0282 - acc: 0.9935 - val_loss: 1.3997 - val_acc: 0.7856\n",
            "Epoch 99/100\n",
            "659/659 [==============================] - 32s 48ms/step - loss: 0.0329 - acc: 0.9917 - val_loss: 1.2671 - val_acc: 0.7825\n",
            "Epoch 100/100\n",
            "659/659 [==============================] - 32s 49ms/step - loss: 0.0320 - acc: 0.9920 - val_loss: 0.9223 - val_acc: 0.7926\n"
          ],
          "name": "stdout"
        }
      ]
    },
    {
      "cell_type": "code",
      "metadata": {
        "id": "PLoZSVaqRJQ4",
        "colab_type": "code",
        "colab": {
          "base_uri": "https://localhost:8080/",
          "height": 541
        },
        "outputId": "2a020ddf-3eee-46fd-ad21-9a669c521953"
      },
      "source": [
        "import matplotlib.pyplot as plt\n",
        "\n",
        "def plot_graphs(history, setting):\n",
        "  plt.plot(history.history[setting])\n",
        "  plt.plot(history.history['val_'+setting])\n",
        "  plt.xlabel(\"Epochs\")\n",
        "  plt.ylabel(setting)\n",
        "  plt.legend([setting, 'val_'+setting])\n",
        "  plt.show()\n",
        "  \n",
        "plot_graphs(history2, \"acc\")\n",
        "plot_graphs(history2, \"loss\")"
      ],
      "execution_count": null,
      "outputs": [
        {
          "output_type": "display_data",
          "data": {
            "image/png": "[encoded data removed]",
            "text/plain": [
              "<Figure size 432x288 with 1 Axes>"
            ]
          },
          "metadata": {
            "tags": [],
            "needs_background": "light"
          }
        },
        {
          "output_type": "display_data",
          "data": {
            "image/png": "[encoded data removed]",
            "text/plain": [
              "<Figure size 432x288 with 1 Axes>"
            ]
          },
          "metadata": {
            "tags": [],
            "needs_background": "light"
          }
        }
      ]
    },
    {
      "cell_type": "code",
      "metadata": {
        "id": "8jY6MPJRHVsx",
        "colab_type": "code",
        "colab": {}
      },
      "source": [
        ""
      ],
      "execution_count": null,
      "outputs": []
    }
  ]
}